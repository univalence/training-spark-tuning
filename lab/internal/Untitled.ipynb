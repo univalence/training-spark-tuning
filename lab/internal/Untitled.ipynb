{
 "cells": [
  {
   "cell_type": "code",
   "execution_count": 1,
   "id": "805dbe88-e63f-47a5-8e5f-81ab504e694e",
   "metadata": {
    "scrolled": true,
    "tags": []
   },
   "outputs": [
    {
     "data": {
      "text/plain": [
       "\u001b[32mimport \u001b[39m\u001b[36m$ivy.$                                   \n",
       "\u001b[39m\n",
       "\u001b[32mimport \u001b[39m\u001b[36m$ivy.$                                  \n",
       "\u001b[39m\n",
       "\u001b[32mimport \u001b[39m\u001b[36m$ivy.$                               \n",
       "\n",
       "\u001b[39m\n",
       "\u001b[32mimport \u001b[39m\u001b[36morg.apache.logging.log4j.Level\n",
       "\u001b[39m\n",
       "\u001b[32mimport \u001b[39m\u001b[36morg.apache.logging.log4j.core.config.Configurator\n",
       "\n",
       "// Avoid disturbing logs\n",
       "\u001b[39m"
      ]
     },
     "execution_count": 1,
     "metadata": {},
     "output_type": "execute_result"
    }
   ],
   "source": [
    "import $ivy.`org.apache.spark::spark-core:3.3.2`\n",
    "import $ivy.`org.apache.spark::spark-sql:3.3.2`\n",
    "import $ivy.`org.slf4j:slf4j-reload4j:2.0.6`\n",
    "\n",
    "import org.apache.logging.log4j.Level\n",
    "import org.apache.logging.log4j.core.config.Configurator\n",
    "\n",
    "// Avoid disturbing logs\n",
    "Configurator.setRootLevel(Level.OFF)"
   ]
  },
  {
   "cell_type": "code",
   "execution_count": 2,
   "id": "e5d6bf1c-db18-48cc-86b4-a64475552064",
   "metadata": {
    "tags": []
   },
   "outputs": [
    {
     "name": "stdout",
     "output_type": "stream",
     "text": [
      "Loading spark-stubs\n",
      "Getting spark JARs\n"
     ]
    },
    {
     "name": "stderr",
     "output_type": "stream",
     "text": [
      "SLF4J: No SLF4J providers were found.\n",
      "SLF4J: Defaulting to no-operation (NOP) logger implementation\n",
      "SLF4J: See https://www.slf4j.org/codes.html#noProviders for further details.\n"
     ]
    },
    {
     "name": "stdout",
     "output_type": "stream",
     "text": [
      "Creating SparkSession\n"
     ]
    },
    {
     "data": {
      "text/html": [
       "<a target=\"_blank\" href=\"http://25f8e6aa3c81:4040\">Spark UI</a>"
      ]
     },
     "metadata": {},
     "output_type": "display_data"
    },
    {
     "data": {
      "text/plain": [
       "\u001b[32mimport \u001b[39m\u001b[36morg.apache.spark.sql._\n",
       "\u001b[39m\n",
       "\u001b[32mimport \u001b[39m\u001b[36morg.apache.spark.sql.functions._\n",
       "\u001b[39m\n",
       "\u001b[32mimport \u001b[39m\u001b[36morg.apache.spark.rdd._\n",
       "\n",
       "\u001b[39m\n",
       "\u001b[36mspark\u001b[39m: \u001b[32mSparkSession\u001b[39m = org.apache.spark.sql.SparkSession@4fdfdba\n",
       "\u001b[32mimport \u001b[39m\u001b[36mspark.implicits._\n",
       "\n",
       "// Ce script fournit que élément supplémentaires pour rendre l'affichage plus confortable\n",
       "\u001b[39m\n",
       "\u001b[32mimport \u001b[39m\u001b[36m$file.$                      , spark_helper._\u001b[39m"
      ]
     },
     "execution_count": 2,
     "metadata": {},
     "output_type": "execute_result"
    }
   ],
   "source": [
    "import org.apache.spark.sql._\n",
    "import org.apache.spark.sql.functions._\n",
    "import org.apache.spark.rdd._\n",
    "\n",
    "val spark = {\n",
    "  NotebookSparkSession.builder()\n",
    "    .master(\"local[*]\")\n",
    "    // L'appel ci-dessous sert à donner un nom à votre application\n",
    "    // Ce apparaîtra notamment dans la Spark UI\n",
    "    .appName(\"Sales Analysis - SparkSQL\")\n",
    "    .getOrCreate()\n",
    "}\n",
    "\n",
    "import spark.implicits._\n",
    "\n",
    "// Ce script fournit que élément supplémentaires pour rendre l'affichage plus confortable\n",
    "import $file.^.internal.spark_helper, spark_helper._"
   ]
  },
  {
   "cell_type": "code",
   "execution_count": 4,
   "id": "612cd135-54d8-410a-80eb-eb6957fd70ef",
   "metadata": {
    "tags": []
   },
   "outputs": [
    {
     "data": {
      "text/html": [
       "<div>\n",
       "  <span style=\"float: left;\">csv at cmd3.sc:2</span>\n",
       "</div>\n"
      ]
     },
     "metadata": {},
     "output_type": "display_data"
    },
    {
     "data": {
      "text/html": [
       "<div class=\"progress\">\n",
       "  <div class=\"progress-bar\" role=\"progressbar\" style=\"background-color: blue; width: 100%; word-wrap: normal; white-space: nowrap; text-align: center; color: white\" aria-valuenow=\"100\" aria-valuemin=\"0\" aria-valuemax=\"100\">\n",
       "    1 / 1\n",
       "  </div>\n",
       "  <div class=\"progress-bar\" role=\"progressbar\" style=\"background-color: red; width: 0%\" aria-valuenow=\"0\" aria-valuemin=\"0\" aria-valuemax=\"100\"></div>\n",
       "</div>\n"
      ]
     },
     "metadata": {},
     "output_type": "display_data"
    },
    {
     "data": {
      "text/html": [
       "<div>\n",
       "  <span style=\"float: left;\">showHTML</span>\n",
       "</div>\n"
      ]
     },
     "metadata": {},
     "output_type": "display_data"
    },
    {
     "data": {
      "text/html": [
       "<div class=\"progress\">\n",
       "  <div class=\"progress-bar\" role=\"progressbar\" style=\"background-color: blue; width: 100%; word-wrap: normal; white-space: nowrap; text-align: center; color: white\" aria-valuenow=\"100\" aria-valuemin=\"0\" aria-valuemax=\"100\">\n",
       "    1 / 1\n",
       "  </div>\n",
       "  <div class=\"progress-bar\" role=\"progressbar\" style=\"background-color: red; width: 0%\" aria-valuenow=\"0\" aria-valuemin=\"0\" aria-valuemax=\"100\"></div>\n",
       "</div>\n"
      ]
     },
     "metadata": {},
     "output_type": "display_data"
    },
    {
     "data": {
      "text/html": [
       "\n",
       "      <table class=\"table\">\n",
       "        <tr>\n",
       "        <th>station_name</th><th>station_rating</th><th>station_review_count</th><th>city</th><th>postal_code</th><th>county</th><th>departement</th><th>region</th><th>latitude</th><th>longitude</th>\n",
       "        </tr>\n",
       "        <tr><td>Lus la Jarjatte</td><td>5.0</td><td>1</td><td>Lus-la-Croix-Haute</td><td>26620</td><td>Die</td><td>Drôme</td><td>Auvergne-Rhône-Alpes</td><td>44.679971</td><td>5.7661523</td></tr><tr><td>Panticosa</td><td>5.0</td><td>1</td><td>null</td><td>null</td><td>null</td><td>null</td><td>null</td><td>null</td><td>null</td></tr><tr><td>Formigal</td><td>4.5</td><td>21</td><td>null</td><td>null</td><td>null</td><td>null</td><td>null</td><td>null</td><td>null</td></tr><tr><td>Cerler</td><td>4.5</td><td>10</td><td>null</td><td>null</td><td>null</td><td>null</td><td>null</td><td>null</td><td>null</td></tr><tr><td>Baqueira / Beret</td><td>4.5</td><td>0</td><td>null</td><td>null</td><td>null</td><td>null</td><td>null</td><td>null</td><td>null</td></tr><tr><td>Val d'Isère</td><td>4.4</td><td>125</td><td>Val-d'Isère</td><td>73150</td><td>Albertville</td><td>Savoie</td><td>Auvergne-Rhône-Alpes</td><td>45.4498666</td><td>6.9804421</td></tr><tr><td>La Grave</td><td>4.4</td><td>69</td><td>La Grave</td><td>05320</td><td>Briançon</td><td>Hautes-Alpes</td><td>Provence-Alpes-Cô...</td><td>45.0455379</td><td>6.3068184</td></tr><tr><td>La Sambuy</td><td>4.4</td><td>24</td><td>null</td><td>null</td><td>null</td><td>null</td><td>null</td><td>null</td><td>null</td></tr><tr><td>Le granier</td><td>4.4</td><td>8</td><td>Aime-la-Plagne</td><td>73210</td><td>Albertville</td><td>Savoie</td><td>Auvergne-Rhône-Alpes</td><td>45.60089445</td><td>6.62550908591405</td></tr><tr><td>Mont-Saxonnex</td><td>4.4</td><td>7</td><td>Mont-Saxonnex</td><td>74130</td><td>Bonneville</td><td>Haute-Savoie</td><td>Auvergne-Rhône-Alpes</td><td>46.0508713</td><td>6.4792764</td></tr><tr><td>Les Karellis</td><td>4.3</td><td>50</td><td>Montricher-Albanne</td><td>73870</td><td>Saint-Jean-de-Mau...</td><td>Savoie</td><td>Auvergne-Rhône-Alpes</td><td>45.215851</td><td>6.399584218507</td></tr><tr><td>Peisey-Vallandry</td><td>4.3</td><td>22</td><td>null</td><td>null</td><td>null</td><td>null</td><td>null</td><td>null</td><td>null</td></tr><tr><td>Le Mourtis</td><td>4.3</td><td>22</td><td>null</td><td>null</td><td>null</td><td>null</td><td>null</td><td>null</td><td>null</td></tr><tr><td>Lans en Vercors</td><td>4.3</td><td>17</td><td>Lans-en-Vercors</td><td>38250</td><td>Grenoble</td><td>Isère</td><td>Auvergne-Rhône-Alpes</td><td>45.1277768</td><td>5.5891386</td></tr><tr><td>La Giettaz en Aravis</td><td>4.3</td><td>13</td><td>La Giettaz</td><td>73590</td><td>Albertville</td><td>Savoie</td><td>Auvergne-Rhône-Alpes</td><td>45.8827863</td><td>6.5334974</td></tr><tr><td>Sainte-Anne</td><td>4.3</td><td>11</td><td>Sainte-Anne</td><td>97180</td><td>Pointe-à-Pitre</td><td>Pointe-à-Pitre</td><td>Guadeloupe</td><td>16.225685</td><td>-61.3859128</td></tr><tr><td>Pic du Midi de Bi...</td><td>4.3</td><td>10</td><td>Bagnères-de-Bigorre</td><td>null</td><td>Bagnères-de-Bigorre</td><td>Hautes-Pyrénées</td><td>Occitanie</td><td>42.9367764</td><td>0.1416107</td></tr><tr><td>Saint Hugues Les ...</td><td>4.3</td><td>8</td><td>null</td><td>null</td><td>null</td><td>null</td><td>null</td><td>null</td><td>null</td></tr><tr><td>Bessans</td><td>4.3</td><td>4</td><td>Bessans</td><td>73480</td><td>Saint-Jean-de-Mau...</td><td>Savoie</td><td>Auvergne-Rhône-Alpes</td><td>45.3205925</td><td>6.9940386</td></tr><tr><td>Serre Eyraud</td><td>4.3</td><td>1</td><td>Serre-Eyraud</td><td>null</td><td>Gap</td><td>Hautes-Alpes</td><td>Provence-Alpes-Cô...</td><td>44.6790111</td><td>6.2752537</td></tr>\n",
       "      </table>"
      ]
     },
     "metadata": {},
     "output_type": "display_data"
    },
    {
     "data": {
      "text/plain": [
       "\u001b[36mdata\u001b[39m: \u001b[32mDataFrame\u001b[39m = [station_name: string, station_rating: string ... 8 more fields]\n",
       "\u001b[36mresult\u001b[39m: \u001b[32mDataset\u001b[39m[\u001b[32mRow\u001b[39m] = [station_name: string, station_rating: string ... 8 more fields]"
      ]
     },
     "execution_count": 4,
     "metadata": {},
     "output_type": "execute_result"
    }
   ],
   "source": [
    "val data = (spark.read.option(\"header\", true)\n",
    "                   .csv(\"stations.csv\"))\n",
    "val result = (data\n",
    "    .select(\"*\")\n",
    "    .where(data(\"station_rating\") >= 4.0))\n",
    "\n",
    "result.showHTML()"
   ]
  },
  {
   "cell_type": "code",
   "execution_count": 5,
   "id": "1734a67e-ef49-4996-94be-1a5e6ec34409",
   "metadata": {
    "tags": []
   },
   "outputs": [
    {
     "name": "stdout",
     "output_type": "stream",
     "text": [
      "== Parsed Logical Plan ==\n",
      "'Filter (station_rating#151 >= 4.0)\n",
      "+- Project [station_name#150, station_rating#151, station_review_count#152, city#153, postal_code#154, county#155, departement#156, region#157, latitude#158, longitude#159]\n",
      "   +- Relation [station_name#150,station_rating#151,station_review_count#152,city#153,postal_code#154,county#155,departement#156,region#157,latitude#158,longitude#159] csv\n",
      "\n",
      "== Analyzed Logical Plan ==\n",
      "station_name: string, station_rating: string, station_review_count: string, city: string, postal_code: string, county: string, departement: string, region: string, latitude: string, longitude: string\n",
      "Filter (cast(station_rating#151 as double) >= 4.0)\n",
      "+- Project [station_name#150, station_rating#151, station_review_count#152, city#153, postal_code#154, county#155, departement#156, region#157, latitude#158, longitude#159]\n",
      "   +- Relation [station_name#150,station_rating#151,station_review_count#152,city#153,postal_code#154,county#155,departement#156,region#157,latitude#158,longitude#159] csv\n",
      "\n",
      "== Optimized Logical Plan ==\n",
      "Filter (isnotnull(station_rating#151) AND (cast(station_rating#151 as double) >= 4.0))\n",
      "+- Relation [station_name#150,station_rating#151,station_review_count#152,city#153,postal_code#154,county#155,departement#156,region#157,latitude#158,longitude#159] csv\n",
      "\n",
      "== Physical Plan ==\n",
      "*(1) Filter (isnotnull(station_rating#151) AND (cast(station_rating#151 as double) >= 4.0))\n",
      "+- FileScan csv [station_name#150,station_rating#151,station_review_count#152,city#153,postal_code#154,county#155,departement#156,region#157,latitude#158,longitude#159] Batched: false, DataFilters: [isnotnull(station_rating#151), (cast(station_rating#151 as double) >= 4.0)], Format: CSV, Location: InMemoryFileIndex(1 paths)[file:/home/jovyan/work/internal/stations.csv], PartitionFilters: [], PushedFilters: [IsNotNull(station_rating)], ReadSchema: struct<station_name:string,station_rating:string,station_review_count:string,city:string,postal_c...\n",
      "\n"
     ]
    }
   ],
   "source": [
    "result.explain(extended=true)"
   ]
  },
  {
   "cell_type": "code",
   "execution_count": null,
   "id": "dd94f08a-4874-467d-8c9c-3c39987389e6",
   "metadata": {},
   "outputs": [],
   "source": []
  }
 ],
 "metadata": {
  "kernelspec": {
   "display_name": "Scala 2.13",
   "language": "scala",
   "name": "scala213"
  },
  "language_info": {
   "codemirror_mode": "text/x-scala",
   "file_extension": ".sc",
   "mimetype": "text/x-scala",
   "name": "scala",
   "nbconvert_exporter": "script",
   "version": "2.13.10"
  }
 },
 "nbformat": 4,
 "nbformat_minor": 5
}
