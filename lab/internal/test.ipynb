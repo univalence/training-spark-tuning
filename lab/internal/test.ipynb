{
 "cells": [
  {
   "cell_type": "code",
   "execution_count": 1,
   "id": "e04261f1-7fb3-4bed-a513-f8803ac68dbc",
   "metadata": {
    "scrolled": true,
    "tags": []
   },
   "outputs": [
    {
     "name": "stdout",
     "output_type": "stream",
     "text": [
      "Compiling /home/jovyan/work/internal/spark_helper.sc\n"
     ]
    },
    {
     "data": {
      "text/plain": [
       "\u001b[32mimport \u001b[39m\u001b[36m$file.$\u001b[39m\n",
       "\u001b[32mimport \u001b[39m\u001b[36mspark_helper.implicits._\u001b[39m\n",
       "\u001b[36mres1_2\u001b[39m: \u001b[32mBoolean\u001b[39m = \u001b[32mtrue\u001b[39m"
      ]
     },
     "execution_count": 1,
     "metadata": {},
     "output_type": "execute_result"
    }
   ],
   "source": [
    "import $file.spark_helper\n",
    "import spark_helper.implicits._\n",
    "spark_helper.init()"
   ]
  },
  {
   "cell_type": "code",
   "execution_count": 4,
   "id": "e322f294-330d-4e92-b6b1-34f028b33168",
   "metadata": {
    "tags": []
   },
   "outputs": [
    {
     "data": {
      "text/html": [
       "<pre style=\"background: black; color: lightgray; padding: 1ex\">\n",
       "<span style=\"color: cyan\">/home/jovyan/work/internal $</span> <span style=\"color: white\">ls</span>\n",
       "data.txt\n",
       "spark_helper_2.12.sc\n",
       "spark_helper.sc\n",
       "stations.csv\n",
       "test.ipynb\n",
       "Untitled.ipynb</pre>\n"
      ]
     },
     "metadata": {},
     "output_type": "display_data"
    },
    {
     "data": {
      "text/html": [
       "<pre style=\"background: black; color: lightgray; padding: 1ex\">\n",
       "<span style=\"color: cyan\">/home/jovyan/work/internal $</span> <span style=\"color: white\">ls</span>\n",
       "data.txt\n",
       "spark_helper_2.12.sc\n",
       "spark_helper.sc\n",
       "stations.csv\n",
       "test.ipynb\n",
       "Untitled.ipynb</pre>\n"
      ]
     },
     "metadata": {},
     "output_type": "display_data"
    }
   ],
   "source": [
    "%%shell\n",
    "ls\n",
    "ls"
   ]
  },
  {
   "cell_type": "code",
   "execution_count": 4,
   "id": "608c6731-3e57-45a2-a8d4-7c94090ec494",
   "metadata": {},
   "outputs": [
    {
     "data": {
      "text/html": [
       "<p>parts.size: 2 - magic: %%data - entries: Map(limit -> 2, truncate -> 2)</p>"
      ]
     },
     "metadata": {},
     "output_type": "display_data"
    },
    {
     "data": {
      "text/html": [
       "\n",
       "          <table class=\"table\">\n",
       "            <tr><td style=\"text-align: left\">ab</td></tr><tr><td style=\"text-align: left\">de</td></tr>\n",
       "          </table>"
      ]
     },
     "metadata": {},
     "output_type": "display_data"
    }
   ],
   "source": [
    "%%data limit=2,truncate=2\n",
    "\n",
    "Array(\"abc\", \"def\", \"ghi\", \"jkl\")"
   ]
  },
  {
   "cell_type": "code",
   "execution_count": 1,
   "id": "ed0a4aef-0095-4247-af0a-c1f1234d10e3",
   "metadata": {},
   "outputs": [
    {
     "data": {
      "text/plain": [
       "\u001b[36mres1\u001b[39m: \u001b[32malmond\u001b[39m.\u001b[32mapi\u001b[39m.\u001b[32mFullJupyterApi\u001b[39m = almond.JupyterApiImpl@4ce086f8"
      ]
     },
     "execution_count": 1,
     "metadata": {},
     "output_type": "execute_result"
    }
   ],
   "source": [
    "kernel"
   ]
  },
  {
   "cell_type": "code",
   "execution_count": 4,
   "id": "21e54cb6-870a-4784-a677-9becb76ea3a2",
   "metadata": {},
   "outputs": [
    {
     "data": {
      "text/plain": [
       "\u001b[32mimport \u001b[39m\u001b[36mjava.net.InetAddress\n",
       "\n",
       "\u001b[39m\n",
       "\u001b[36mres3_1\u001b[39m: \u001b[32mString\u001b[39m = \u001b[32m\"172.23.0.2\"\u001b[39m"
      ]
     },
     "execution_count": 4,
     "metadata": {},
     "output_type": "execute_result"
    }
   ],
   "source": [
    "import java.net.InetAddress\n",
    "\n",
    "InetAddress.getLocalHost().getHostAddress()"
   ]
  },
  {
   "cell_type": "code",
   "execution_count": 1,
   "id": "a8e96c5c-1bae-487a-b5f6-244405ecba25",
   "metadata": {
    "scrolled": true
   },
   "outputs": [
    {
     "data": {
      "text/html": [
       "Loading <code>spark-stubs</code>"
      ]
     },
     "metadata": {},
     "output_type": "display_data"
    },
    {
     "data": {
      "text/html": [
       "Getting spark JARs\n"
      ]
     },
     "metadata": {},
     "output_type": "display_data"
    },
    {
     "data": {
      "text/html": [
       "Creating SparkSession\n"
      ]
     },
     "metadata": {},
     "output_type": "display_data"
    },
    {
     "name": "stderr",
     "output_type": "stream",
     "text": [
      "Using Spark's default log4j profile: org/apache/spark/log4j2-defaults.properties\n",
      "23/07/26 10:44:49 INFO SparkContext: Running Spark version 3.4.1\n",
      "23/07/26 10:44:49 WARN NativeCodeLoader: Unable to load native-hadoop library for your platform... using builtin-java classes where applicable\n",
      "23/07/26 10:44:49 INFO ResourceUtils: ==============================================================\n",
      "23/07/26 10:44:49 INFO ResourceUtils: No custom resources configured for spark.driver.\n",
      "23/07/26 10:44:49 INFO ResourceUtils: ==============================================================\n",
      "23/07/26 10:44:49 INFO SparkContext: Submitted application: hello\n",
      "23/07/26 10:44:49 INFO ResourceProfile: Default ResourceProfile created, executor resources: Map(cores -> name: cores, amount: 1, script: , vendor: , memory -> name: memory, amount: 1024, script: , vendor: , offHeap -> name: offHeap, amount: 0, script: , vendor: ), task resources: Map(cpus -> name: cpus, amount: 1.0)\n",
      "23/07/26 10:44:49 INFO ResourceProfile: Limiting resource is cpu\n",
      "23/07/26 10:44:49 INFO ResourceProfileManager: Added ResourceProfile id: 0\n",
      "23/07/26 10:44:49 INFO SecurityManager: Changing view acls to: jovyan\n",
      "23/07/26 10:44:49 INFO SecurityManager: Changing modify acls to: jovyan\n",
      "23/07/26 10:44:49 INFO SecurityManager: Changing view acls groups to: \n",
      "23/07/26 10:44:49 INFO SecurityManager: Changing modify acls groups to: \n",
      "23/07/26 10:44:49 INFO SecurityManager: SecurityManager: authentication disabled; ui acls disabled; users with view permissions: jovyan; groups with view permissions: EMPTY; users with modify permissions: jovyan; groups with modify permissions: EMPTY\n",
      "23/07/26 10:44:50 INFO Utils: Successfully started service 'sparkDriver' on port 35089.\n",
      "23/07/26 10:44:50 INFO SparkEnv: Registering MapOutputTracker\n",
      "23/07/26 10:44:50 INFO SparkEnv: Registering BlockManagerMaster\n",
      "23/07/26 10:44:50 INFO BlockManagerMasterEndpoint: Using org.apache.spark.storage.DefaultTopologyMapper for getting topology information\n",
      "23/07/26 10:44:50 INFO BlockManagerMasterEndpoint: BlockManagerMasterEndpoint up\n",
      "23/07/26 10:44:50 INFO SparkEnv: Registering BlockManagerMasterHeartbeat\n",
      "23/07/26 10:44:50 INFO DiskBlockManager: Created local directory at /tmp/blockmgr-1ec75d12-2580-4cce-bfc1-5cee01bc7304\n",
      "23/07/26 10:44:50 INFO MemoryStore: MemoryStore started with capacity 345.0 MiB\n",
      "23/07/26 10:44:50 INFO SparkEnv: Registering OutputCommitCoordinator\n",
      "23/07/26 10:44:50 INFO JettyUtils: Start Jetty 0.0.0.0:4040 for SparkUI\n",
      "23/07/26 10:44:50 INFO Utils: Successfully started service 'SparkUI' on port 4040.\n",
      "23/07/26 10:44:50 INFO SparkContext: Added JAR file:/home/jovyan/.cache/coursier/v1/https/jitpack.io/com/github/jupyter/jvm-repr/0.4.0/jvm-repr-0.4.0.jar at spark://0adca2debb39:35089/jars/jvm-repr-0.4.0.jar with timestamp 1690368289361\n",
      "23/07/26 10:44:50 INFO SparkContext: Added JAR file:/home/jovyan/.cache/coursier/v1/https/repo1.maven.org/maven2/com/github/javaparser/javaparser-core/3.2.5/javaparser-core-3.2.5.jar at spark://0adca2debb39:35089/jars/javaparser-core-3.2.5.jar with timestamp 1690368289361\n",
      "23/07/26 10:44:50 INFO SparkContext: Added JAR file:/home/jovyan/.cache/coursier/v1/https/repo1.maven.org/maven2/com/lihaoyi/fansi_2.13/0.4.0/fansi_2.13-0.4.0.jar at spark://0adca2debb39:35089/jars/fansi_2.13-0.4.0.jar with timestamp 1690368289361\n",
      "23/07/26 10:44:50 INFO SparkContext: Added JAR file:/home/jovyan/.cache/coursier/v1/https/repo1.maven.org/maven2/com/lihaoyi/fastparse_2.13/3.0.0/fastparse_2.13-3.0.0.jar at spark://0adca2debb39:35089/jars/fastparse_2.13-3.0.0.jar with timestamp 1690368289361\n",
      "23/07/26 10:44:50 INFO SparkContext: Added JAR file:/home/jovyan/.cache/coursier/v1/https/repo1.maven.org/maven2/com/lihaoyi/mainargs_2.13/0.3.0/mainargs_2.13-0.3.0.jar at spark://0adca2debb39:35089/jars/mainargs_2.13-0.3.0.jar with timestamp 1690368289361\n",
      "23/07/26 10:44:50 INFO SparkContext: Added JAR file:/home/jovyan/.cache/coursier/v1/https/repo1.maven.org/maven2/com/lihaoyi/os-lib_2.13/0.9.1/os-lib_2.13-0.9.1.jar at spark://0adca2debb39:35089/jars/os-lib_2.13-0.9.1.jar with timestamp 1690368289361\n",
      "23/07/26 10:44:50 INFO SparkContext: Added JAR file:/home/jovyan/.cache/coursier/v1/https/repo1.maven.org/maven2/com/lihaoyi/pprint_2.13/0.8.1/pprint_2.13-0.8.1.jar at spark://0adca2debb39:35089/jars/pprint_2.13-0.8.1.jar with timestamp 1690368289361\n",
      "23/07/26 10:44:50 INFO SparkContext: Added JAR file:/home/jovyan/.cache/coursier/v1/https/repo1.maven.org/maven2/com/lihaoyi/scalaparse_2.13/3.0.0/scalaparse_2.13-3.0.0.jar at spark://0adca2debb39:35089/jars/scalaparse_2.13-3.0.0.jar with timestamp 1690368289361\n",
      "23/07/26 10:44:50 INFO SparkContext: Added JAR file:/home/jovyan/.cache/coursier/v1/https/repo1.maven.org/maven2/io/get-coursier/interface/1.0.18/interface-1.0.18.jar at spark://0adca2debb39:35089/jars/interface-1.0.18.jar with timestamp 1690368289361\n",
      "23/07/26 10:44:51 INFO SparkContext: Added JAR file:/home/jovyan/.cache/coursier/v1/https/repo1.maven.org/maven2/org/javassist/javassist/3.21.0-GA/javassist-3.21.0-GA.jar at spark://0adca2debb39:35089/jars/javassist-3.21.0-GA.jar with timestamp 1690368289361\n",
      "23/07/26 10:44:51 INFO SparkContext: Added JAR file:/home/jovyan/.cache/coursier/v1/https/repo1.maven.org/maven2/org/scala-lang/modules/scala-collection-compat_2.13/2.11.0/scala-collection-compat_2.13-2.11.0.jar at spark://0adca2debb39:35089/jars/scala-collection-compat_2.13-2.11.0.jar with timestamp 1690368289361\n",
      "23/07/26 10:44:51 INFO SparkContext: Added JAR file:/home/jovyan/.cache/coursier/v1/https/repo1.maven.org/maven2/sh/almond/interpreter-api_2.13/0.14.0-RC12/interpreter-api_2.13-0.14.0-RC12.jar at spark://0adca2debb39:35089/jars/interpreter-api_2.13-0.14.0-RC12.jar with timestamp 1690368289361\n",
      "23/07/26 10:44:51 INFO SparkContext: Added JAR file:/home/jovyan/.cache/coursier/v1/https/repo1.maven.org/maven2/sh/almond/jupyter-api_2.13/0.14.0-RC12/jupyter-api_2.13-0.14.0-RC12.jar at spark://0adca2debb39:35089/jars/jupyter-api_2.13-0.14.0-RC12.jar with timestamp 1690368289361\n",
      "23/07/26 10:44:51 INFO SparkContext: Added JAR file:/home/jovyan/.cache/coursier/v1/https/repo1.maven.org/maven2/sh/almond/scala-kernel-api_2.13.11/0.14.0-RC12/scala-kernel-api_2.13.11-0.14.0-RC12.jar at spark://0adca2debb39:35089/jars/scala-kernel-api_2.13.11-0.14.0-RC12.jar with timestamp 1690368289361\n",
      "23/07/26 10:44:51 INFO SparkContext: Added JAR file:/home/jovyan/.cache/coursier/v1/https/repo1.maven.org/maven2/sh/almond/tmp/ammonite/ammonite-compiler-interface_2.13.11/3.0.0-M0-50-f03f2d82/ammonite-compiler-interface_2.13.11-3.0.0-M0-50-f03f2d82.jar at spark://0adca2debb39:35089/jars/ammonite-compiler-interface_2.13.11-3.0.0-M0-50-f03f2d82.jar with timestamp 1690368289361\n",
      "23/07/26 10:44:51 INFO SparkContext: Added JAR file:/home/jovyan/.cache/coursier/v1/https/repo1.maven.org/maven2/sh/almond/tmp/ammonite/ammonite-compiler_2.13.11/3.0.0-M0-50-f03f2d82/ammonite-compiler_2.13.11-3.0.0-M0-50-f03f2d82.jar at spark://0adca2debb39:35089/jars/ammonite-compiler_2.13.11-3.0.0-M0-50-f03f2d82.jar with timestamp 1690368289361\n",
      "23/07/26 10:44:51 INFO SparkContext: Added JAR file:/home/jovyan/.cache/coursier/v1/https/repo1.maven.org/maven2/sh/almond/tmp/ammonite/ammonite-interp-api_2.13.11/3.0.0-M0-50-f03f2d82/ammonite-interp-api_2.13.11-3.0.0-M0-50-f03f2d82.jar at spark://0adca2debb39:35089/jars/ammonite-interp-api_2.13.11-3.0.0-M0-50-f03f2d82.jar with timestamp 1690368289361\n",
      "23/07/26 10:44:51 INFO SparkContext: Added JAR file:/home/jovyan/.cache/coursier/v1/https/repo1.maven.org/maven2/sh/almond/tmp/ammonite/ammonite-repl-api_2.13.11/3.0.0-M0-50-f03f2d82/ammonite-repl-api_2.13.11-3.0.0-M0-50-f03f2d82.jar at spark://0adca2debb39:35089/jars/ammonite-repl-api_2.13.11-3.0.0-M0-50-f03f2d82.jar with timestamp 1690368289361\n",
      "23/07/26 10:44:51 INFO SparkContext: Added JAR file:/home/jovyan/.cache/coursier/v1/https/repo1.maven.org/maven2/sh/almond/tmp/ammonite/ammonite-util_2.13/3.0.0-M0-50-f03f2d82/ammonite-util_2.13-3.0.0-M0-50-f03f2d82.jar at spark://0adca2debb39:35089/jars/ammonite-util_2.13-3.0.0-M0-50-f03f2d82.jar with timestamp 1690368289361\n",
      "23/07/26 10:44:51 INFO SparkContext: Added JAR file:/home/jovyan/.local/share/jupyter/kernels/scala213/launcher.jar at spark://0adca2debb39:35089/jars/launcher.jar with timestamp 1690368289361\n",
      "23/07/26 10:44:51 INFO SparkContext: Added JAR file:/home/jovyan/.cache/coursier/v1/https/repo1.maven.org/maven2/org/apache/yetus/audience-annotations/0.5.0/audience-annotations-0.5.0.jar at spark://0adca2debb39:35089/jars/audience-annotations-0.5.0.jar with timestamp 1690368289361\n",
      "23/07/26 10:44:51 INFO SparkContext: Added JAR file:/home/jovyan/.cache/coursier/v1/https/repo1.maven.org/maven2/org/apache/spark/spark-sql_2.13/3.2.0/spark-sql_2.13-3.2.0.jar at spark://0adca2debb39:35089/jars/spark-sql_2.13-3.2.0.jar with timestamp 1690368289361\n",
      "23/07/26 10:44:51 INFO SparkContext: Added JAR file:/home/jovyan/.cache/coursier/v1/https/repo1.maven.org/maven2/org/rocksdb/rocksdbjni/6.20.3/rocksdbjni-6.20.3.jar at spark://0adca2debb39:35089/jars/rocksdbjni-6.20.3.jar with timestamp 1690368289361\n",
      "23/07/26 10:44:51 INFO SparkContext: Added JAR file:/home/jovyan/.cache/coursier/v1/https/repo1.maven.org/maven2/org/apache/spark/spark-sketch_2.13/3.2.0/spark-sketch_2.13-3.2.0.jar at spark://0adca2debb39:35089/jars/spark-sketch_2.13-3.2.0.jar with timestamp 1690368289361\n",
      "23/07/26 10:44:51 INFO SparkContext: Added JAR file:/home/jovyan/.cache/coursier/v1/https/repo1.maven.org/maven2/org/apache/spark/spark-core_2.13/3.2.0/spark-core_2.13-3.2.0.jar at spark://0adca2debb39:35089/jars/spark-core_2.13-3.2.0.jar with timestamp 1690368289361\n",
      "23/07/26 10:44:51 INFO SparkContext: Added JAR file:/home/jovyan/.cache/coursier/v1/https/repo1.maven.org/maven2/org/apache/spark/spark-catalyst_2.13/3.2.0/spark-catalyst_2.13-3.2.0.jar at spark://0adca2debb39:35089/jars/spark-catalyst_2.13-3.2.0.jar with timestamp 1690368289361\n",
      "23/07/26 10:44:51 INFO SparkContext: Added JAR file:/home/jovyan/.cache/coursier/v1/https/repo1.maven.org/maven2/org/apache/spark/spark-tags_2.13/3.2.0/spark-tags_2.13-3.2.0.jar at spark://0adca2debb39:35089/jars/spark-tags_2.13-3.2.0.jar with timestamp 1690368289361\n",
      "23/07/26 10:44:51 INFO SparkContext: Added JAR file:/home/jovyan/.cache/coursier/v1/https/repo1.maven.org/maven2/org/scala-lang/modules/scala-parallel-collections_2.13/1.0.3/scala-parallel-collections_2.13-1.0.3.jar at spark://0adca2debb39:35089/jars/scala-parallel-collections_2.13-1.0.3.jar with timestamp 1690368289361\n",
      "23/07/26 10:44:51 INFO SparkContext: Added JAR file:/home/jovyan/.cache/coursier/v1/https/repo1.maven.org/maven2/org/apache/orc/orc-core/1.6.11/orc-core-1.6.11.jar at spark://0adca2debb39:35089/jars/orc-core-1.6.11.jar with timestamp 1690368289361\n",
      "23/07/26 10:44:51 INFO SparkContext: Added JAR file:/home/jovyan/.cache/coursier/v1/https/repo1.maven.org/maven2/org/apache/orc/orc-mapreduce/1.6.11/orc-mapreduce-1.6.11.jar at spark://0adca2debb39:35089/jars/orc-mapreduce-1.6.11.jar with timestamp 1690368289361\n",
      "23/07/26 10:44:51 INFO SparkContext: Added JAR file:/home/jovyan/.cache/coursier/v1/https/repo1.maven.org/maven2/org/apache/hive/hive-storage-api/2.7.2/hive-storage-api-2.7.2.jar at spark://0adca2debb39:35089/jars/hive-storage-api-2.7.2.jar with timestamp 1690368289361\n",
      "23/07/26 10:44:51 INFO SparkContext: Added JAR file:/home/jovyan/.cache/coursier/v1/https/repo1.maven.org/maven2/org/apache/parquet/parquet-column/1.12.1/parquet-column-1.12.1.jar at spark://0adca2debb39:35089/jars/parquet-column-1.12.1.jar with timestamp 1690368289361\n",
      "23/07/26 10:44:51 INFO SparkContext: Added JAR file:/home/jovyan/.cache/coursier/v1/https/repo1.maven.org/maven2/org/apache/parquet/parquet-hadoop/1.12.1/parquet-hadoop-1.12.1.jar at spark://0adca2debb39:35089/jars/parquet-hadoop-1.12.1.jar with timestamp 1690368289361\n",
      "23/07/26 10:44:51 INFO SparkContext: Added JAR file:/home/jovyan/.cache/coursier/v1/https/repo1.maven.org/maven2/com/fasterxml/jackson/core/jackson-databind/2.12.3/jackson-databind-2.12.3.jar at spark://0adca2debb39:35089/jars/jackson-databind-2.12.3.jar with timestamp 1690368289361\n",
      "23/07/26 10:44:51 INFO SparkContext: Added JAR file:/home/jovyan/.cache/coursier/v1/https/repo1.maven.org/maven2/org/apache/xbean/xbean-asm9-shaded/4.20/xbean-asm9-shaded-4.20.jar at spark://0adca2debb39:35089/jars/xbean-asm9-shaded-4.20.jar with timestamp 1690368289361\n",
      "23/07/26 10:44:51 INFO SparkContext: Added JAR file:/home/jovyan/.cache/coursier/v1/https/repo1.maven.org/maven2/org/spark-project/spark/unused/1.0.0/unused-1.0.0.jar at spark://0adca2debb39:35089/jars/unused-1.0.0.jar with timestamp 1690368289361\n",
      "23/07/26 10:44:51 INFO SparkContext: Added JAR file:/home/jovyan/.cache/coursier/v1/https/repo1.maven.org/maven2/org/apache/avro/avro/1.10.2/avro-1.10.2.jar at spark://0adca2debb39:35089/jars/avro-1.10.2.jar with timestamp 1690368289361\n",
      "23/07/26 10:44:51 INFO SparkContext: Added JAR file:/home/jovyan/.cache/coursier/v1/https/repo1.maven.org/maven2/org/apache/avro/avro-mapred/1.10.2/avro-mapred-1.10.2.jar at spark://0adca2debb39:35089/jars/avro-mapred-1.10.2.jar with timestamp 1690368289361\n",
      "23/07/26 10:44:51 INFO SparkContext: Added JAR file:/home/jovyan/.cache/coursier/v1/https/repo1.maven.org/maven2/org/apache/hadoop/hadoop-client-api/3.3.1/hadoop-client-api-3.3.1.jar at spark://0adca2debb39:35089/jars/hadoop-client-api-3.3.1.jar with timestamp 1690368289361\n",
      "23/07/26 10:44:51 INFO SparkContext: Added JAR file:/home/jovyan/.cache/coursier/v1/https/repo1.maven.org/maven2/org/apache/hadoop/hadoop-client-runtime/3.3.1/hadoop-client-runtime-3.3.1.jar at spark://0adca2debb39:35089/jars/hadoop-client-runtime-3.3.1.jar with timestamp 1690368289361\n",
      "23/07/26 10:44:51 INFO SparkContext: Added JAR file:/home/jovyan/.cache/coursier/v1/https/repo1.maven.org/maven2/org/apache/spark/spark-launcher_2.13/3.2.0/spark-launcher_2.13-3.2.0.jar at spark://0adca2debb39:35089/jars/spark-launcher_2.13-3.2.0.jar with timestamp 1690368289361\n",
      "23/07/26 10:44:51 INFO SparkContext: Added JAR file:/home/jovyan/.cache/coursier/v1/https/repo1.maven.org/maven2/org/apache/spark/spark-kvstore_2.13/3.2.0/spark-kvstore_2.13-3.2.0.jar at spark://0adca2debb39:35089/jars/spark-kvstore_2.13-3.2.0.jar with timestamp 1690368289361\n",
      "23/07/26 10:44:51 INFO SparkContext: Added JAR file:/home/jovyan/.cache/coursier/v1/https/repo1.maven.org/maven2/org/apache/spark/spark-network-common_2.13/3.2.0/spark-network-common_2.13-3.2.0.jar at spark://0adca2debb39:35089/jars/spark-network-common_2.13-3.2.0.jar with timestamp 1690368289361\n",
      "23/07/26 10:44:51 INFO SparkContext: Added JAR file:/home/jovyan/.cache/coursier/v1/https/repo1.maven.org/maven2/org/apache/spark/spark-network-shuffle_2.13/3.2.0/spark-network-shuffle_2.13-3.2.0.jar at spark://0adca2debb39:35089/jars/spark-network-shuffle_2.13-3.2.0.jar with timestamp 1690368289361\n",
      "23/07/26 10:44:51 INFO SparkContext: Added JAR file:/home/jovyan/.cache/coursier/v1/https/repo1.maven.org/maven2/org/apache/spark/spark-unsafe_2.13/3.2.0/spark-unsafe_2.13-3.2.0.jar at spark://0adca2debb39:35089/jars/spark-unsafe_2.13-3.2.0.jar with timestamp 1690368289361\n",
      "23/07/26 10:44:51 INFO SparkContext: Added JAR file:/home/jovyan/.cache/coursier/v1/https/repo1.maven.org/maven2/org/apache/zookeeper/zookeeper/3.6.2/zookeeper-3.6.2.jar at spark://0adca2debb39:35089/jars/zookeeper-3.6.2.jar with timestamp 1690368289361\n",
      "23/07/26 10:44:51 INFO SparkContext: Added JAR file:/home/jovyan/.cache/coursier/v1/https/repo1.maven.org/maven2/org/apache/commons/commons-math3/3.4.1/commons-math3-3.4.1.jar at spark://0adca2debb39:35089/jars/commons-math3-3.4.1.jar with timestamp 1690368289361\n",
      "23/07/26 10:44:51 INFO SparkContext: Added JAR file:/home/jovyan/.cache/coursier/v1/https/repo1.maven.org/maven2/org/apache/commons/commons-text/1.6/commons-text-1.6.jar at spark://0adca2debb39:35089/jars/commons-text-1.6.jar with timestamp 1690368289361\n",
      "23/07/26 10:44:51 INFO SparkContext: Added JAR file:/home/jovyan/.cache/coursier/v1/https/repo1.maven.org/maven2/commons-io/commons-io/2.8.0/commons-io-2.8.0.jar at spark://0adca2debb39:35089/jars/commons-io-2.8.0.jar with timestamp 1690368289361\n",
      "23/07/26 10:44:51 INFO SparkContext: Added JAR file:/home/jovyan/.cache/coursier/v1/https/repo1.maven.org/maven2/org/slf4j/slf4j-api/1.7.30/slf4j-api-1.7.30.jar at spark://0adca2debb39:35089/jars/slf4j-api-1.7.30.jar with timestamp 1690368289361\n",
      "23/07/26 10:44:51 INFO SparkContext: Added JAR file:/home/jovyan/.cache/coursier/v1/https/repo1.maven.org/maven2/org/slf4j/jul-to-slf4j/1.7.30/jul-to-slf4j-1.7.30.jar at spark://0adca2debb39:35089/jars/jul-to-slf4j-1.7.30.jar with timestamp 1690368289361\n",
      "23/07/26 10:44:51 INFO SparkContext: Added JAR file:/home/jovyan/.cache/coursier/v1/https/repo1.maven.org/maven2/org/slf4j/jcl-over-slf4j/1.7.30/jcl-over-slf4j-1.7.30.jar at spark://0adca2debb39:35089/jars/jcl-over-slf4j-1.7.30.jar with timestamp 1690368289361\n",
      "23/07/26 10:44:51 INFO SparkContext: Added JAR file:/home/jovyan/.cache/coursier/v1/https/repo1.maven.org/maven2/log4j/log4j/1.2.17/log4j-1.2.17.jar at spark://0adca2debb39:35089/jars/log4j-1.2.17.jar with timestamp 1690368289361\n",
      "23/07/26 10:44:51 INFO SparkContext: Added JAR file:/home/jovyan/.cache/coursier/v1/https/repo1.maven.org/maven2/org/slf4j/slf4j-log4j12/1.7.30/slf4j-log4j12-1.7.30.jar at spark://0adca2debb39:35089/jars/slf4j-log4j12-1.7.30.jar with timestamp 1690368289361\n",
      "23/07/26 10:44:51 INFO SparkContext: Added JAR file:/home/jovyan/.cache/coursier/v1/https/repo1.maven.org/maven2/com/ning/compress-lzf/1.0.3/compress-lzf-1.0.3.jar at spark://0adca2debb39:35089/jars/compress-lzf-1.0.3.jar with timestamp 1690368289361\n",
      "23/07/26 10:44:51 INFO SparkContext: Added JAR file:/home/jovyan/.cache/coursier/v1/https/repo1.maven.org/maven2/org/xerial/snappy/snappy-java/1.1.8.4/snappy-java-1.1.8.4.jar at spark://0adca2debb39:35089/jars/snappy-java-1.1.8.4.jar with timestamp 1690368289361\n",
      "23/07/26 10:44:51 INFO SparkContext: Added JAR file:/home/jovyan/.cache/coursier/v1/https/repo1.maven.org/maven2/org/lz4/lz4-java/1.7.1/lz4-java-1.7.1.jar at spark://0adca2debb39:35089/jars/lz4-java-1.7.1.jar with timestamp 1690368289361\n",
      "23/07/26 10:44:51 INFO SparkContext: Added JAR file:/home/jovyan/.cache/coursier/v1/https/repo1.maven.org/maven2/com/github/luben/zstd-jni/1.5.0-4/zstd-jni-1.5.0-4.jar at spark://0adca2debb39:35089/jars/zstd-jni-1.5.0-4.jar with timestamp 1690368289361\n",
      "23/07/26 10:44:51 INFO SparkContext: Added JAR file:/home/jovyan/.cache/coursier/v1/https/repo1.maven.org/maven2/org/roaringbitmap/RoaringBitmap/0.9.0/RoaringBitmap-0.9.0.jar at spark://0adca2debb39:35089/jars/RoaringBitmap-0.9.0.jar with timestamp 1690368289361\n",
      "23/07/26 10:44:51 INFO SparkContext: Added JAR file:/home/jovyan/.cache/coursier/v1/https/repo1.maven.org/maven2/commons-net/commons-net/3.1/commons-net-3.1.jar at spark://0adca2debb39:35089/jars/commons-net-3.1.jar with timestamp 1690368289361\n",
      "23/07/26 10:44:51 INFO SparkContext: Added JAR file:/home/jovyan/.cache/coursier/v1/https/repo1.maven.org/maven2/org/glassfish/jersey/core/jersey-client/2.34/jersey-client-2.34.jar at spark://0adca2debb39:35089/jars/jersey-client-2.34.jar with timestamp 1690368289361\n",
      "23/07/26 10:44:51 INFO SparkContext: Added JAR file:/home/jovyan/.cache/coursier/v1/https/repo1.maven.org/maven2/org/glassfish/jersey/core/jersey-common/2.34/jersey-common-2.34.jar at spark://0adca2debb39:35089/jars/jersey-common-2.34.jar with timestamp 1690368289361\n",
      "23/07/26 10:44:51 INFO SparkContext: Added JAR file:/home/jovyan/.cache/coursier/v1/https/repo1.maven.org/maven2/org/glassfish/jersey/core/jersey-server/2.34/jersey-server-2.34.jar at spark://0adca2debb39:35089/jars/jersey-server-2.34.jar with timestamp 1690368289361\n",
      "23/07/26 10:44:51 INFO SparkContext: Added JAR file:/home/jovyan/.cache/coursier/v1/https/repo1.maven.org/maven2/org/glassfish/jersey/containers/jersey-container-servlet/2.34/jersey-container-servlet-2.34.jar at spark://0adca2debb39:35089/jars/jersey-container-servlet-2.34.jar with timestamp 1690368289361\n",
      "23/07/26 10:44:51 INFO SparkContext: Added JAR file:/home/jovyan/.cache/coursier/v1/https/repo1.maven.org/maven2/org/glassfish/jersey/containers/jersey-container-servlet-core/2.34/jersey-container-servlet-core-2.34.jar at spark://0adca2debb39:35089/jars/jersey-container-servlet-core-2.34.jar with timestamp 1690368289361\n",
      "23/07/26 10:44:51 INFO SparkContext: Added JAR file:/home/jovyan/.cache/coursier/v1/https/repo1.maven.org/maven2/org/glassfish/jersey/inject/jersey-hk2/2.34/jersey-hk2-2.34.jar at spark://0adca2debb39:35089/jars/jersey-hk2-2.34.jar with timestamp 1690368289361\n",
      "23/07/26 10:44:51 INFO SparkContext: Added JAR file:/home/jovyan/.cache/coursier/v1/https/repo1.maven.org/maven2/io/netty/netty-all/4.1.68.Final/netty-all-4.1.68.Final.jar at spark://0adca2debb39:35089/jars/netty-all-4.1.68.Final.jar with timestamp 1690368289361\n",
      "23/07/26 10:44:51 INFO SparkContext: Added JAR file:/home/jovyan/.cache/coursier/v1/https/repo1.maven.org/maven2/io/dropwizard/metrics/metrics-core/4.2.0/metrics-core-4.2.0.jar at spark://0adca2debb39:35089/jars/metrics-core-4.2.0.jar with timestamp 1690368289361\n",
      "23/07/26 10:44:51 INFO SparkContext: Added JAR file:/home/jovyan/.cache/coursier/v1/https/repo1.maven.org/maven2/io/dropwizard/metrics/metrics-jvm/4.2.0/metrics-jvm-4.2.0.jar at spark://0adca2debb39:35089/jars/metrics-jvm-4.2.0.jar with timestamp 1690368289361\n",
      "23/07/26 10:44:51 INFO SparkContext: Added JAR file:/home/jovyan/.cache/coursier/v1/https/repo1.maven.org/maven2/io/dropwizard/metrics/metrics-json/4.2.0/metrics-json-4.2.0.jar at spark://0adca2debb39:35089/jars/metrics-json-4.2.0.jar with timestamp 1690368289361\n",
      "23/07/26 10:44:51 INFO SparkContext: Added JAR file:/home/jovyan/.cache/coursier/v1/https/repo1.maven.org/maven2/io/dropwizard/metrics/metrics-graphite/4.2.0/metrics-graphite-4.2.0.jar at spark://0adca2debb39:35089/jars/metrics-graphite-4.2.0.jar with timestamp 1690368289361\n",
      "23/07/26 10:44:51 INFO SparkContext: Added JAR file:/home/jovyan/.cache/coursier/v1/https/repo1.maven.org/maven2/io/dropwizard/metrics/metrics-jmx/4.2.0/metrics-jmx-4.2.0.jar at spark://0adca2debb39:35089/jars/metrics-jmx-4.2.0.jar with timestamp 1690368289361\n",
      "23/07/26 10:44:51 INFO SparkContext: Added JAR file:/home/jovyan/.cache/coursier/v1/https/repo1.maven.org/maven2/com/fasterxml/jackson/module/jackson-module-scala_2.13/2.12.3/jackson-module-scala_2.13-2.12.3.jar at spark://0adca2debb39:35089/jars/jackson-module-scala_2.13-2.12.3.jar with timestamp 1690368289361\n",
      "23/07/26 10:44:51 INFO SparkContext: Added JAR file:/home/jovyan/.cache/coursier/v1/https/repo1.maven.org/maven2/org/apache/ivy/ivy/2.5.0/ivy-2.5.0.jar at spark://0adca2debb39:35089/jars/ivy-2.5.0.jar with timestamp 1690368289361\n",
      "23/07/26 10:44:51 INFO SparkContext: Added JAR file:/home/jovyan/.cache/coursier/v1/https/repo1.maven.org/maven2/net/razorvine/pyrolite/4.30/pyrolite-4.30.jar at spark://0adca2debb39:35089/jars/pyrolite-4.30.jar with timestamp 1690368289361\n",
      "23/07/26 10:44:51 INFO SparkContext: Added JAR file:/home/jovyan/.cache/coursier/v1/https/repo1.maven.org/maven2/net/sf/py4j/py4j/0.10.9.2/py4j-0.10.9.2.jar at spark://0adca2debb39:35089/jars/py4j-0.10.9.2.jar with timestamp 1690368289361\n",
      "23/07/26 10:44:51 INFO SparkContext: Added JAR file:/home/jovyan/.cache/coursier/v1/https/repo1.maven.org/maven2/org/scala-lang/modules/scala-parser-combinators_2.13/1.1.2/scala-parser-combinators_2.13-1.1.2.jar at spark://0adca2debb39:35089/jars/scala-parser-combinators_2.13-1.1.2.jar with timestamp 1690368289361\n",
      "23/07/26 10:44:51 INFO SparkContext: Added JAR file:/home/jovyan/.cache/coursier/v1/https/repo1.maven.org/maven2/org/codehaus/janino/janino/3.0.16/janino-3.0.16.jar at spark://0adca2debb39:35089/jars/janino-3.0.16.jar with timestamp 1690368289361\n",
      "23/07/26 10:44:51 INFO SparkContext: Added JAR file:/home/jovyan/.cache/coursier/v1/https/repo1.maven.org/maven2/org/codehaus/janino/commons-compiler/3.0.16/commons-compiler-3.0.16.jar at spark://0adca2debb39:35089/jars/commons-compiler-3.0.16.jar with timestamp 1690368289361\n",
      "23/07/26 10:44:51 INFO SparkContext: Added JAR file:/home/jovyan/.cache/coursier/v1/https/repo1.maven.org/maven2/org/antlr/antlr4-runtime/4.8/antlr4-runtime-4.8.jar at spark://0adca2debb39:35089/jars/antlr4-runtime-4.8.jar with timestamp 1690368289361\n",
      "23/07/26 10:44:51 INFO SparkContext: Added JAR file:/home/jovyan/.cache/coursier/v1/https/repo1.maven.org/maven2/javax/xml/bind/jaxb-api/2.2.11/jaxb-api-2.2.11.jar at spark://0adca2debb39:35089/jars/jaxb-api-2.2.11.jar with timestamp 1690368289361\n",
      "23/07/26 10:44:51 INFO SparkContext: Added JAR file:/home/jovyan/.cache/coursier/v1/https/repo1.maven.org/maven2/org/apache/arrow/arrow-vector/2.0.0/arrow-vector-2.0.0.jar at spark://0adca2debb39:35089/jars/arrow-vector-2.0.0.jar with timestamp 1690368289361\n",
      "23/07/26 10:44:51 INFO SparkContext: Added JAR file:/home/jovyan/.cache/coursier/v1/https/repo1.maven.org/maven2/org/apache/arrow/arrow-memory-netty/2.0.0/arrow-memory-netty-2.0.0.jar at spark://0adca2debb39:35089/jars/arrow-memory-netty-2.0.0.jar with timestamp 1690368289361\n",
      "23/07/26 10:44:51 INFO SparkContext: Added JAR file:/home/jovyan/.cache/coursier/v1/https/repo1.maven.org/maven2/org/apache/orc/orc-shims/1.6.11/orc-shims-1.6.11.jar at spark://0adca2debb39:35089/jars/orc-shims-1.6.11.jar with timestamp 1690368289361\n",
      "23/07/26 10:44:51 INFO SparkContext: Added JAR file:/home/jovyan/.cache/coursier/v1/https/repo1.maven.org/maven2/com/google/protobuf/protobuf-java/3.14.0/protobuf-java-3.14.0.jar at spark://0adca2debb39:35089/jars/protobuf-java-3.14.0.jar with timestamp 1690368289361\n",
      "23/07/26 10:44:51 INFO SparkContext: Added JAR file:/home/jovyan/.cache/coursier/v1/https/repo1.maven.org/maven2/org/threeten/threeten-extra/1.5.0/threeten-extra-1.5.0.jar at spark://0adca2debb39:35089/jars/threeten-extra-1.5.0.jar with timestamp 1690368289361\n",
      "23/07/26 10:44:51 INFO SparkContext: Added JAR file:/home/jovyan/.cache/coursier/v1/https/repo1.maven.org/maven2/org/apache/parquet/parquet-common/1.12.1/parquet-common-1.12.1.jar at spark://0adca2debb39:35089/jars/parquet-common-1.12.1.jar with timestamp 1690368289361\n",
      "23/07/26 10:44:51 INFO SparkContext: Added JAR file:/home/jovyan/.cache/coursier/v1/https/repo1.maven.org/maven2/org/apache/parquet/parquet-encoding/1.12.1/parquet-encoding-1.12.1.jar at spark://0adca2debb39:35089/jars/parquet-encoding-1.12.1.jar with timestamp 1690368289361\n",
      "23/07/26 10:44:51 INFO SparkContext: Added JAR file:/home/jovyan/.cache/coursier/v1/https/repo1.maven.org/maven2/org/apache/parquet/parquet-format-structures/1.12.1/parquet-format-structures-1.12.1.jar at spark://0adca2debb39:35089/jars/parquet-format-structures-1.12.1.jar with timestamp 1690368289361\n",
      "23/07/26 10:44:51 INFO SparkContext: Added JAR file:/home/jovyan/.cache/coursier/v1/https/repo1.maven.org/maven2/org/apache/parquet/parquet-jackson/1.12.1/parquet-jackson-1.12.1.jar at spark://0adca2debb39:35089/jars/parquet-jackson-1.12.1.jar with timestamp 1690368289361\n",
      "23/07/26 10:44:51 INFO SparkContext: Added JAR file:/home/jovyan/.cache/coursier/v1/https/repo1.maven.org/maven2/com/fasterxml/jackson/core/jackson-annotations/2.12.3/jackson-annotations-2.12.3.jar at spark://0adca2debb39:35089/jars/jackson-annotations-2.12.3.jar with timestamp 1690368289361\n",
      "23/07/26 10:44:51 INFO SparkContext: Added JAR file:/home/jovyan/.cache/coursier/v1/https/repo1.maven.org/maven2/com/fasterxml/jackson/core/jackson-core/2.12.3/jackson-core-2.12.3.jar at spark://0adca2debb39:35089/jars/jackson-core-2.12.3.jar with timestamp 1690368289361\n",
      "23/07/26 10:44:51 INFO SparkContext: Added JAR file:/home/jovyan/.cache/coursier/v1/https/repo1.maven.org/maven2/org/apache/commons/commons-compress/1.20/commons-compress-1.20.jar at spark://0adca2debb39:35089/jars/commons-compress-1.20.jar with timestamp 1690368289361\n",
      "23/07/26 10:44:51 INFO SparkContext: Added JAR file:/home/jovyan/.cache/coursier/v1/https/repo1.maven.org/maven2/org/apache/avro/avro-ipc/1.10.2/avro-ipc-1.10.2.jar at spark://0adca2debb39:35089/jars/avro-ipc-1.10.2.jar with timestamp 1690368289361\n",
      "23/07/26 10:44:51 INFO SparkContext: Added JAR file:/home/jovyan/.cache/coursier/v1/https/repo1.maven.org/maven2/org/apache/htrace/htrace-core4/4.1.0-incubating/htrace-core4-4.1.0-incubating.jar at spark://0adca2debb39:35089/jars/htrace-core4-4.1.0-incubating.jar with timestamp 1690368289361\n",
      "23/07/26 10:44:51 INFO SparkContext: Added JAR file:/home/jovyan/.cache/coursier/v1/https/repo1.maven.org/maven2/com/google/crypto/tink/tink/1.6.0/tink-1.6.0.jar at spark://0adca2debb39:35089/jars/tink-1.6.0.jar with timestamp 1690368289361\n",
      "23/07/26 10:44:51 INFO SparkContext: Added JAR file:/home/jovyan/.cache/coursier/v1/https/repo1.maven.org/maven2/commons-lang/commons-lang/2.6/commons-lang-2.6.jar at spark://0adca2debb39:35089/jars/commons-lang-2.6.jar with timestamp 1690368289361\n",
      "23/07/26 10:44:51 INFO SparkContext: Added JAR file:/home/jovyan/.cache/coursier/v1/https/repo1.maven.org/maven2/org/apache/zookeeper/zookeeper-jute/3.6.2/zookeeper-jute-3.6.2.jar at spark://0adca2debb39:35089/jars/zookeeper-jute-3.6.2.jar with timestamp 1690368289361\n",
      "23/07/26 10:44:51 INFO SparkContext: Added JAR file:/home/jovyan/.cache/coursier/v1/https/repo1.maven.org/maven2/org/apache/yetus/audience-annotations/0.12.0/audience-annotations-0.12.0.jar at spark://0adca2debb39:35089/jars/audience-annotations-0.12.0.jar with timestamp 1690368289361\n",
      "23/07/26 10:44:51 INFO SparkContext: Added JAR file:/home/jovyan/.cache/coursier/v1/https/repo1.maven.org/maven2/org/roaringbitmap/shims/0.9.0/shims-0.9.0.jar at spark://0adca2debb39:35089/jars/shims-0.9.0.jar with timestamp 1690368289361\n",
      "23/07/26 10:44:51 INFO SparkContext: Added JAR file:/home/jovyan/.cache/coursier/v1/https/repo1.maven.org/maven2/org/apache/arrow/arrow-format/2.0.0/arrow-format-2.0.0.jar at spark://0adca2debb39:35089/jars/arrow-format-2.0.0.jar with timestamp 1690368289361\n",
      "23/07/26 10:44:51 INFO SparkContext: Added JAR file:/home/jovyan/.cache/coursier/v1/https/repo1.maven.org/maven2/org/apache/arrow/arrow-memory-core/2.0.0/arrow-memory-core-2.0.0.jar at spark://0adca2debb39:35089/jars/arrow-memory-core-2.0.0.jar with timestamp 1690368289361\n",
      "23/07/26 10:44:51 INFO SparkContext: Added JAR file:/home/jovyan/.cache/coursier/v1/https/repo1.maven.org/maven2/com/google/flatbuffers/flatbuffers-java/1.9.0/flatbuffers-java-1.9.0.jar at spark://0adca2debb39:35089/jars/flatbuffers-java-1.9.0.jar with timestamp 1690368289361\n",
      "23/07/26 10:44:51 INFO SparkContext: Added JAR file:/home/jovyan/.cache/coursier/v1/https/repo1.maven.org/maven2/org/tukaani/xz/1.8/xz-1.8.jar at spark://0adca2debb39:35089/jars/xz-1.8.jar with timestamp 1690368289361\n",
      "23/07/26 10:44:51 INFO SparkContext: Added JAR file:/home/jovyan/.cache/coursier/v1/https/repo1.maven.org/maven2/com/google/code/gson/gson/2.8.6/gson-2.8.6.jar at spark://0adca2debb39:35089/jars/gson-2.8.6.jar with timestamp 1690368289361\n",
      "23/07/26 10:44:51 INFO SparkContext: Added JAR file:/home/jovyan/.cache/coursier/v1/https/repo1.maven.org/maven2/javax/annotation/javax.annotation-api/1.3.2/javax.annotation-api-1.3.2.jar at spark://0adca2debb39:35089/jars/javax.annotation-api-1.3.2.jar with timestamp 1690368289361\n",
      "23/07/26 10:44:51 INFO SparkContext: Added JAR file:/home/jovyan/.cache/coursier/v1/https/repo1.maven.org/maven2/io/netty/netty-handler/4.1.50.Final/netty-handler-4.1.50.Final.jar at spark://0adca2debb39:35089/jars/netty-handler-4.1.50.Final.jar with timestamp 1690368289361\n",
      "23/07/26 10:44:51 INFO SparkContext: Added JAR file:/home/jovyan/.cache/coursier/v1/https/repo1.maven.org/maven2/io/netty/netty-transport-native-epoll/4.1.50.Final/netty-transport-native-epoll-4.1.50.Final.jar at spark://0adca2debb39:35089/jars/netty-transport-native-epoll-4.1.50.Final.jar with timestamp 1690368289361\n",
      "23/07/26 10:44:51 INFO SparkContext: Added JAR file:/home/jovyan/.cache/coursier/v1/https/repo1.maven.org/maven2/io/netty/netty-common/4.1.50.Final/netty-common-4.1.50.Final.jar at spark://0adca2debb39:35089/jars/netty-common-4.1.50.Final.jar with timestamp 1690368289361\n",
      "23/07/26 10:44:51 INFO SparkContext: Added JAR file:/home/jovyan/.cache/coursier/v1/https/repo1.maven.org/maven2/io/netty/netty-resolver/4.1.50.Final/netty-resolver-4.1.50.Final.jar at spark://0adca2debb39:35089/jars/netty-resolver-4.1.50.Final.jar with timestamp 1690368289361\n",
      "23/07/26 10:44:51 INFO SparkContext: Added JAR file:/home/jovyan/.cache/coursier/v1/https/repo1.maven.org/maven2/io/netty/netty-buffer/4.1.50.Final/netty-buffer-4.1.50.Final.jar at spark://0adca2debb39:35089/jars/netty-buffer-4.1.50.Final.jar with timestamp 1690368289361\n",
      "23/07/26 10:44:51 INFO SparkContext: Added JAR file:/home/jovyan/.cache/coursier/v1/https/repo1.maven.org/maven2/io/netty/netty-transport/4.1.50.Final/netty-transport-4.1.50.Final.jar at spark://0adca2debb39:35089/jars/netty-transport-4.1.50.Final.jar with timestamp 1690368289361\n",
      "23/07/26 10:44:51 INFO SparkContext: Added JAR file:/home/jovyan/.cache/coursier/v1/https/repo1.maven.org/maven2/io/netty/netty-codec/4.1.50.Final/netty-codec-4.1.50.Final.jar at spark://0adca2debb39:35089/jars/netty-codec-4.1.50.Final.jar with timestamp 1690368289361\n",
      "23/07/26 10:44:51 INFO SparkContext: Added JAR file:/home/jovyan/.cache/coursier/v1/https/repo1.maven.org/maven2/io/netty/netty-transport-native-unix-common/4.1.50.Final/netty-transport-native-unix-common-4.1.50.Final.jar at spark://0adca2debb39:35089/jars/netty-transport-native-unix-common-4.1.50.Final.jar with timestamp 1690368289361\n",
      "23/07/26 10:44:51 INFO Executor: Starting executor ID driver on host 0adca2debb39\n",
      "23/07/26 10:44:51 INFO Executor: Starting executor with user classpath (userClassPathFirst = false): ''\n",
      "23/07/26 10:44:51 INFO Executor: Using REPL class URI: spark://0adca2debb39:35089/classes\n",
      "23/07/26 10:44:51 INFO Executor: Fetching spark://0adca2debb39:35089/jars/hadoop-client-runtime-3.3.1.jar with timestamp 1690368289361\n",
      "23/07/26 10:44:51 INFO TransportClientFactory: Successfully created connection to 0adca2debb39/172.22.0.2:35089 after 62 ms (0 ms spent in bootstraps)\n",
      "23/07/26 10:44:51 INFO Utils: Fetching spark://0adca2debb39:35089/jars/hadoop-client-runtime-3.3.1.jar to /tmp/spark-8c5a7775-0fae-4213-a865-adff2f9b1742/userFiles-8bf59c3b-e152-4d58-8c5c-f6e2980a752d/fetchFileTemp573758971785526300.tmp\n",
      "23/07/26 10:44:52 INFO Executor: Adding file:/tmp/spark-8c5a7775-0fae-4213-a865-adff2f9b1742/userFiles-8bf59c3b-e152-4d58-8c5c-f6e2980a752d/hadoop-client-runtime-3.3.1.jar to class loader\n",
      "23/07/26 10:44:52 INFO Executor: Fetching spark://0adca2debb39:35089/jars/arrow-vector-2.0.0.jar with timestamp 1690368289361\n",
      "23/07/26 10:44:52 INFO Utils: Fetching spark://0adca2debb39:35089/jars/arrow-vector-2.0.0.jar to /tmp/spark-8c5a7775-0fae-4213-a865-adff2f9b1742/userFiles-8bf59c3b-e152-4d58-8c5c-f6e2980a752d/fetchFileTemp2851095764255462954.tmp\n",
      "23/07/26 10:44:52 INFO Executor: Adding file:/tmp/spark-8c5a7775-0fae-4213-a865-adff2f9b1742/userFiles-8bf59c3b-e152-4d58-8c5c-f6e2980a752d/arrow-vector-2.0.0.jar to class loader\n",
      "23/07/26 10:44:52 INFO Executor: Fetching spark://0adca2debb39:35089/jars/jvm-repr-0.4.0.jar with timestamp 1690368289361\n",
      "23/07/26 10:44:52 INFO Utils: Fetching spark://0adca2debb39:35089/jars/jvm-repr-0.4.0.jar to /tmp/spark-8c5a7775-0fae-4213-a865-adff2f9b1742/userFiles-8bf59c3b-e152-4d58-8c5c-f6e2980a752d/fetchFileTemp4882767010867733173.tmp\n",
      "23/07/26 10:44:52 INFO Executor: Adding file:/tmp/spark-8c5a7775-0fae-4213-a865-adff2f9b1742/userFiles-8bf59c3b-e152-4d58-8c5c-f6e2980a752d/jvm-repr-0.4.0.jar to class loader\n",
      "23/07/26 10:44:52 INFO Executor: Fetching spark://0adca2debb39:35089/jars/lz4-java-1.7.1.jar with timestamp 1690368289361\n",
      "23/07/26 10:44:52 INFO Utils: Fetching spark://0adca2debb39:35089/jars/lz4-java-1.7.1.jar to /tmp/spark-8c5a7775-0fae-4213-a865-adff2f9b1742/userFiles-8bf59c3b-e152-4d58-8c5c-f6e2980a752d/fetchFileTemp7502718955631285617.tmp\n",
      "23/07/26 10:44:52 INFO Executor: Adding file:/tmp/spark-8c5a7775-0fae-4213-a865-adff2f9b1742/userFiles-8bf59c3b-e152-4d58-8c5c-f6e2980a752d/lz4-java-1.7.1.jar to class loader\n",
      "23/07/26 10:44:52 INFO Executor: Fetching spark://0adca2debb39:35089/jars/jersey-container-servlet-core-2.34.jar with timestamp 1690368289361\n",
      "23/07/26 10:44:52 INFO Utils: Fetching spark://0adca2debb39:35089/jars/jersey-container-servlet-core-2.34.jar to /tmp/spark-8c5a7775-0fae-4213-a865-adff2f9b1742/userFiles-8bf59c3b-e152-4d58-8c5c-f6e2980a752d/fetchFileTemp2845363918956265200.tmp\n",
      "23/07/26 10:44:52 INFO Executor: Adding file:/tmp/spark-8c5a7775-0fae-4213-a865-adff2f9b1742/userFiles-8bf59c3b-e152-4d58-8c5c-f6e2980a752d/jersey-container-servlet-core-2.34.jar to class loader\n",
      "23/07/26 10:44:52 INFO Executor: Fetching spark://0adca2debb39:35089/jars/spark-tags_2.13-3.2.0.jar with timestamp 1690368289361\n",
      "23/07/26 10:44:52 INFO Utils: Fetching spark://0adca2debb39:35089/jars/spark-tags_2.13-3.2.0.jar to /tmp/spark-8c5a7775-0fae-4213-a865-adff2f9b1742/userFiles-8bf59c3b-e152-4d58-8c5c-f6e2980a752d/fetchFileTemp72860542491068538.tmp\n",
      "23/07/26 10:44:52 INFO Executor: Adding file:/tmp/spark-8c5a7775-0fae-4213-a865-adff2f9b1742/userFiles-8bf59c3b-e152-4d58-8c5c-f6e2980a752d/spark-tags_2.13-3.2.0.jar to class loader\n",
      "23/07/26 10:44:52 INFO Executor: Fetching spark://0adca2debb39:35089/jars/jackson-core-2.12.3.jar with timestamp 1690368289361\n",
      "23/07/26 10:44:52 INFO Utils: Fetching spark://0adca2debb39:35089/jars/jackson-core-2.12.3.jar to /tmp/spark-8c5a7775-0fae-4213-a865-adff2f9b1742/userFiles-8bf59c3b-e152-4d58-8c5c-f6e2980a752d/fetchFileTemp8887672532858045489.tmp\n",
      "23/07/26 10:44:52 INFO Executor: Adding file:/tmp/spark-8c5a7775-0fae-4213-a865-adff2f9b1742/userFiles-8bf59c3b-e152-4d58-8c5c-f6e2980a752d/jackson-core-2.12.3.jar to class loader\n",
      "23/07/26 10:44:52 INFO Executor: Fetching spark://0adca2debb39:35089/jars/jersey-common-2.34.jar with timestamp 1690368289361\n",
      "23/07/26 10:44:52 INFO Utils: Fetching spark://0adca2debb39:35089/jars/jersey-common-2.34.jar to /tmp/spark-8c5a7775-0fae-4213-a865-adff2f9b1742/userFiles-8bf59c3b-e152-4d58-8c5c-f6e2980a752d/fetchFileTemp2524922825365450179.tmp\n",
      "23/07/26 10:44:52 INFO Executor: Adding file:/tmp/spark-8c5a7775-0fae-4213-a865-adff2f9b1742/userFiles-8bf59c3b-e152-4d58-8c5c-f6e2980a752d/jersey-common-2.34.jar to class loader\n",
      "23/07/26 10:44:52 INFO Executor: Fetching spark://0adca2debb39:35089/jars/pyrolite-4.30.jar with timestamp 1690368289361\n",
      "23/07/26 10:44:52 INFO Utils: Fetching spark://0adca2debb39:35089/jars/pyrolite-4.30.jar to /tmp/spark-8c5a7775-0fae-4213-a865-adff2f9b1742/userFiles-8bf59c3b-e152-4d58-8c5c-f6e2980a752d/fetchFileTemp4296673399757970392.tmp\n",
      "23/07/26 10:44:52 INFO Executor: Adding file:/tmp/spark-8c5a7775-0fae-4213-a865-adff2f9b1742/userFiles-8bf59c3b-e152-4d58-8c5c-f6e2980a752d/pyrolite-4.30.jar to class loader\n",
      "23/07/26 10:44:52 INFO Executor: Fetching spark://0adca2debb39:35089/jars/orc-mapreduce-1.6.11.jar with timestamp 1690368289361\n",
      "23/07/26 10:44:52 INFO Utils: Fetching spark://0adca2debb39:35089/jars/orc-mapreduce-1.6.11.jar to /tmp/spark-8c5a7775-0fae-4213-a865-adff2f9b1742/userFiles-8bf59c3b-e152-4d58-8c5c-f6e2980a752d/fetchFileTemp336056736852437245.tmp\n",
      "23/07/26 10:44:52 INFO Executor: Adding file:/tmp/spark-8c5a7775-0fae-4213-a865-adff2f9b1742/userFiles-8bf59c3b-e152-4d58-8c5c-f6e2980a752d/orc-mapreduce-1.6.11.jar to class loader\n",
      "23/07/26 10:44:52 INFO Executor: Fetching spark://0adca2debb39:35089/jars/htrace-core4-4.1.0-incubating.jar with timestamp 1690368289361\n",
      "23/07/26 10:44:52 INFO Utils: Fetching spark://0adca2debb39:35089/jars/htrace-core4-4.1.0-incubating.jar to /tmp/spark-8c5a7775-0fae-4213-a865-adff2f9b1742/userFiles-8bf59c3b-e152-4d58-8c5c-f6e2980a752d/fetchFileTemp3632154285031930959.tmp\n",
      "23/07/26 10:44:52 INFO Executor: Adding file:/tmp/spark-8c5a7775-0fae-4213-a865-adff2f9b1742/userFiles-8bf59c3b-e152-4d58-8c5c-f6e2980a752d/htrace-core4-4.1.0-incubating.jar to class loader\n",
      "23/07/26 10:44:52 INFO Executor: Fetching spark://0adca2debb39:35089/jars/rocksdbjni-6.20.3.jar with timestamp 1690368289361\n",
      "23/07/26 10:44:52 INFO Utils: Fetching spark://0adca2debb39:35089/jars/rocksdbjni-6.20.3.jar to /tmp/spark-8c5a7775-0fae-4213-a865-adff2f9b1742/userFiles-8bf59c3b-e152-4d58-8c5c-f6e2980a752d/fetchFileTemp9168037781236107293.tmp\n",
      "23/07/26 10:44:52 INFO Executor: Adding file:/tmp/spark-8c5a7775-0fae-4213-a865-adff2f9b1742/userFiles-8bf59c3b-e152-4d58-8c5c-f6e2980a752d/rocksdbjni-6.20.3.jar to class loader\n",
      "23/07/26 10:44:52 INFO Executor: Fetching spark://0adca2debb39:35089/jars/javaparser-core-3.2.5.jar with timestamp 1690368289361\n",
      "23/07/26 10:44:52 INFO Utils: Fetching spark://0adca2debb39:35089/jars/javaparser-core-3.2.5.jar to /tmp/spark-8c5a7775-0fae-4213-a865-adff2f9b1742/userFiles-8bf59c3b-e152-4d58-8c5c-f6e2980a752d/fetchFileTemp8625201623263472211.tmp\n",
      "23/07/26 10:44:53 INFO Executor: Adding file:/tmp/spark-8c5a7775-0fae-4213-a865-adff2f9b1742/userFiles-8bf59c3b-e152-4d58-8c5c-f6e2980a752d/javaparser-core-3.2.5.jar to class loader\n",
      "23/07/26 10:44:53 INFO Executor: Fetching spark://0adca2debb39:35089/jars/jul-to-slf4j-1.7.30.jar with timestamp 1690368289361\n",
      "23/07/26 10:44:53 INFO Utils: Fetching spark://0adca2debb39:35089/jars/jul-to-slf4j-1.7.30.jar to /tmp/spark-8c5a7775-0fae-4213-a865-adff2f9b1742/userFiles-8bf59c3b-e152-4d58-8c5c-f6e2980a752d/fetchFileTemp2404073420623892100.tmp\n",
      "23/07/26 10:44:53 INFO Executor: Adding file:/tmp/spark-8c5a7775-0fae-4213-a865-adff2f9b1742/userFiles-8bf59c3b-e152-4d58-8c5c-f6e2980a752d/jul-to-slf4j-1.7.30.jar to class loader\n",
      "23/07/26 10:44:53 INFO Executor: Fetching spark://0adca2debb39:35089/jars/jersey-container-servlet-2.34.jar with timestamp 1690368289361\n",
      "23/07/26 10:44:53 INFO Utils: Fetching spark://0adca2debb39:35089/jars/jersey-container-servlet-2.34.jar to /tmp/spark-8c5a7775-0fae-4213-a865-adff2f9b1742/userFiles-8bf59c3b-e152-4d58-8c5c-f6e2980a752d/fetchFileTemp288761472157572271.tmp\n",
      "23/07/26 10:44:53 INFO Executor: Adding file:/tmp/spark-8c5a7775-0fae-4213-a865-adff2f9b1742/userFiles-8bf59c3b-e152-4d58-8c5c-f6e2980a752d/jersey-container-servlet-2.34.jar to class loader\n",
      "23/07/26 10:44:53 INFO Executor: Fetching spark://0adca2debb39:35089/jars/jaxb-api-2.2.11.jar with timestamp 1690368289361\n",
      "23/07/26 10:44:53 INFO Utils: Fetching spark://0adca2debb39:35089/jars/jaxb-api-2.2.11.jar to /tmp/spark-8c5a7775-0fae-4213-a865-adff2f9b1742/userFiles-8bf59c3b-e152-4d58-8c5c-f6e2980a752d/fetchFileTemp8414170761095721654.tmp\n",
      "23/07/26 10:44:53 INFO Executor: Adding file:/tmp/spark-8c5a7775-0fae-4213-a865-adff2f9b1742/userFiles-8bf59c3b-e152-4d58-8c5c-f6e2980a752d/jaxb-api-2.2.11.jar to class loader\n",
      "23/07/26 10:44:53 INFO Executor: Fetching spark://0adca2debb39:35089/jars/commons-io-2.8.0.jar with timestamp 1690368289361\n",
      "23/07/26 10:44:53 INFO Utils: Fetching spark://0adca2debb39:35089/jars/commons-io-2.8.0.jar to /tmp/spark-8c5a7775-0fae-4213-a865-adff2f9b1742/userFiles-8bf59c3b-e152-4d58-8c5c-f6e2980a752d/fetchFileTemp9078647103878226092.tmp\n",
      "23/07/26 10:44:53 INFO Executor: Adding file:/tmp/spark-8c5a7775-0fae-4213-a865-adff2f9b1742/userFiles-8bf59c3b-e152-4d58-8c5c-f6e2980a752d/commons-io-2.8.0.jar to class loader\n",
      "23/07/26 10:44:53 INFO Executor: Fetching spark://0adca2debb39:35089/jars/parquet-jackson-1.12.1.jar with timestamp 1690368289361\n",
      "23/07/26 10:44:53 INFO Utils: Fetching spark://0adca2debb39:35089/jars/parquet-jackson-1.12.1.jar to /tmp/spark-8c5a7775-0fae-4213-a865-adff2f9b1742/userFiles-8bf59c3b-e152-4d58-8c5c-f6e2980a752d/fetchFileTemp3805919737691785321.tmp\n",
      "23/07/26 10:44:53 INFO Executor: Adding file:/tmp/spark-8c5a7775-0fae-4213-a865-adff2f9b1742/userFiles-8bf59c3b-e152-4d58-8c5c-f6e2980a752d/parquet-jackson-1.12.1.jar to class loader\n",
      "23/07/26 10:44:53 INFO Executor: Fetching spark://0adca2debb39:35089/jars/commons-compress-1.20.jar with timestamp 1690368289361\n",
      "23/07/26 10:44:53 INFO Utils: Fetching spark://0adca2debb39:35089/jars/commons-compress-1.20.jar to /tmp/spark-8c5a7775-0fae-4213-a865-adff2f9b1742/userFiles-8bf59c3b-e152-4d58-8c5c-f6e2980a752d/fetchFileTemp1282941172578390222.tmp\n",
      "23/07/26 10:44:53 INFO Executor: Adding file:/tmp/spark-8c5a7775-0fae-4213-a865-adff2f9b1742/userFiles-8bf59c3b-e152-4d58-8c5c-f6e2980a752d/commons-compress-1.20.jar to class loader\n",
      "23/07/26 10:44:53 INFO Executor: Fetching spark://0adca2debb39:35089/jars/netty-transport-4.1.50.Final.jar with timestamp 1690368289361\n",
      "23/07/26 10:44:53 INFO Utils: Fetching spark://0adca2debb39:35089/jars/netty-transport-4.1.50.Final.jar to /tmp/spark-8c5a7775-0fae-4213-a865-adff2f9b1742/userFiles-8bf59c3b-e152-4d58-8c5c-f6e2980a752d/fetchFileTemp9076840407514220459.tmp\n",
      "23/07/26 10:44:53 INFO Executor: Adding file:/tmp/spark-8c5a7775-0fae-4213-a865-adff2f9b1742/userFiles-8bf59c3b-e152-4d58-8c5c-f6e2980a752d/netty-transport-4.1.50.Final.jar to class loader\n",
      "23/07/26 10:44:53 INFO Executor: Fetching spark://0adca2debb39:35089/jars/ammonite-compiler-interface_2.13.11-3.0.0-M0-50-f03f2d82.jar with timestamp 1690368289361\n",
      "23/07/26 10:44:53 INFO Utils: Fetching spark://0adca2debb39:35089/jars/ammonite-compiler-interface_2.13.11-3.0.0-M0-50-f03f2d82.jar to /tmp/spark-8c5a7775-0fae-4213-a865-adff2f9b1742/userFiles-8bf59c3b-e152-4d58-8c5c-f6e2980a752d/fetchFileTemp8569893650850078823.tmp\n",
      "23/07/26 10:44:53 INFO Executor: Adding file:/tmp/spark-8c5a7775-0fae-4213-a865-adff2f9b1742/userFiles-8bf59c3b-e152-4d58-8c5c-f6e2980a752d/ammonite-compiler-interface_2.13.11-3.0.0-M0-50-f03f2d82.jar to class loader\n",
      "23/07/26 10:44:53 INFO Executor: Fetching spark://0adca2debb39:35089/jars/netty-transport-native-epoll-4.1.50.Final.jar with timestamp 1690368289361\n",
      "23/07/26 10:44:53 INFO Utils: Fetching spark://0adca2debb39:35089/jars/netty-transport-native-epoll-4.1.50.Final.jar to /tmp/spark-8c5a7775-0fae-4213-a865-adff2f9b1742/userFiles-8bf59c3b-e152-4d58-8c5c-f6e2980a752d/fetchFileTemp6681532685391289260.tmp\n",
      "23/07/26 10:44:53 INFO Executor: Adding file:/tmp/spark-8c5a7775-0fae-4213-a865-adff2f9b1742/userFiles-8bf59c3b-e152-4d58-8c5c-f6e2980a752d/netty-transport-native-epoll-4.1.50.Final.jar to class loader\n",
      "23/07/26 10:44:53 INFO Executor: Fetching spark://0adca2debb39:35089/jars/protobuf-java-3.14.0.jar with timestamp 1690368289361\n",
      "23/07/26 10:44:53 INFO Utils: Fetching spark://0adca2debb39:35089/jars/protobuf-java-3.14.0.jar to /tmp/spark-8c5a7775-0fae-4213-a865-adff2f9b1742/userFiles-8bf59c3b-e152-4d58-8c5c-f6e2980a752d/fetchFileTemp1987181375774837462.tmp\n",
      "23/07/26 10:44:53 INFO Executor: Adding file:/tmp/spark-8c5a7775-0fae-4213-a865-adff2f9b1742/userFiles-8bf59c3b-e152-4d58-8c5c-f6e2980a752d/protobuf-java-3.14.0.jar to class loader\n",
      "23/07/26 10:44:53 INFO Executor: Fetching spark://0adca2debb39:35089/jars/netty-resolver-4.1.50.Final.jar with timestamp 1690368289361\n",
      "23/07/26 10:44:53 INFO Utils: Fetching spark://0adca2debb39:35089/jars/netty-resolver-4.1.50.Final.jar to /tmp/spark-8c5a7775-0fae-4213-a865-adff2f9b1742/userFiles-8bf59c3b-e152-4d58-8c5c-f6e2980a752d/fetchFileTemp5151129932375690412.tmp\n",
      "23/07/26 10:44:53 INFO Executor: Adding file:/tmp/spark-8c5a7775-0fae-4213-a865-adff2f9b1742/userFiles-8bf59c3b-e152-4d58-8c5c-f6e2980a752d/netty-resolver-4.1.50.Final.jar to class loader\n",
      "23/07/26 10:44:53 INFO Executor: Fetching spark://0adca2debb39:35089/jars/jackson-databind-2.12.3.jar with timestamp 1690368289361\n",
      "23/07/26 10:44:53 INFO Utils: Fetching spark://0adca2debb39:35089/jars/jackson-databind-2.12.3.jar to /tmp/spark-8c5a7775-0fae-4213-a865-adff2f9b1742/userFiles-8bf59c3b-e152-4d58-8c5c-f6e2980a752d/fetchFileTemp1235881693205598364.tmp\n",
      "23/07/26 10:44:53 INFO Executor: Adding file:/tmp/spark-8c5a7775-0fae-4213-a865-adff2f9b1742/userFiles-8bf59c3b-e152-4d58-8c5c-f6e2980a752d/jackson-databind-2.12.3.jar to class loader\n",
      "23/07/26 10:44:53 INFO Executor: Fetching spark://0adca2debb39:35089/jars/commons-net-3.1.jar with timestamp 1690368289361\n",
      "23/07/26 10:44:53 INFO Utils: Fetching spark://0adca2debb39:35089/jars/commons-net-3.1.jar to /tmp/spark-8c5a7775-0fae-4213-a865-adff2f9b1742/userFiles-8bf59c3b-e152-4d58-8c5c-f6e2980a752d/fetchFileTemp7088943441338506393.tmp\n",
      "23/07/26 10:44:53 INFO Executor: Adding file:/tmp/spark-8c5a7775-0fae-4213-a865-adff2f9b1742/userFiles-8bf59c3b-e152-4d58-8c5c-f6e2980a752d/commons-net-3.1.jar to class loader\n",
      "23/07/26 10:44:53 INFO Executor: Fetching spark://0adca2debb39:35089/jars/ammonite-repl-api_2.13.11-3.0.0-M0-50-f03f2d82.jar with timestamp 1690368289361\n",
      "23/07/26 10:44:53 INFO Utils: Fetching spark://0adca2debb39:35089/jars/ammonite-repl-api_2.13.11-3.0.0-M0-50-f03f2d82.jar to /tmp/spark-8c5a7775-0fae-4213-a865-adff2f9b1742/userFiles-8bf59c3b-e152-4d58-8c5c-f6e2980a752d/fetchFileTemp36547611373146151.tmp\n",
      "23/07/26 10:44:53 INFO Executor: Adding file:/tmp/spark-8c5a7775-0fae-4213-a865-adff2f9b1742/userFiles-8bf59c3b-e152-4d58-8c5c-f6e2980a752d/ammonite-repl-api_2.13.11-3.0.0-M0-50-f03f2d82.jar to class loader\n",
      "23/07/26 10:44:53 INFO Executor: Fetching spark://0adca2debb39:35089/jars/scala-parallel-collections_2.13-1.0.3.jar with timestamp 1690368289361\n",
      "23/07/26 10:44:53 INFO Utils: Fetching spark://0adca2debb39:35089/jars/scala-parallel-collections_2.13-1.0.3.jar to /tmp/spark-8c5a7775-0fae-4213-a865-adff2f9b1742/userFiles-8bf59c3b-e152-4d58-8c5c-f6e2980a752d/fetchFileTemp8673691423227961102.tmp\n",
      "23/07/26 10:44:53 INFO Executor: Adding file:/tmp/spark-8c5a7775-0fae-4213-a865-adff2f9b1742/userFiles-8bf59c3b-e152-4d58-8c5c-f6e2980a752d/scala-parallel-collections_2.13-1.0.3.jar to class loader\n",
      "23/07/26 10:44:53 INFO Executor: Fetching spark://0adca2debb39:35089/jars/spark-core_2.13-3.2.0.jar with timestamp 1690368289361\n",
      "23/07/26 10:44:53 INFO Utils: Fetching spark://0adca2debb39:35089/jars/spark-core_2.13-3.2.0.jar to /tmp/spark-8c5a7775-0fae-4213-a865-adff2f9b1742/userFiles-8bf59c3b-e152-4d58-8c5c-f6e2980a752d/fetchFileTemp5096011487304204231.tmp\n",
      "23/07/26 10:44:53 INFO Executor: Adding file:/tmp/spark-8c5a7775-0fae-4213-a865-adff2f9b1742/userFiles-8bf59c3b-e152-4d58-8c5c-f6e2980a752d/spark-core_2.13-3.2.0.jar to class loader\n",
      "23/07/26 10:44:53 INFO Executor: Fetching spark://0adca2debb39:35089/jars/slf4j-log4j12-1.7.30.jar with timestamp 1690368289361\n",
      "23/07/26 10:44:53 INFO Utils: Fetching spark://0adca2debb39:35089/jars/slf4j-log4j12-1.7.30.jar to /tmp/spark-8c5a7775-0fae-4213-a865-adff2f9b1742/userFiles-8bf59c3b-e152-4d58-8c5c-f6e2980a752d/fetchFileTemp8905442191736051800.tmp\n",
      "23/07/26 10:44:53 INFO Executor: Adding file:/tmp/spark-8c5a7775-0fae-4213-a865-adff2f9b1742/userFiles-8bf59c3b-e152-4d58-8c5c-f6e2980a752d/slf4j-log4j12-1.7.30.jar to class loader\n",
      "23/07/26 10:44:53 INFO Executor: Fetching spark://0adca2debb39:35089/jars/spark-launcher_2.13-3.2.0.jar with timestamp 1690368289361\n",
      "23/07/26 10:44:53 INFO Utils: Fetching spark://0adca2debb39:35089/jars/spark-launcher_2.13-3.2.0.jar to /tmp/spark-8c5a7775-0fae-4213-a865-adff2f9b1742/userFiles-8bf59c3b-e152-4d58-8c5c-f6e2980a752d/fetchFileTemp3875218829163716043.tmp\n",
      "23/07/26 10:44:53 INFO Executor: Adding file:/tmp/spark-8c5a7775-0fae-4213-a865-adff2f9b1742/userFiles-8bf59c3b-e152-4d58-8c5c-f6e2980a752d/spark-launcher_2.13-3.2.0.jar to class loader\n",
      "23/07/26 10:44:53 INFO Executor: Fetching spark://0adca2debb39:35089/jars/parquet-format-structures-1.12.1.jar with timestamp 1690368289361\n",
      "23/07/26 10:44:53 INFO Utils: Fetching spark://0adca2debb39:35089/jars/parquet-format-structures-1.12.1.jar to /tmp/spark-8c5a7775-0fae-4213-a865-adff2f9b1742/userFiles-8bf59c3b-e152-4d58-8c5c-f6e2980a752d/fetchFileTemp3808036444839391055.tmp\n",
      "23/07/26 10:44:53 INFO Executor: Adding file:/tmp/spark-8c5a7775-0fae-4213-a865-adff2f9b1742/userFiles-8bf59c3b-e152-4d58-8c5c-f6e2980a752d/parquet-format-structures-1.12.1.jar to class loader\n",
      "23/07/26 10:44:53 INFO Executor: Fetching spark://0adca2debb39:35089/jars/hive-storage-api-2.7.2.jar with timestamp 1690368289361\n",
      "23/07/26 10:44:53 INFO Utils: Fetching spark://0adca2debb39:35089/jars/hive-storage-api-2.7.2.jar to /tmp/spark-8c5a7775-0fae-4213-a865-adff2f9b1742/userFiles-8bf59c3b-e152-4d58-8c5c-f6e2980a752d/fetchFileTemp692137798161573041.tmp\n",
      "23/07/26 10:44:53 INFO Executor: Adding file:/tmp/spark-8c5a7775-0fae-4213-a865-adff2f9b1742/userFiles-8bf59c3b-e152-4d58-8c5c-f6e2980a752d/hive-storage-api-2.7.2.jar to class loader\n",
      "23/07/26 10:44:53 INFO Executor: Fetching spark://0adca2debb39:35089/jars/avro-1.10.2.jar with timestamp 1690368289361\n",
      "23/07/26 10:44:53 INFO Utils: Fetching spark://0adca2debb39:35089/jars/avro-1.10.2.jar to /tmp/spark-8c5a7775-0fae-4213-a865-adff2f9b1742/userFiles-8bf59c3b-e152-4d58-8c5c-f6e2980a752d/fetchFileTemp9107311017728660832.tmp\n",
      "23/07/26 10:44:53 INFO Executor: Adding file:/tmp/spark-8c5a7775-0fae-4213-a865-adff2f9b1742/userFiles-8bf59c3b-e152-4d58-8c5c-f6e2980a752d/avro-1.10.2.jar to class loader\n",
      "23/07/26 10:44:53 INFO Executor: Fetching spark://0adca2debb39:35089/jars/audience-annotations-0.12.0.jar with timestamp 1690368289361\n",
      "23/07/26 10:44:53 INFO Utils: Fetching spark://0adca2debb39:35089/jars/audience-annotations-0.12.0.jar to /tmp/spark-8c5a7775-0fae-4213-a865-adff2f9b1742/userFiles-8bf59c3b-e152-4d58-8c5c-f6e2980a752d/fetchFileTemp8207030420020934811.tmp\n",
      "23/07/26 10:44:53 INFO Executor: Adding file:/tmp/spark-8c5a7775-0fae-4213-a865-adff2f9b1742/userFiles-8bf59c3b-e152-4d58-8c5c-f6e2980a752d/audience-annotations-0.12.0.jar to class loader\n",
      "23/07/26 10:44:53 INFO Executor: Fetching spark://0adca2debb39:35089/jars/mainargs_2.13-0.3.0.jar with timestamp 1690368289361\n",
      "23/07/26 10:44:53 INFO Utils: Fetching spark://0adca2debb39:35089/jars/mainargs_2.13-0.3.0.jar to /tmp/spark-8c5a7775-0fae-4213-a865-adff2f9b1742/userFiles-8bf59c3b-e152-4d58-8c5c-f6e2980a752d/fetchFileTemp5856147778013082722.tmp\n",
      "23/07/26 10:44:53 INFO Executor: Adding file:/tmp/spark-8c5a7775-0fae-4213-a865-adff2f9b1742/userFiles-8bf59c3b-e152-4d58-8c5c-f6e2980a752d/mainargs_2.13-0.3.0.jar to class loader\n",
      "23/07/26 10:44:53 INFO Executor: Fetching spark://0adca2debb39:35089/jars/fansi_2.13-0.4.0.jar with timestamp 1690368289361\n",
      "23/07/26 10:44:53 INFO Utils: Fetching spark://0adca2debb39:35089/jars/fansi_2.13-0.4.0.jar to /tmp/spark-8c5a7775-0fae-4213-a865-adff2f9b1742/userFiles-8bf59c3b-e152-4d58-8c5c-f6e2980a752d/fetchFileTemp1547185100286407047.tmp\n",
      "23/07/26 10:44:53 INFO Executor: Adding file:/tmp/spark-8c5a7775-0fae-4213-a865-adff2f9b1742/userFiles-8bf59c3b-e152-4d58-8c5c-f6e2980a752d/fansi_2.13-0.4.0.jar to class loader\n",
      "23/07/26 10:44:53 INFO Executor: Fetching spark://0adca2debb39:35089/jars/shims-0.9.0.jar with timestamp 1690368289361\n",
      "23/07/26 10:44:53 INFO Utils: Fetching spark://0adca2debb39:35089/jars/shims-0.9.0.jar to /tmp/spark-8c5a7775-0fae-4213-a865-adff2f9b1742/userFiles-8bf59c3b-e152-4d58-8c5c-f6e2980a752d/fetchFileTemp3160203259473474690.tmp\n",
      "23/07/26 10:44:53 INFO Executor: Adding file:/tmp/spark-8c5a7775-0fae-4213-a865-adff2f9b1742/userFiles-8bf59c3b-e152-4d58-8c5c-f6e2980a752d/shims-0.9.0.jar to class loader\n",
      "23/07/26 10:44:53 INFO Executor: Fetching spark://0adca2debb39:35089/jars/commons-math3-3.4.1.jar with timestamp 1690368289361\n",
      "23/07/26 10:44:53 INFO Utils: Fetching spark://0adca2debb39:35089/jars/commons-math3-3.4.1.jar to /tmp/spark-8c5a7775-0fae-4213-a865-adff2f9b1742/userFiles-8bf59c3b-e152-4d58-8c5c-f6e2980a752d/fetchFileTemp3425687783631926826.tmp\n",
      "23/07/26 10:44:53 INFO Executor: Adding file:/tmp/spark-8c5a7775-0fae-4213-a865-adff2f9b1742/userFiles-8bf59c3b-e152-4d58-8c5c-f6e2980a752d/commons-math3-3.4.1.jar to class loader\n",
      "23/07/26 10:44:53 INFO Executor: Fetching spark://0adca2debb39:35089/jars/jersey-hk2-2.34.jar with timestamp 1690368289361\n",
      "23/07/26 10:44:53 INFO Utils: Fetching spark://0adca2debb39:35089/jars/jersey-hk2-2.34.jar to /tmp/spark-8c5a7775-0fae-4213-a865-adff2f9b1742/userFiles-8bf59c3b-e152-4d58-8c5c-f6e2980a752d/fetchFileTemp4054868085557099780.tmp\n",
      "23/07/26 10:44:54 INFO Executor: Adding file:/tmp/spark-8c5a7775-0fae-4213-a865-adff2f9b1742/userFiles-8bf59c3b-e152-4d58-8c5c-f6e2980a752d/jersey-hk2-2.34.jar to class loader\n",
      "23/07/26 10:44:54 INFO Executor: Fetching spark://0adca2debb39:35089/jars/parquet-hadoop-1.12.1.jar with timestamp 1690368289361\n",
      "23/07/26 10:44:54 INFO Utils: Fetching spark://0adca2debb39:35089/jars/parquet-hadoop-1.12.1.jar to /tmp/spark-8c5a7775-0fae-4213-a865-adff2f9b1742/userFiles-8bf59c3b-e152-4d58-8c5c-f6e2980a752d/fetchFileTemp8924350287836942232.tmp\n",
      "23/07/26 10:44:54 INFO Executor: Adding file:/tmp/spark-8c5a7775-0fae-4213-a865-adff2f9b1742/userFiles-8bf59c3b-e152-4d58-8c5c-f6e2980a752d/parquet-hadoop-1.12.1.jar to class loader\n",
      "23/07/26 10:44:54 INFO Executor: Fetching spark://0adca2debb39:35089/jars/metrics-jvm-4.2.0.jar with timestamp 1690368289361\n",
      "23/07/26 10:44:54 INFO Utils: Fetching spark://0adca2debb39:35089/jars/metrics-jvm-4.2.0.jar to /tmp/spark-8c5a7775-0fae-4213-a865-adff2f9b1742/userFiles-8bf59c3b-e152-4d58-8c5c-f6e2980a752d/fetchFileTemp7191997384363013093.tmp\n",
      "23/07/26 10:44:54 INFO Executor: Adding file:/tmp/spark-8c5a7775-0fae-4213-a865-adff2f9b1742/userFiles-8bf59c3b-e152-4d58-8c5c-f6e2980a752d/metrics-jvm-4.2.0.jar to class loader\n",
      "23/07/26 10:44:54 INFO Executor: Fetching spark://0adca2debb39:35089/jars/launcher.jar with timestamp 1690368289361\n",
      "23/07/26 10:44:54 INFO Utils: Fetching spark://0adca2debb39:35089/jars/launcher.jar to /tmp/spark-8c5a7775-0fae-4213-a865-adff2f9b1742/userFiles-8bf59c3b-e152-4d58-8c5c-f6e2980a752d/fetchFileTemp7525544890630061121.tmp\n",
      "23/07/26 10:44:54 INFO Executor: Adding file:/tmp/spark-8c5a7775-0fae-4213-a865-adff2f9b1742/userFiles-8bf59c3b-e152-4d58-8c5c-f6e2980a752d/launcher.jar to class loader\n",
      "23/07/26 10:44:54 INFO Executor: Fetching spark://0adca2debb39:35089/jars/netty-buffer-4.1.50.Final.jar with timestamp 1690368289361\n",
      "23/07/26 10:44:54 INFO Utils: Fetching spark://0adca2debb39:35089/jars/netty-buffer-4.1.50.Final.jar to /tmp/spark-8c5a7775-0fae-4213-a865-adff2f9b1742/userFiles-8bf59c3b-e152-4d58-8c5c-f6e2980a752d/fetchFileTemp2940166296679420997.tmp\n",
      "23/07/26 10:44:54 INFO Executor: Adding file:/tmp/spark-8c5a7775-0fae-4213-a865-adff2f9b1742/userFiles-8bf59c3b-e152-4d58-8c5c-f6e2980a752d/netty-buffer-4.1.50.Final.jar to class loader\n",
      "23/07/26 10:44:54 INFO Executor: Fetching spark://0adca2debb39:35089/jars/netty-common-4.1.50.Final.jar with timestamp 1690368289361\n",
      "23/07/26 10:44:54 INFO Utils: Fetching spark://0adca2debb39:35089/jars/netty-common-4.1.50.Final.jar to /tmp/spark-8c5a7775-0fae-4213-a865-adff2f9b1742/userFiles-8bf59c3b-e152-4d58-8c5c-f6e2980a752d/fetchFileTemp3621328573244510474.tmp\n",
      "23/07/26 10:44:54 INFO Executor: Adding file:/tmp/spark-8c5a7775-0fae-4213-a865-adff2f9b1742/userFiles-8bf59c3b-e152-4d58-8c5c-f6e2980a752d/netty-common-4.1.50.Final.jar to class loader\n",
      "23/07/26 10:44:54 INFO Executor: Fetching spark://0adca2debb39:35089/jars/arrow-format-2.0.0.jar with timestamp 1690368289361\n",
      "23/07/26 10:44:54 INFO Utils: Fetching spark://0adca2debb39:35089/jars/arrow-format-2.0.0.jar to /tmp/spark-8c5a7775-0fae-4213-a865-adff2f9b1742/userFiles-8bf59c3b-e152-4d58-8c5c-f6e2980a752d/fetchFileTemp1962933491103043167.tmp\n",
      "23/07/26 10:44:54 INFO Executor: Adding file:/tmp/spark-8c5a7775-0fae-4213-a865-adff2f9b1742/userFiles-8bf59c3b-e152-4d58-8c5c-f6e2980a752d/arrow-format-2.0.0.jar to class loader\n",
      "23/07/26 10:44:54 INFO Executor: Fetching spark://0adca2debb39:35089/jars/hadoop-client-api-3.3.1.jar with timestamp 1690368289361\n",
      "23/07/26 10:44:54 INFO Utils: Fetching spark://0adca2debb39:35089/jars/hadoop-client-api-3.3.1.jar to /tmp/spark-8c5a7775-0fae-4213-a865-adff2f9b1742/userFiles-8bf59c3b-e152-4d58-8c5c-f6e2980a752d/fetchFileTemp6946718857376906409.tmp\n",
      "23/07/26 10:44:54 INFO Executor: Adding file:/tmp/spark-8c5a7775-0fae-4213-a865-adff2f9b1742/userFiles-8bf59c3b-e152-4d58-8c5c-f6e2980a752d/hadoop-client-api-3.3.1.jar to class loader\n",
      "23/07/26 10:44:54 INFO Executor: Fetching spark://0adca2debb39:35089/jars/commons-text-1.6.jar with timestamp 1690368289361\n",
      "23/07/26 10:44:54 INFO Utils: Fetching spark://0adca2debb39:35089/jars/commons-text-1.6.jar to /tmp/spark-8c5a7775-0fae-4213-a865-adff2f9b1742/userFiles-8bf59c3b-e152-4d58-8c5c-f6e2980a752d/fetchFileTemp1317341871695942546.tmp\n",
      "23/07/26 10:44:54 INFO Executor: Adding file:/tmp/spark-8c5a7775-0fae-4213-a865-adff2f9b1742/userFiles-8bf59c3b-e152-4d58-8c5c-f6e2980a752d/commons-text-1.6.jar to class loader\n",
      "23/07/26 10:44:54 INFO Executor: Fetching spark://0adca2debb39:35089/jars/zookeeper-3.6.2.jar with timestamp 1690368289361\n",
      "23/07/26 10:44:54 INFO Utils: Fetching spark://0adca2debb39:35089/jars/zookeeper-3.6.2.jar to /tmp/spark-8c5a7775-0fae-4213-a865-adff2f9b1742/userFiles-8bf59c3b-e152-4d58-8c5c-f6e2980a752d/fetchFileTemp4683231583338883243.tmp\n",
      "23/07/26 10:44:54 INFO Executor: Adding file:/tmp/spark-8c5a7775-0fae-4213-a865-adff2f9b1742/userFiles-8bf59c3b-e152-4d58-8c5c-f6e2980a752d/zookeeper-3.6.2.jar to class loader\n",
      "23/07/26 10:44:54 INFO Executor: Fetching spark://0adca2debb39:35089/jars/spark-kvstore_2.13-3.2.0.jar with timestamp 1690368289361\n",
      "23/07/26 10:44:54 INFO Utils: Fetching spark://0adca2debb39:35089/jars/spark-kvstore_2.13-3.2.0.jar to /tmp/spark-8c5a7775-0fae-4213-a865-adff2f9b1742/userFiles-8bf59c3b-e152-4d58-8c5c-f6e2980a752d/fetchFileTemp884525764745027109.tmp\n",
      "23/07/26 10:44:54 INFO Executor: Adding file:/tmp/spark-8c5a7775-0fae-4213-a865-adff2f9b1742/userFiles-8bf59c3b-e152-4d58-8c5c-f6e2980a752d/spark-kvstore_2.13-3.2.0.jar to class loader\n",
      "23/07/26 10:44:54 INFO Executor: Fetching spark://0adca2debb39:35089/jars/unused-1.0.0.jar with timestamp 1690368289361\n",
      "23/07/26 10:44:54 INFO Utils: Fetching spark://0adca2debb39:35089/jars/unused-1.0.0.jar to /tmp/spark-8c5a7775-0fae-4213-a865-adff2f9b1742/userFiles-8bf59c3b-e152-4d58-8c5c-f6e2980a752d/fetchFileTemp2287880441889385533.tmp\n",
      "23/07/26 10:44:54 INFO Executor: Adding file:/tmp/spark-8c5a7775-0fae-4213-a865-adff2f9b1742/userFiles-8bf59c3b-e152-4d58-8c5c-f6e2980a752d/unused-1.0.0.jar to class loader\n",
      "23/07/26 10:44:54 INFO Executor: Fetching spark://0adca2debb39:35089/jars/spark-unsafe_2.13-3.2.0.jar with timestamp 1690368289361\n",
      "23/07/26 10:44:54 INFO Utils: Fetching spark://0adca2debb39:35089/jars/spark-unsafe_2.13-3.2.0.jar to /tmp/spark-8c5a7775-0fae-4213-a865-adff2f9b1742/userFiles-8bf59c3b-e152-4d58-8c5c-f6e2980a752d/fetchFileTemp4499273204400998307.tmp\n",
      "23/07/26 10:44:54 INFO Executor: Adding file:/tmp/spark-8c5a7775-0fae-4213-a865-adff2f9b1742/userFiles-8bf59c3b-e152-4d58-8c5c-f6e2980a752d/spark-unsafe_2.13-3.2.0.jar to class loader\n",
      "23/07/26 10:44:54 INFO Executor: Fetching spark://0adca2debb39:35089/jars/xbean-asm9-shaded-4.20.jar with timestamp 1690368289361\n",
      "23/07/26 10:44:54 INFO Utils: Fetching spark://0adca2debb39:35089/jars/xbean-asm9-shaded-4.20.jar to /tmp/spark-8c5a7775-0fae-4213-a865-adff2f9b1742/userFiles-8bf59c3b-e152-4d58-8c5c-f6e2980a752d/fetchFileTemp3435930424496623192.tmp\n",
      "23/07/26 10:44:54 INFO Executor: Adding file:/tmp/spark-8c5a7775-0fae-4213-a865-adff2f9b1742/userFiles-8bf59c3b-e152-4d58-8c5c-f6e2980a752d/xbean-asm9-shaded-4.20.jar to class loader\n",
      "23/07/26 10:44:54 INFO Executor: Fetching spark://0adca2debb39:35089/jars/netty-codec-4.1.50.Final.jar with timestamp 1690368289361\n",
      "23/07/26 10:44:54 INFO Utils: Fetching spark://0adca2debb39:35089/jars/netty-codec-4.1.50.Final.jar to /tmp/spark-8c5a7775-0fae-4213-a865-adff2f9b1742/userFiles-8bf59c3b-e152-4d58-8c5c-f6e2980a752d/fetchFileTemp8678250992977225284.tmp\n",
      "23/07/26 10:44:54 INFO Executor: Adding file:/tmp/spark-8c5a7775-0fae-4213-a865-adff2f9b1742/userFiles-8bf59c3b-e152-4d58-8c5c-f6e2980a752d/netty-codec-4.1.50.Final.jar to class loader\n",
      "23/07/26 10:44:54 INFO Executor: Fetching spark://0adca2debb39:35089/jars/netty-transport-native-unix-common-4.1.50.Final.jar with timestamp 1690368289361\n",
      "23/07/26 10:44:54 INFO Utils: Fetching spark://0adca2debb39:35089/jars/netty-transport-native-unix-common-4.1.50.Final.jar to /tmp/spark-8c5a7775-0fae-4213-a865-adff2f9b1742/userFiles-8bf59c3b-e152-4d58-8c5c-f6e2980a752d/fetchFileTemp4488716925845889575.tmp\n",
      "23/07/26 10:44:54 INFO Executor: Adding file:/tmp/spark-8c5a7775-0fae-4213-a865-adff2f9b1742/userFiles-8bf59c3b-e152-4d58-8c5c-f6e2980a752d/netty-transport-native-unix-common-4.1.50.Final.jar to class loader\n",
      "23/07/26 10:44:54 INFO Executor: Fetching spark://0adca2debb39:35089/jars/compress-lzf-1.0.3.jar with timestamp 1690368289361\n",
      "23/07/26 10:44:54 INFO Utils: Fetching spark://0adca2debb39:35089/jars/compress-lzf-1.0.3.jar to /tmp/spark-8c5a7775-0fae-4213-a865-adff2f9b1742/userFiles-8bf59c3b-e152-4d58-8c5c-f6e2980a752d/fetchFileTemp2786545641254243207.tmp\n",
      "23/07/26 10:44:54 INFO Executor: Adding file:/tmp/spark-8c5a7775-0fae-4213-a865-adff2f9b1742/userFiles-8bf59c3b-e152-4d58-8c5c-f6e2980a752d/compress-lzf-1.0.3.jar to class loader\n",
      "23/07/26 10:44:54 INFO Executor: Fetching spark://0adca2debb39:35089/jars/javassist-3.21.0-GA.jar with timestamp 1690368289361\n",
      "23/07/26 10:44:54 INFO Utils: Fetching spark://0adca2debb39:35089/jars/javassist-3.21.0-GA.jar to /tmp/spark-8c5a7775-0fae-4213-a865-adff2f9b1742/userFiles-8bf59c3b-e152-4d58-8c5c-f6e2980a752d/fetchFileTemp1380592771377262849.tmp\n",
      "23/07/26 10:44:54 INFO Executor: Adding file:/tmp/spark-8c5a7775-0fae-4213-a865-adff2f9b1742/userFiles-8bf59c3b-e152-4d58-8c5c-f6e2980a752d/javassist-3.21.0-GA.jar to class loader\n",
      "23/07/26 10:44:54 INFO Executor: Fetching spark://0adca2debb39:35089/jars/audience-annotations-0.5.0.jar with timestamp 1690368289361\n",
      "23/07/26 10:44:54 INFO Utils: Fetching spark://0adca2debb39:35089/jars/audience-annotations-0.5.0.jar to /tmp/spark-8c5a7775-0fae-4213-a865-adff2f9b1742/userFiles-8bf59c3b-e152-4d58-8c5c-f6e2980a752d/fetchFileTemp531553479040744256.tmp\n",
      "23/07/26 10:44:54 INFO Executor: Adding file:/tmp/spark-8c5a7775-0fae-4213-a865-adff2f9b1742/userFiles-8bf59c3b-e152-4d58-8c5c-f6e2980a752d/audience-annotations-0.5.0.jar to class loader\n",
      "23/07/26 10:44:54 INFO Executor: Fetching spark://0adca2debb39:35089/jars/gson-2.8.6.jar with timestamp 1690368289361\n",
      "23/07/26 10:44:54 INFO Utils: Fetching spark://0adca2debb39:35089/jars/gson-2.8.6.jar to /tmp/spark-8c5a7775-0fae-4213-a865-adff2f9b1742/userFiles-8bf59c3b-e152-4d58-8c5c-f6e2980a752d/fetchFileTemp6397785308192020856.tmp\n",
      "23/07/26 10:44:54 INFO Executor: Adding file:/tmp/spark-8c5a7775-0fae-4213-a865-adff2f9b1742/userFiles-8bf59c3b-e152-4d58-8c5c-f6e2980a752d/gson-2.8.6.jar to class loader\n",
      "23/07/26 10:44:54 INFO Executor: Fetching spark://0adca2debb39:35089/jars/commons-compiler-3.0.16.jar with timestamp 1690368289361\n",
      "23/07/26 10:44:54 INFO Utils: Fetching spark://0adca2debb39:35089/jars/commons-compiler-3.0.16.jar to /tmp/spark-8c5a7775-0fae-4213-a865-adff2f9b1742/userFiles-8bf59c3b-e152-4d58-8c5c-f6e2980a752d/fetchFileTemp2214667990176574440.tmp\n",
      "23/07/26 10:44:54 INFO Executor: Adding file:/tmp/spark-8c5a7775-0fae-4213-a865-adff2f9b1742/userFiles-8bf59c3b-e152-4d58-8c5c-f6e2980a752d/commons-compiler-3.0.16.jar to class loader\n",
      "23/07/26 10:44:54 INFO Executor: Fetching spark://0adca2debb39:35089/jars/janino-3.0.16.jar with timestamp 1690368289361\n",
      "23/07/26 10:44:54 INFO Utils: Fetching spark://0adca2debb39:35089/jars/janino-3.0.16.jar to /tmp/spark-8c5a7775-0fae-4213-a865-adff2f9b1742/userFiles-8bf59c3b-e152-4d58-8c5c-f6e2980a752d/fetchFileTemp5904353158916568150.tmp\n",
      "23/07/26 10:44:54 INFO Executor: Adding file:/tmp/spark-8c5a7775-0fae-4213-a865-adff2f9b1742/userFiles-8bf59c3b-e152-4d58-8c5c-f6e2980a752d/janino-3.0.16.jar to class loader\n",
      "23/07/26 10:44:54 INFO Executor: Fetching spark://0adca2debb39:35089/jars/zstd-jni-1.5.0-4.jar with timestamp 1690368289361\n",
      "23/07/26 10:44:54 INFO Utils: Fetching spark://0adca2debb39:35089/jars/zstd-jni-1.5.0-4.jar to /tmp/spark-8c5a7775-0fae-4213-a865-adff2f9b1742/userFiles-8bf59c3b-e152-4d58-8c5c-f6e2980a752d/fetchFileTemp7405820971109451222.tmp\n",
      "23/07/26 10:44:54 INFO Executor: Adding file:/tmp/spark-8c5a7775-0fae-4213-a865-adff2f9b1742/userFiles-8bf59c3b-e152-4d58-8c5c-f6e2980a752d/zstd-jni-1.5.0-4.jar to class loader\n",
      "23/07/26 10:44:54 INFO Executor: Fetching spark://0adca2debb39:35089/jars/avro-mapred-1.10.2.jar with timestamp 1690368289361\n",
      "23/07/26 10:44:54 INFO Utils: Fetching spark://0adca2debb39:35089/jars/avro-mapred-1.10.2.jar to /tmp/spark-8c5a7775-0fae-4213-a865-adff2f9b1742/userFiles-8bf59c3b-e152-4d58-8c5c-f6e2980a752d/fetchFileTemp4014386673171830520.tmp\n",
      "23/07/26 10:44:54 INFO Executor: Adding file:/tmp/spark-8c5a7775-0fae-4213-a865-adff2f9b1742/userFiles-8bf59c3b-e152-4d58-8c5c-f6e2980a752d/avro-mapred-1.10.2.jar to class loader\n",
      "23/07/26 10:44:54 INFO Executor: Fetching spark://0adca2debb39:35089/jars/spark-sql_2.13-3.2.0.jar with timestamp 1690368289361\n",
      "23/07/26 10:44:54 INFO Utils: Fetching spark://0adca2debb39:35089/jars/spark-sql_2.13-3.2.0.jar to /tmp/spark-8c5a7775-0fae-4213-a865-adff2f9b1742/userFiles-8bf59c3b-e152-4d58-8c5c-f6e2980a752d/fetchFileTemp8554578019039497532.tmp\n",
      "23/07/26 10:44:54 INFO Executor: Adding file:/tmp/spark-8c5a7775-0fae-4213-a865-adff2f9b1742/userFiles-8bf59c3b-e152-4d58-8c5c-f6e2980a752d/spark-sql_2.13-3.2.0.jar to class loader\n",
      "23/07/26 10:44:54 INFO Executor: Fetching spark://0adca2debb39:35089/jars/jersey-client-2.34.jar with timestamp 1690368289361\n",
      "23/07/26 10:44:54 INFO Utils: Fetching spark://0adca2debb39:35089/jars/jersey-client-2.34.jar to /tmp/spark-8c5a7775-0fae-4213-a865-adff2f9b1742/userFiles-8bf59c3b-e152-4d58-8c5c-f6e2980a752d/fetchFileTemp7619581911462372219.tmp\n",
      "23/07/26 10:44:54 INFO Executor: Adding file:/tmp/spark-8c5a7775-0fae-4213-a865-adff2f9b1742/userFiles-8bf59c3b-e152-4d58-8c5c-f6e2980a752d/jersey-client-2.34.jar to class loader\n",
      "23/07/26 10:44:54 INFO Executor: Fetching spark://0adca2debb39:35089/jars/spark-catalyst_2.13-3.2.0.jar with timestamp 1690368289361\n",
      "23/07/26 10:44:54 INFO Utils: Fetching spark://0adca2debb39:35089/jars/spark-catalyst_2.13-3.2.0.jar to /tmp/spark-8c5a7775-0fae-4213-a865-adff2f9b1742/userFiles-8bf59c3b-e152-4d58-8c5c-f6e2980a752d/fetchFileTemp4966749446450038213.tmp\n",
      "23/07/26 10:44:55 INFO Executor: Adding file:/tmp/spark-8c5a7775-0fae-4213-a865-adff2f9b1742/userFiles-8bf59c3b-e152-4d58-8c5c-f6e2980a752d/spark-catalyst_2.13-3.2.0.jar to class loader\n",
      "23/07/26 10:44:55 INFO Executor: Fetching spark://0adca2debb39:35089/jars/scalaparse_2.13-3.0.0.jar with timestamp 1690368289361\n",
      "23/07/26 10:44:55 INFO Utils: Fetching spark://0adca2debb39:35089/jars/scalaparse_2.13-3.0.0.jar to /tmp/spark-8c5a7775-0fae-4213-a865-adff2f9b1742/userFiles-8bf59c3b-e152-4d58-8c5c-f6e2980a752d/fetchFileTemp7030964466087381164.tmp\n",
      "23/07/26 10:44:55 INFO Executor: Adding file:/tmp/spark-8c5a7775-0fae-4213-a865-adff2f9b1742/userFiles-8bf59c3b-e152-4d58-8c5c-f6e2980a752d/scalaparse_2.13-3.0.0.jar to class loader\n",
      "23/07/26 10:44:55 INFO Executor: Fetching spark://0adca2debb39:35089/jars/netty-handler-4.1.50.Final.jar with timestamp 1690368289361\n",
      "23/07/26 10:44:55 INFO Utils: Fetching spark://0adca2debb39:35089/jars/netty-handler-4.1.50.Final.jar to /tmp/spark-8c5a7775-0fae-4213-a865-adff2f9b1742/userFiles-8bf59c3b-e152-4d58-8c5c-f6e2980a752d/fetchFileTemp7773049282035528489.tmp\n",
      "23/07/26 10:44:55 INFO Executor: Adding file:/tmp/spark-8c5a7775-0fae-4213-a865-adff2f9b1742/userFiles-8bf59c3b-e152-4d58-8c5c-f6e2980a752d/netty-handler-4.1.50.Final.jar to class loader\n",
      "23/07/26 10:44:55 INFO Executor: Fetching spark://0adca2debb39:35089/jars/metrics-graphite-4.2.0.jar with timestamp 1690368289361\n",
      "23/07/26 10:44:55 INFO Utils: Fetching spark://0adca2debb39:35089/jars/metrics-graphite-4.2.0.jar to /tmp/spark-8c5a7775-0fae-4213-a865-adff2f9b1742/userFiles-8bf59c3b-e152-4d58-8c5c-f6e2980a752d/fetchFileTemp3597443682459809429.tmp\n",
      "23/07/26 10:44:55 INFO Executor: Adding file:/tmp/spark-8c5a7775-0fae-4213-a865-adff2f9b1742/userFiles-8bf59c3b-e152-4d58-8c5c-f6e2980a752d/metrics-graphite-4.2.0.jar to class loader\n",
      "23/07/26 10:44:55 INFO Executor: Fetching spark://0adca2debb39:35089/jars/jersey-server-2.34.jar with timestamp 1690368289361\n",
      "23/07/26 10:44:55 INFO Utils: Fetching spark://0adca2debb39:35089/jars/jersey-server-2.34.jar to /tmp/spark-8c5a7775-0fae-4213-a865-adff2f9b1742/userFiles-8bf59c3b-e152-4d58-8c5c-f6e2980a752d/fetchFileTemp3567604151021237139.tmp\n",
      "23/07/26 10:44:55 INFO Executor: Adding file:/tmp/spark-8c5a7775-0fae-4213-a865-adff2f9b1742/userFiles-8bf59c3b-e152-4d58-8c5c-f6e2980a752d/jersey-server-2.34.jar to class loader\n",
      "23/07/26 10:44:55 INFO Executor: Fetching spark://0adca2debb39:35089/jars/fastparse_2.13-3.0.0.jar with timestamp 1690368289361\n",
      "23/07/26 10:44:55 INFO Utils: Fetching spark://0adca2debb39:35089/jars/fastparse_2.13-3.0.0.jar to /tmp/spark-8c5a7775-0fae-4213-a865-adff2f9b1742/userFiles-8bf59c3b-e152-4d58-8c5c-f6e2980a752d/fetchFileTemp2879766580914722798.tmp\n",
      "23/07/26 10:44:55 INFO Executor: Adding file:/tmp/spark-8c5a7775-0fae-4213-a865-adff2f9b1742/userFiles-8bf59c3b-e152-4d58-8c5c-f6e2980a752d/fastparse_2.13-3.0.0.jar to class loader\n",
      "23/07/26 10:44:55 INFO Executor: Fetching spark://0adca2debb39:35089/jars/pprint_2.13-0.8.1.jar with timestamp 1690368289361\n",
      "23/07/26 10:44:55 INFO Utils: Fetching spark://0adca2debb39:35089/jars/pprint_2.13-0.8.1.jar to /tmp/spark-8c5a7775-0fae-4213-a865-adff2f9b1742/userFiles-8bf59c3b-e152-4d58-8c5c-f6e2980a752d/fetchFileTemp8958879497869861758.tmp\n",
      "23/07/26 10:44:55 INFO Executor: Adding file:/tmp/spark-8c5a7775-0fae-4213-a865-adff2f9b1742/userFiles-8bf59c3b-e152-4d58-8c5c-f6e2980a752d/pprint_2.13-0.8.1.jar to class loader\n",
      "23/07/26 10:44:55 INFO Executor: Fetching spark://0adca2debb39:35089/jars/py4j-0.10.9.2.jar with timestamp 1690368289361\n",
      "23/07/26 10:44:55 INFO Utils: Fetching spark://0adca2debb39:35089/jars/py4j-0.10.9.2.jar to /tmp/spark-8c5a7775-0fae-4213-a865-adff2f9b1742/userFiles-8bf59c3b-e152-4d58-8c5c-f6e2980a752d/fetchFileTemp8042796334623213733.tmp\n",
      "23/07/26 10:44:55 INFO Executor: Adding file:/tmp/spark-8c5a7775-0fae-4213-a865-adff2f9b1742/userFiles-8bf59c3b-e152-4d58-8c5c-f6e2980a752d/py4j-0.10.9.2.jar to class loader\n",
      "23/07/26 10:44:55 INFO Executor: Fetching spark://0adca2debb39:35089/jars/spark-network-shuffle_2.13-3.2.0.jar with timestamp 1690368289361\n",
      "23/07/26 10:44:55 INFO Utils: Fetching spark://0adca2debb39:35089/jars/spark-network-shuffle_2.13-3.2.0.jar to /tmp/spark-8c5a7775-0fae-4213-a865-adff2f9b1742/userFiles-8bf59c3b-e152-4d58-8c5c-f6e2980a752d/fetchFileTemp8132081952043154890.tmp\n",
      "23/07/26 10:44:55 INFO Executor: Adding file:/tmp/spark-8c5a7775-0fae-4213-a865-adff2f9b1742/userFiles-8bf59c3b-e152-4d58-8c5c-f6e2980a752d/spark-network-shuffle_2.13-3.2.0.jar to class loader\n",
      "23/07/26 10:44:55 INFO Executor: Fetching spark://0adca2debb39:35089/jars/parquet-common-1.12.1.jar with timestamp 1690368289361\n",
      "23/07/26 10:44:55 INFO Utils: Fetching spark://0adca2debb39:35089/jars/parquet-common-1.12.1.jar to /tmp/spark-8c5a7775-0fae-4213-a865-adff2f9b1742/userFiles-8bf59c3b-e152-4d58-8c5c-f6e2980a752d/fetchFileTemp4207195461640100576.tmp\n",
      "23/07/26 10:44:55 INFO Executor: Adding file:/tmp/spark-8c5a7775-0fae-4213-a865-adff2f9b1742/userFiles-8bf59c3b-e152-4d58-8c5c-f6e2980a752d/parquet-common-1.12.1.jar to class loader\n",
      "23/07/26 10:44:55 INFO Executor: Fetching spark://0adca2debb39:35089/jars/antlr4-runtime-4.8.jar with timestamp 1690368289361\n",
      "23/07/26 10:44:55 INFO Utils: Fetching spark://0adca2debb39:35089/jars/antlr4-runtime-4.8.jar to /tmp/spark-8c5a7775-0fae-4213-a865-adff2f9b1742/userFiles-8bf59c3b-e152-4d58-8c5c-f6e2980a752d/fetchFileTemp8932934445617159064.tmp\n",
      "23/07/26 10:44:55 INFO Executor: Adding file:/tmp/spark-8c5a7775-0fae-4213-a865-adff2f9b1742/userFiles-8bf59c3b-e152-4d58-8c5c-f6e2980a752d/antlr4-runtime-4.8.jar to class loader\n",
      "23/07/26 10:44:55 INFO Executor: Fetching spark://0adca2debb39:35089/jars/tink-1.6.0.jar with timestamp 1690368289361\n",
      "23/07/26 10:44:55 INFO Utils: Fetching spark://0adca2debb39:35089/jars/tink-1.6.0.jar to /tmp/spark-8c5a7775-0fae-4213-a865-adff2f9b1742/userFiles-8bf59c3b-e152-4d58-8c5c-f6e2980a752d/fetchFileTemp3744982158845466083.tmp\n",
      "23/07/26 10:44:55 INFO Executor: Adding file:/tmp/spark-8c5a7775-0fae-4213-a865-adff2f9b1742/userFiles-8bf59c3b-e152-4d58-8c5c-f6e2980a752d/tink-1.6.0.jar to class loader\n",
      "23/07/26 10:44:55 INFO Executor: Fetching spark://0adca2debb39:35089/jars/RoaringBitmap-0.9.0.jar with timestamp 1690368289361\n",
      "23/07/26 10:44:55 INFO Utils: Fetching spark://0adca2debb39:35089/jars/RoaringBitmap-0.9.0.jar to /tmp/spark-8c5a7775-0fae-4213-a865-adff2f9b1742/userFiles-8bf59c3b-e152-4d58-8c5c-f6e2980a752d/fetchFileTemp585890031288929055.tmp\n",
      "23/07/26 10:44:55 INFO Executor: Adding file:/tmp/spark-8c5a7775-0fae-4213-a865-adff2f9b1742/userFiles-8bf59c3b-e152-4d58-8c5c-f6e2980a752d/RoaringBitmap-0.9.0.jar to class loader\n",
      "23/07/26 10:44:55 INFO Executor: Fetching spark://0adca2debb39:35089/jars/interpreter-api_2.13-0.14.0-RC12.jar with timestamp 1690368289361\n",
      "23/07/26 10:44:55 INFO Utils: Fetching spark://0adca2debb39:35089/jars/interpreter-api_2.13-0.14.0-RC12.jar to /tmp/spark-8c5a7775-0fae-4213-a865-adff2f9b1742/userFiles-8bf59c3b-e152-4d58-8c5c-f6e2980a752d/fetchFileTemp5723193730002905426.tmp\n",
      "23/07/26 10:44:55 INFO Executor: Adding file:/tmp/spark-8c5a7775-0fae-4213-a865-adff2f9b1742/userFiles-8bf59c3b-e152-4d58-8c5c-f6e2980a752d/interpreter-api_2.13-0.14.0-RC12.jar to class loader\n",
      "23/07/26 10:44:55 INFO Executor: Fetching spark://0adca2debb39:35089/jars/scala-kernel-api_2.13.11-0.14.0-RC12.jar with timestamp 1690368289361\n",
      "23/07/26 10:44:55 INFO Utils: Fetching spark://0adca2debb39:35089/jars/scala-kernel-api_2.13.11-0.14.0-RC12.jar to /tmp/spark-8c5a7775-0fae-4213-a865-adff2f9b1742/userFiles-8bf59c3b-e152-4d58-8c5c-f6e2980a752d/fetchFileTemp5570879485748601276.tmp\n",
      "23/07/26 10:44:55 INFO Executor: Adding file:/tmp/spark-8c5a7775-0fae-4213-a865-adff2f9b1742/userFiles-8bf59c3b-e152-4d58-8c5c-f6e2980a752d/scala-kernel-api_2.13.11-0.14.0-RC12.jar to class loader\n",
      "23/07/26 10:44:55 INFO Executor: Fetching spark://0adca2debb39:35089/jars/flatbuffers-java-1.9.0.jar with timestamp 1690368289361\n",
      "23/07/26 10:44:55 INFO Utils: Fetching spark://0adca2debb39:35089/jars/flatbuffers-java-1.9.0.jar to /tmp/spark-8c5a7775-0fae-4213-a865-adff2f9b1742/userFiles-8bf59c3b-e152-4d58-8c5c-f6e2980a752d/fetchFileTemp1845266114430801232.tmp\n",
      "23/07/26 10:44:55 INFO Executor: Adding file:/tmp/spark-8c5a7775-0fae-4213-a865-adff2f9b1742/userFiles-8bf59c3b-e152-4d58-8c5c-f6e2980a752d/flatbuffers-java-1.9.0.jar to class loader\n",
      "23/07/26 10:44:55 INFO Executor: Fetching spark://0adca2debb39:35089/jars/slf4j-api-1.7.30.jar with timestamp 1690368289361\n",
      "23/07/26 10:44:55 INFO Utils: Fetching spark://0adca2debb39:35089/jars/slf4j-api-1.7.30.jar to /tmp/spark-8c5a7775-0fae-4213-a865-adff2f9b1742/userFiles-8bf59c3b-e152-4d58-8c5c-f6e2980a752d/fetchFileTemp4247042640987623667.tmp\n",
      "23/07/26 10:44:55 INFO Executor: Adding file:/tmp/spark-8c5a7775-0fae-4213-a865-adff2f9b1742/userFiles-8bf59c3b-e152-4d58-8c5c-f6e2980a752d/slf4j-api-1.7.30.jar to class loader\n",
      "23/07/26 10:44:55 INFO Executor: Fetching spark://0adca2debb39:35089/jars/ammonite-interp-api_2.13.11-3.0.0-M0-50-f03f2d82.jar with timestamp 1690368289361\n",
      "23/07/26 10:44:55 INFO Utils: Fetching spark://0adca2debb39:35089/jars/ammonite-interp-api_2.13.11-3.0.0-M0-50-f03f2d82.jar to /tmp/spark-8c5a7775-0fae-4213-a865-adff2f9b1742/userFiles-8bf59c3b-e152-4d58-8c5c-f6e2980a752d/fetchFileTemp851752763869526963.tmp\n",
      "23/07/26 10:44:55 INFO Executor: Adding file:/tmp/spark-8c5a7775-0fae-4213-a865-adff2f9b1742/userFiles-8bf59c3b-e152-4d58-8c5c-f6e2980a752d/ammonite-interp-api_2.13.11-3.0.0-M0-50-f03f2d82.jar to class loader\n",
      "23/07/26 10:44:55 INFO Executor: Fetching spark://0adca2debb39:35089/jars/jackson-module-scala_2.13-2.12.3.jar with timestamp 1690368289361\n",
      "23/07/26 10:44:55 INFO Utils: Fetching spark://0adca2debb39:35089/jars/jackson-module-scala_2.13-2.12.3.jar to /tmp/spark-8c5a7775-0fae-4213-a865-adff2f9b1742/userFiles-8bf59c3b-e152-4d58-8c5c-f6e2980a752d/fetchFileTemp4409311596904067727.tmp\n",
      "23/07/26 10:44:55 INFO Executor: Adding file:/tmp/spark-8c5a7775-0fae-4213-a865-adff2f9b1742/userFiles-8bf59c3b-e152-4d58-8c5c-f6e2980a752d/jackson-module-scala_2.13-2.12.3.jar to class loader\n",
      "23/07/26 10:44:55 INFO Executor: Fetching spark://0adca2debb39:35089/jars/javax.annotation-api-1.3.2.jar with timestamp 1690368289361\n",
      "23/07/26 10:44:55 INFO Utils: Fetching spark://0adca2debb39:35089/jars/javax.annotation-api-1.3.2.jar to /tmp/spark-8c5a7775-0fae-4213-a865-adff2f9b1742/userFiles-8bf59c3b-e152-4d58-8c5c-f6e2980a752d/fetchFileTemp5947498594276074679.tmp\n",
      "23/07/26 10:44:55 INFO Executor: Adding file:/tmp/spark-8c5a7775-0fae-4213-a865-adff2f9b1742/userFiles-8bf59c3b-e152-4d58-8c5c-f6e2980a752d/javax.annotation-api-1.3.2.jar to class loader\n",
      "23/07/26 10:44:55 INFO Executor: Fetching spark://0adca2debb39:35089/jars/arrow-memory-core-2.0.0.jar with timestamp 1690368289361\n",
      "23/07/26 10:44:55 INFO Utils: Fetching spark://0adca2debb39:35089/jars/arrow-memory-core-2.0.0.jar to /tmp/spark-8c5a7775-0fae-4213-a865-adff2f9b1742/userFiles-8bf59c3b-e152-4d58-8c5c-f6e2980a752d/fetchFileTemp1037460642155036644.tmp\n",
      "23/07/26 10:44:55 INFO Executor: Adding file:/tmp/spark-8c5a7775-0fae-4213-a865-adff2f9b1742/userFiles-8bf59c3b-e152-4d58-8c5c-f6e2980a752d/arrow-memory-core-2.0.0.jar to class loader\n",
      "23/07/26 10:44:55 INFO Executor: Fetching spark://0adca2debb39:35089/jars/orc-shims-1.6.11.jar with timestamp 1690368289361\n",
      "23/07/26 10:44:55 INFO Utils: Fetching spark://0adca2debb39:35089/jars/orc-shims-1.6.11.jar to /tmp/spark-8c5a7775-0fae-4213-a865-adff2f9b1742/userFiles-8bf59c3b-e152-4d58-8c5c-f6e2980a752d/fetchFileTemp8725811111687583144.tmp\n",
      "23/07/26 10:44:55 INFO Executor: Adding file:/tmp/spark-8c5a7775-0fae-4213-a865-adff2f9b1742/userFiles-8bf59c3b-e152-4d58-8c5c-f6e2980a752d/orc-shims-1.6.11.jar to class loader\n",
      "23/07/26 10:44:55 INFO Executor: Fetching spark://0adca2debb39:35089/jars/metrics-core-4.2.0.jar with timestamp 1690368289361\n",
      "23/07/26 10:44:55 INFO Utils: Fetching spark://0adca2debb39:35089/jars/metrics-core-4.2.0.jar to /tmp/spark-8c5a7775-0fae-4213-a865-adff2f9b1742/userFiles-8bf59c3b-e152-4d58-8c5c-f6e2980a752d/fetchFileTemp2969033855924011860.tmp\n",
      "23/07/26 10:44:55 INFO Executor: Adding file:/tmp/spark-8c5a7775-0fae-4213-a865-adff2f9b1742/userFiles-8bf59c3b-e152-4d58-8c5c-f6e2980a752d/metrics-core-4.2.0.jar to class loader\n",
      "23/07/26 10:44:55 INFO Executor: Fetching spark://0adca2debb39:35089/jars/spark-sketch_2.13-3.2.0.jar with timestamp 1690368289361\n",
      "23/07/26 10:44:55 INFO Utils: Fetching spark://0adca2debb39:35089/jars/spark-sketch_2.13-3.2.0.jar to /tmp/spark-8c5a7775-0fae-4213-a865-adff2f9b1742/userFiles-8bf59c3b-e152-4d58-8c5c-f6e2980a752d/fetchFileTemp8785505832717979918.tmp\n",
      "23/07/26 10:44:55 INFO Executor: Adding file:/tmp/spark-8c5a7775-0fae-4213-a865-adff2f9b1742/userFiles-8bf59c3b-e152-4d58-8c5c-f6e2980a752d/spark-sketch_2.13-3.2.0.jar to class loader\n",
      "23/07/26 10:44:55 INFO Executor: Fetching spark://0adca2debb39:35089/jars/scala-parser-combinators_2.13-1.1.2.jar with timestamp 1690368289361\n",
      "23/07/26 10:44:55 INFO Utils: Fetching spark://0adca2debb39:35089/jars/scala-parser-combinators_2.13-1.1.2.jar to /tmp/spark-8c5a7775-0fae-4213-a865-adff2f9b1742/userFiles-8bf59c3b-e152-4d58-8c5c-f6e2980a752d/fetchFileTemp4806511465225057566.tmp\n",
      "23/07/26 10:44:55 INFO Executor: Adding file:/tmp/spark-8c5a7775-0fae-4213-a865-adff2f9b1742/userFiles-8bf59c3b-e152-4d58-8c5c-f6e2980a752d/scala-parser-combinators_2.13-1.1.2.jar to class loader\n",
      "23/07/26 10:44:55 INFO Executor: Fetching spark://0adca2debb39:35089/jars/threeten-extra-1.5.0.jar with timestamp 1690368289361\n",
      "23/07/26 10:44:55 INFO Utils: Fetching spark://0adca2debb39:35089/jars/threeten-extra-1.5.0.jar to /tmp/spark-8c5a7775-0fae-4213-a865-adff2f9b1742/userFiles-8bf59c3b-e152-4d58-8c5c-f6e2980a752d/fetchFileTemp1559583081964778295.tmp\n",
      "23/07/26 10:44:55 INFO Executor: Adding file:/tmp/spark-8c5a7775-0fae-4213-a865-adff2f9b1742/userFiles-8bf59c3b-e152-4d58-8c5c-f6e2980a752d/threeten-extra-1.5.0.jar to class loader\n",
      "23/07/26 10:44:55 INFO Executor: Fetching spark://0adca2debb39:35089/jars/arrow-memory-netty-2.0.0.jar with timestamp 1690368289361\n",
      "23/07/26 10:44:55 INFO Utils: Fetching spark://0adca2debb39:35089/jars/arrow-memory-netty-2.0.0.jar to /tmp/spark-8c5a7775-0fae-4213-a865-adff2f9b1742/userFiles-8bf59c3b-e152-4d58-8c5c-f6e2980a752d/fetchFileTemp6653129810776747324.tmp\n",
      "23/07/26 10:44:55 INFO Executor: Adding file:/tmp/spark-8c5a7775-0fae-4213-a865-adff2f9b1742/userFiles-8bf59c3b-e152-4d58-8c5c-f6e2980a752d/arrow-memory-netty-2.0.0.jar to class loader\n",
      "23/07/26 10:44:55 INFO Executor: Fetching spark://0adca2debb39:35089/jars/commons-lang-2.6.jar with timestamp 1690368289361\n",
      "23/07/26 10:44:55 INFO Utils: Fetching spark://0adca2debb39:35089/jars/commons-lang-2.6.jar to /tmp/spark-8c5a7775-0fae-4213-a865-adff2f9b1742/userFiles-8bf59c3b-e152-4d58-8c5c-f6e2980a752d/fetchFileTemp8888816097141737022.tmp\n",
      "23/07/26 10:44:55 INFO Executor: Adding file:/tmp/spark-8c5a7775-0fae-4213-a865-adff2f9b1742/userFiles-8bf59c3b-e152-4d58-8c5c-f6e2980a752d/commons-lang-2.6.jar to class loader\n",
      "23/07/26 10:44:55 INFO Executor: Fetching spark://0adca2debb39:35089/jars/snappy-java-1.1.8.4.jar with timestamp 1690368289361\n",
      "23/07/26 10:44:55 INFO Utils: Fetching spark://0adca2debb39:35089/jars/snappy-java-1.1.8.4.jar to /tmp/spark-8c5a7775-0fae-4213-a865-adff2f9b1742/userFiles-8bf59c3b-e152-4d58-8c5c-f6e2980a752d/fetchFileTemp8176063230393479218.tmp\n",
      "23/07/26 10:44:55 INFO Executor: Adding file:/tmp/spark-8c5a7775-0fae-4213-a865-adff2f9b1742/userFiles-8bf59c3b-e152-4d58-8c5c-f6e2980a752d/snappy-java-1.1.8.4.jar to class loader\n",
      "23/07/26 10:44:55 INFO Executor: Fetching spark://0adca2debb39:35089/jars/parquet-column-1.12.1.jar with timestamp 1690368289361\n",
      "23/07/26 10:44:55 INFO Utils: Fetching spark://0adca2debb39:35089/jars/parquet-column-1.12.1.jar to /tmp/spark-8c5a7775-0fae-4213-a865-adff2f9b1742/userFiles-8bf59c3b-e152-4d58-8c5c-f6e2980a752d/fetchFileTemp645601266016299748.tmp\n",
      "23/07/26 10:44:55 INFO Executor: Adding file:/tmp/spark-8c5a7775-0fae-4213-a865-adff2f9b1742/userFiles-8bf59c3b-e152-4d58-8c5c-f6e2980a752d/parquet-column-1.12.1.jar to class loader\n",
      "23/07/26 10:44:55 INFO Executor: Fetching spark://0adca2debb39:35089/jars/ammonite-util_2.13-3.0.0-M0-50-f03f2d82.jar with timestamp 1690368289361\n",
      "23/07/26 10:44:55 INFO Utils: Fetching spark://0adca2debb39:35089/jars/ammonite-util_2.13-3.0.0-M0-50-f03f2d82.jar to /tmp/spark-8c5a7775-0fae-4213-a865-adff2f9b1742/userFiles-8bf59c3b-e152-4d58-8c5c-f6e2980a752d/fetchFileTemp1192708218366130419.tmp\n",
      "23/07/26 10:44:56 INFO Executor: Adding file:/tmp/spark-8c5a7775-0fae-4213-a865-adff2f9b1742/userFiles-8bf59c3b-e152-4d58-8c5c-f6e2980a752d/ammonite-util_2.13-3.0.0-M0-50-f03f2d82.jar to class loader\n",
      "23/07/26 10:44:56 INFO Executor: Fetching spark://0adca2debb39:35089/jars/jcl-over-slf4j-1.7.30.jar with timestamp 1690368289361\n",
      "23/07/26 10:44:56 INFO Utils: Fetching spark://0adca2debb39:35089/jars/jcl-over-slf4j-1.7.30.jar to /tmp/spark-8c5a7775-0fae-4213-a865-adff2f9b1742/userFiles-8bf59c3b-e152-4d58-8c5c-f6e2980a752d/fetchFileTemp7828354267975602340.tmp\n",
      "23/07/26 10:44:56 INFO Executor: Adding file:/tmp/spark-8c5a7775-0fae-4213-a865-adff2f9b1742/userFiles-8bf59c3b-e152-4d58-8c5c-f6e2980a752d/jcl-over-slf4j-1.7.30.jar to class loader\n",
      "23/07/26 10:44:56 INFO Executor: Fetching spark://0adca2debb39:35089/jars/xz-1.8.jar with timestamp 1690368289361\n",
      "23/07/26 10:44:56 INFO Utils: Fetching spark://0adca2debb39:35089/jars/xz-1.8.jar to /tmp/spark-8c5a7775-0fae-4213-a865-adff2f9b1742/userFiles-8bf59c3b-e152-4d58-8c5c-f6e2980a752d/fetchFileTemp7819058771684235032.tmp\n",
      "23/07/26 10:44:56 INFO Executor: Adding file:/tmp/spark-8c5a7775-0fae-4213-a865-adff2f9b1742/userFiles-8bf59c3b-e152-4d58-8c5c-f6e2980a752d/xz-1.8.jar to class loader\n",
      "23/07/26 10:44:56 INFO Executor: Fetching spark://0adca2debb39:35089/jars/metrics-json-4.2.0.jar with timestamp 1690368289361\n",
      "23/07/26 10:44:56 INFO Utils: Fetching spark://0adca2debb39:35089/jars/metrics-json-4.2.0.jar to /tmp/spark-8c5a7775-0fae-4213-a865-adff2f9b1742/userFiles-8bf59c3b-e152-4d58-8c5c-f6e2980a752d/fetchFileTemp7351137904147082167.tmp\n",
      "23/07/26 10:44:56 INFO Executor: Adding file:/tmp/spark-8c5a7775-0fae-4213-a865-adff2f9b1742/userFiles-8bf59c3b-e152-4d58-8c5c-f6e2980a752d/metrics-json-4.2.0.jar to class loader\n",
      "23/07/26 10:44:56 INFO Executor: Fetching spark://0adca2debb39:35089/jars/ammonite-compiler_2.13.11-3.0.0-M0-50-f03f2d82.jar with timestamp 1690368289361\n",
      "23/07/26 10:44:56 INFO Utils: Fetching spark://0adca2debb39:35089/jars/ammonite-compiler_2.13.11-3.0.0-M0-50-f03f2d82.jar to /tmp/spark-8c5a7775-0fae-4213-a865-adff2f9b1742/userFiles-8bf59c3b-e152-4d58-8c5c-f6e2980a752d/fetchFileTemp730860928228067792.tmp\n",
      "23/07/26 10:44:56 INFO Executor: Adding file:/tmp/spark-8c5a7775-0fae-4213-a865-adff2f9b1742/userFiles-8bf59c3b-e152-4d58-8c5c-f6e2980a752d/ammonite-compiler_2.13.11-3.0.0-M0-50-f03f2d82.jar to class loader\n",
      "23/07/26 10:44:56 INFO Executor: Fetching spark://0adca2debb39:35089/jars/jackson-annotations-2.12.3.jar with timestamp 1690368289361\n",
      "23/07/26 10:44:56 INFO Utils: Fetching spark://0adca2debb39:35089/jars/jackson-annotations-2.12.3.jar to /tmp/spark-8c5a7775-0fae-4213-a865-adff2f9b1742/userFiles-8bf59c3b-e152-4d58-8c5c-f6e2980a752d/fetchFileTemp2252337342086691661.tmp\n",
      "23/07/26 10:44:56 INFO Executor: Adding file:/tmp/spark-8c5a7775-0fae-4213-a865-adff2f9b1742/userFiles-8bf59c3b-e152-4d58-8c5c-f6e2980a752d/jackson-annotations-2.12.3.jar to class loader\n",
      "23/07/26 10:44:56 INFO Executor: Fetching spark://0adca2debb39:35089/jars/scala-collection-compat_2.13-2.11.0.jar with timestamp 1690368289361\n",
      "23/07/26 10:44:56 INFO Utils: Fetching spark://0adca2debb39:35089/jars/scala-collection-compat_2.13-2.11.0.jar to /tmp/spark-8c5a7775-0fae-4213-a865-adff2f9b1742/userFiles-8bf59c3b-e152-4d58-8c5c-f6e2980a752d/fetchFileTemp4979596683044333103.tmp\n",
      "23/07/26 10:44:56 INFO Executor: Adding file:/tmp/spark-8c5a7775-0fae-4213-a865-adff2f9b1742/userFiles-8bf59c3b-e152-4d58-8c5c-f6e2980a752d/scala-collection-compat_2.13-2.11.0.jar to class loader\n",
      "23/07/26 10:44:56 INFO Executor: Fetching spark://0adca2debb39:35089/jars/avro-ipc-1.10.2.jar with timestamp 1690368289361\n",
      "23/07/26 10:44:56 INFO Utils: Fetching spark://0adca2debb39:35089/jars/avro-ipc-1.10.2.jar to /tmp/spark-8c5a7775-0fae-4213-a865-adff2f9b1742/userFiles-8bf59c3b-e152-4d58-8c5c-f6e2980a752d/fetchFileTemp8358452008127913253.tmp\n",
      "23/07/26 10:44:56 INFO Executor: Adding file:/tmp/spark-8c5a7775-0fae-4213-a865-adff2f9b1742/userFiles-8bf59c3b-e152-4d58-8c5c-f6e2980a752d/avro-ipc-1.10.2.jar to class loader\n",
      "23/07/26 10:44:56 INFO Executor: Fetching spark://0adca2debb39:35089/jars/os-lib_2.13-0.9.1.jar with timestamp 1690368289361\n",
      "23/07/26 10:44:56 INFO Utils: Fetching spark://0adca2debb39:35089/jars/os-lib_2.13-0.9.1.jar to /tmp/spark-8c5a7775-0fae-4213-a865-adff2f9b1742/userFiles-8bf59c3b-e152-4d58-8c5c-f6e2980a752d/fetchFileTemp4295474107552388711.tmp\n",
      "23/07/26 10:44:56 INFO Executor: Adding file:/tmp/spark-8c5a7775-0fae-4213-a865-adff2f9b1742/userFiles-8bf59c3b-e152-4d58-8c5c-f6e2980a752d/os-lib_2.13-0.9.1.jar to class loader\n",
      "23/07/26 10:44:56 INFO Executor: Fetching spark://0adca2debb39:35089/jars/metrics-jmx-4.2.0.jar with timestamp 1690368289361\n",
      "23/07/26 10:44:56 INFO Utils: Fetching spark://0adca2debb39:35089/jars/metrics-jmx-4.2.0.jar to /tmp/spark-8c5a7775-0fae-4213-a865-adff2f9b1742/userFiles-8bf59c3b-e152-4d58-8c5c-f6e2980a752d/fetchFileTemp8798187623504017585.tmp\n",
      "23/07/26 10:44:56 INFO Executor: Adding file:/tmp/spark-8c5a7775-0fae-4213-a865-adff2f9b1742/userFiles-8bf59c3b-e152-4d58-8c5c-f6e2980a752d/metrics-jmx-4.2.0.jar to class loader\n",
      "23/07/26 10:44:56 INFO Executor: Fetching spark://0adca2debb39:35089/jars/log4j-1.2.17.jar with timestamp 1690368289361\n",
      "23/07/26 10:44:56 INFO Utils: Fetching spark://0adca2debb39:35089/jars/log4j-1.2.17.jar to /tmp/spark-8c5a7775-0fae-4213-a865-adff2f9b1742/userFiles-8bf59c3b-e152-4d58-8c5c-f6e2980a752d/fetchFileTemp8366889394255939669.tmp\n",
      "23/07/26 10:44:56 INFO Executor: Adding file:/tmp/spark-8c5a7775-0fae-4213-a865-adff2f9b1742/userFiles-8bf59c3b-e152-4d58-8c5c-f6e2980a752d/log4j-1.2.17.jar to class loader\n",
      "23/07/26 10:44:56 INFO Executor: Fetching spark://0adca2debb39:35089/jars/interface-1.0.18.jar with timestamp 1690368289361\n",
      "23/07/26 10:44:56 INFO Utils: Fetching spark://0adca2debb39:35089/jars/interface-1.0.18.jar to /tmp/spark-8c5a7775-0fae-4213-a865-adff2f9b1742/userFiles-8bf59c3b-e152-4d58-8c5c-f6e2980a752d/fetchFileTemp2157539865745634071.tmp\n",
      "23/07/26 10:44:56 INFO Executor: Adding file:/tmp/spark-8c5a7775-0fae-4213-a865-adff2f9b1742/userFiles-8bf59c3b-e152-4d58-8c5c-f6e2980a752d/interface-1.0.18.jar to class loader\n",
      "23/07/26 10:44:56 INFO Executor: Fetching spark://0adca2debb39:35089/jars/ivy-2.5.0.jar with timestamp 1690368289361\n",
      "23/07/26 10:44:56 INFO Utils: Fetching spark://0adca2debb39:35089/jars/ivy-2.5.0.jar to /tmp/spark-8c5a7775-0fae-4213-a865-adff2f9b1742/userFiles-8bf59c3b-e152-4d58-8c5c-f6e2980a752d/fetchFileTemp211159704774884892.tmp\n",
      "23/07/26 10:44:56 INFO Executor: Adding file:/tmp/spark-8c5a7775-0fae-4213-a865-adff2f9b1742/userFiles-8bf59c3b-e152-4d58-8c5c-f6e2980a752d/ivy-2.5.0.jar to class loader\n",
      "23/07/26 10:44:56 INFO Executor: Fetching spark://0adca2debb39:35089/jars/spark-network-common_2.13-3.2.0.jar with timestamp 1690368289361\n",
      "23/07/26 10:44:56 INFO Utils: Fetching spark://0adca2debb39:35089/jars/spark-network-common_2.13-3.2.0.jar to /tmp/spark-8c5a7775-0fae-4213-a865-adff2f9b1742/userFiles-8bf59c3b-e152-4d58-8c5c-f6e2980a752d/fetchFileTemp1761507733884581301.tmp\n",
      "23/07/26 10:44:56 INFO Executor: Adding file:/tmp/spark-8c5a7775-0fae-4213-a865-adff2f9b1742/userFiles-8bf59c3b-e152-4d58-8c5c-f6e2980a752d/spark-network-common_2.13-3.2.0.jar to class loader\n",
      "23/07/26 10:44:56 INFO Executor: Fetching spark://0adca2debb39:35089/jars/netty-all-4.1.68.Final.jar with timestamp 1690368289361\n",
      "23/07/26 10:44:56 INFO Utils: Fetching spark://0adca2debb39:35089/jars/netty-all-4.1.68.Final.jar to /tmp/spark-8c5a7775-0fae-4213-a865-adff2f9b1742/userFiles-8bf59c3b-e152-4d58-8c5c-f6e2980a752d/fetchFileTemp8491882439210991828.tmp\n",
      "23/07/26 10:44:56 INFO Executor: Adding file:/tmp/spark-8c5a7775-0fae-4213-a865-adff2f9b1742/userFiles-8bf59c3b-e152-4d58-8c5c-f6e2980a752d/netty-all-4.1.68.Final.jar to class loader\n",
      "23/07/26 10:44:56 INFO Executor: Fetching spark://0adca2debb39:35089/jars/parquet-encoding-1.12.1.jar with timestamp 1690368289361\n",
      "23/07/26 10:44:56 INFO Utils: Fetching spark://0adca2debb39:35089/jars/parquet-encoding-1.12.1.jar to /tmp/spark-8c5a7775-0fae-4213-a865-adff2f9b1742/userFiles-8bf59c3b-e152-4d58-8c5c-f6e2980a752d/fetchFileTemp2448922399489036836.tmp\n",
      "23/07/26 10:44:56 INFO Executor: Adding file:/tmp/spark-8c5a7775-0fae-4213-a865-adff2f9b1742/userFiles-8bf59c3b-e152-4d58-8c5c-f6e2980a752d/parquet-encoding-1.12.1.jar to class loader\n",
      "23/07/26 10:44:56 INFO Executor: Fetching spark://0adca2debb39:35089/jars/zookeeper-jute-3.6.2.jar with timestamp 1690368289361\n",
      "23/07/26 10:44:56 INFO Utils: Fetching spark://0adca2debb39:35089/jars/zookeeper-jute-3.6.2.jar to /tmp/spark-8c5a7775-0fae-4213-a865-adff2f9b1742/userFiles-8bf59c3b-e152-4d58-8c5c-f6e2980a752d/fetchFileTemp4365203371427360021.tmp\n",
      "23/07/26 10:44:56 INFO Executor: Adding file:/tmp/spark-8c5a7775-0fae-4213-a865-adff2f9b1742/userFiles-8bf59c3b-e152-4d58-8c5c-f6e2980a752d/zookeeper-jute-3.6.2.jar to class loader\n",
      "23/07/26 10:44:56 INFO Executor: Fetching spark://0adca2debb39:35089/jars/orc-core-1.6.11.jar with timestamp 1690368289361\n",
      "23/07/26 10:44:56 INFO Utils: Fetching spark://0adca2debb39:35089/jars/orc-core-1.6.11.jar to /tmp/spark-8c5a7775-0fae-4213-a865-adff2f9b1742/userFiles-8bf59c3b-e152-4d58-8c5c-f6e2980a752d/fetchFileTemp8647348596474487852.tmp\n",
      "23/07/26 10:44:56 INFO Executor: Adding file:/tmp/spark-8c5a7775-0fae-4213-a865-adff2f9b1742/userFiles-8bf59c3b-e152-4d58-8c5c-f6e2980a752d/orc-core-1.6.11.jar to class loader\n",
      "23/07/26 10:44:56 INFO Executor: Fetching spark://0adca2debb39:35089/jars/jupyter-api_2.13-0.14.0-RC12.jar with timestamp 1690368289361\n",
      "23/07/26 10:44:56 INFO Utils: Fetching spark://0adca2debb39:35089/jars/jupyter-api_2.13-0.14.0-RC12.jar to /tmp/spark-8c5a7775-0fae-4213-a865-adff2f9b1742/userFiles-8bf59c3b-e152-4d58-8c5c-f6e2980a752d/fetchFileTemp7385759376710420726.tmp\n",
      "23/07/26 10:44:56 INFO Executor: Adding file:/tmp/spark-8c5a7775-0fae-4213-a865-adff2f9b1742/userFiles-8bf59c3b-e152-4d58-8c5c-f6e2980a752d/jupyter-api_2.13-0.14.0-RC12.jar to class loader\n",
      "23/07/26 10:44:56 INFO Utils: Successfully started service 'org.apache.spark.network.netty.NettyBlockTransferService' on port 32965.\n",
      "23/07/26 10:44:56 INFO NettyBlockTransferService: Server created on 0adca2debb39:32965\n",
      "23/07/26 10:44:56 INFO BlockManager: Using org.apache.spark.storage.RandomBlockReplicationPolicy for block replication policy\n",
      "23/07/26 10:44:56 INFO BlockManagerMaster: Registering BlockManager BlockManagerId(driver, 0adca2debb39, 32965, None)\n",
      "23/07/26 10:44:56 INFO BlockManagerMasterEndpoint: Registering block manager 0adca2debb39:32965 with 345.0 MiB RAM, BlockManagerId(driver, 0adca2debb39, 32965, None)\n",
      "23/07/26 10:44:56 INFO BlockManagerMaster: Registered BlockManager BlockManagerId(driver, 0adca2debb39, 32965, None)\n",
      "23/07/26 10:44:56 INFO BlockManager: Initialized BlockManager: BlockManagerId(driver, 0adca2debb39, 32965, None)\n"
     ]
    },
    {
     "data": {
      "text/html": [
       "<a target=\"_blank\" href=\"http://0adca2debb39:4040\">Spark UI</a>"
      ]
     },
     "metadata": {},
     "output_type": "display_data"
    },
    {
     "data": {
      "text/plain": [
       "\u001b[32mimport \u001b[39m\u001b[36morg.apache.spark.sql._\u001b[39m\n",
       "\u001b[36mspark\u001b[39m: \u001b[32mSparkSession\u001b[39m = org.apache.spark.sql.SparkSession@54197ff1\n",
       "\u001b[32mimport \u001b[39m\u001b[36mspark.implicits._\u001b[39m\n",
       "\u001b[32mimport \u001b[39m\u001b[36m$file.$\u001b[39m\n",
       "\u001b[32mimport \u001b[39m\u001b[36mspark_helper.implicits._\u001b[39m"
      ]
     },
     "execution_count": 1,
     "metadata": {},
     "output_type": "execute_result"
    }
   ],
   "source": [
    "import org.apache.spark.sql._\n",
    "\n",
    "val spark: SparkSession = NotebookSparkSession.builder().appName(\"hello\").master(\"local[*]\").getOrCreate()\n",
    "\n",
    "import spark.implicits._\n",
    "import $file.spark_helper\n",
    "import spark_helper.implicits._"
   ]
  },
  {
   "cell_type": "code",
   "execution_count": 2,
   "id": "6aacea54-6802-43ba-9bc5-3634bb33f87d",
   "metadata": {
    "tags": []
   },
   "outputs": [
    {
     "data": {
      "text/plain": [
       "defined \u001b[32mclass\u001b[39m \u001b[36mOrderItem\u001b[39m\n",
       "defined \u001b[32mclass\u001b[39m \u001b[36mOrder\u001b[39m"
      ]
     },
     "execution_count": 2,
     "metadata": {},
     "output_type": "execute_result"
    }
   ],
   "source": [
    "case class OrderItem(product: String, quantity: Double)\n",
    "case class Order(id: String, items: Seq[OrderItem])"
   ]
  },
  {
   "cell_type": "code",
   "execution_count": 5,
   "id": "655a41f7-a067-4b68-a235-9cca1bed42cd",
   "metadata": {
    "scrolled": true
   },
   "outputs": [
    {
     "name": "stderr",
     "output_type": "stream",
     "text": [
      "Downloading https://repo1.maven.org/maven2/org/slf4j/slf4j-reload4j/2.0.6/slf4j-reload4j-2.0.6.pom\n",
      "Downloaded https://repo1.maven.org/maven2/org/slf4j/slf4j-reload4j/2.0.6/slf4j-reload4j-2.0.6.pom\n",
      "Downloading https://repo1.maven.org/maven2/ch/qos/reload4j/reload4j/1.2.22/reload4j-1.2.22.pom\n",
      "Downloaded https://repo1.maven.org/maven2/ch/qos/reload4j/reload4j/1.2.22/reload4j-1.2.22.pom\n",
      "Downloading https://repo1.maven.org/maven2/ch/qos/reload4j/reload4j/1.2.22/reload4j-1.2.22.jar\n",
      "Downloading https://repo1.maven.org/maven2/ch/qos/reload4j/reload4j/1.2.22/reload4j-1.2.22-sources.jar\n",
      "Downloading https://repo1.maven.org/maven2/org/slf4j/slf4j-reload4j/2.0.6/slf4j-reload4j-2.0.6.jar\n",
      "Downloading https://repo1.maven.org/maven2/org/slf4j/slf4j-reload4j/2.0.6/slf4j-reload4j-2.0.6-sources.jar\n",
      "Downloaded https://repo1.maven.org/maven2/ch/qos/reload4j/reload4j/1.2.22/reload4j-1.2.22.jar\n",
      "Downloaded https://repo1.maven.org/maven2/org/slf4j/slf4j-reload4j/2.0.6/slf4j-reload4j-2.0.6-sources.jar\n",
      "Downloaded https://repo1.maven.org/maven2/org/slf4j/slf4j-reload4j/2.0.6/slf4j-reload4j-2.0.6.jar\n",
      "Downloaded https://repo1.maven.org/maven2/ch/qos/reload4j/reload4j/1.2.22/reload4j-1.2.22-sources.jar\n",
      "23/07/26 10:49:57 INFO SparkContext: Added JAR file:/home/jovyan/.cache/coursier/v1/https/repo1.maven.org/maven2/org/slf4j/slf4j-reload4j/2.0.6/slf4j-reload4j-2.0.6.jar at spark://0adca2debb39:35089/jars/slf4j-reload4j-2.0.6.jar with timestamp 1690368597174\n",
      "23/07/26 10:49:57 INFO SparkContext: Added JAR file:/home/jovyan/.cache/coursier/v1/https/repo1.maven.org/maven2/ch/qos/reload4j/reload4j/1.2.22/reload4j-1.2.22.jar at spark://0adca2debb39:35089/jars/reload4j-1.2.22.jar with timestamp 1690368597202\n"
     ]
    },
    {
     "data": {
      "text/plain": [
       "\u001b[32mimport \u001b[39m\u001b[36m$ivy.$\u001b[39m\n",
       "\u001b[32mimport \u001b[39m\u001b[36morg.apache.logging.log4j.Level\u001b[39m\n",
       "\u001b[32mimport \u001b[39m\u001b[36morg.apache.logging.log4j.core.config.Configurator\u001b[39m"
      ]
     },
     "execution_count": 5,
     "metadata": {},
     "output_type": "execute_result"
    }
   ],
   "source": [
    "import $ivy.`org.slf4j:slf4j-reload4j:2.0.6`\n",
    "\n",
    "import org.apache.logging.log4j.Level\n",
    "import org.apache.logging.log4j.core.config.Configurator\n",
    "\n",
    "// Avoid disturbing logs\n",
    "Configurator.setRootLevel(Level.OFF)"
   ]
  },
  {
   "cell_type": "code",
   "execution_count": 8,
   "id": "f15e918e-fe01-4779-aa5a-1d22f46d3771",
   "metadata": {
    "tags": []
   },
   "outputs": [
    {
     "ename": "org.apache.spark.sql.AnalysisException",
     "evalue": "Unable to generate an encoder for inner class `ammonite.$sess.cell2$Helper$OrderItem` without access to the scope that this class was defined in.\nTry moving this class out of its parent class.",
     "output_type": "error",
     "traceback": [
      "\u001b[31morg.apache.spark.sql.AnalysisException: Unable to generate an encoder for inner class `ammonite.$sess.cell2$Helper$OrderItem` without access to the scope that this class was defined in.\nTry moving this class out of its parent class.\u001b[39m",
      "  org.apache.spark.sql.errors.QueryCompilationErrors$.outerScopeFailureForNewInstanceError(\u001b[32mQueryCompilationErrors.scala\u001b[39m:\u001b[32m292\u001b[39m)",
      "  org.apache.spark.sql.catalyst.analysis.Analyzer$ResolveNewInstance$$anonfun$apply$55$$anonfun$applyOrElse$232.applyOrElse(\u001b[32mAnalyzer.scala\u001b[39m:\u001b[32m3610\u001b[39m)",
      "  org.apache.spark.sql.catalyst.analysis.Analyzer$ResolveNewInstance$$anonfun$apply$55$$anonfun$applyOrElse$232.applyOrElse(\u001b[32mAnalyzer.scala\u001b[39m:\u001b[32m3606\u001b[39m)",
      "  org.apache.spark.sql.catalyst.trees.TreeNode.$anonfun$transformUpWithPruning$2(\u001b[32mTreeNode.scala\u001b[39m:\u001b[32m566\u001b[39m)",
      "  org.apache.spark.sql.catalyst.trees.CurrentOrigin$.withOrigin(\u001b[32mTreeNode.scala\u001b[39m:\u001b[32m104\u001b[39m)",
      "  org.apache.spark.sql.catalyst.trees.TreeNode.transformUpWithPruning(\u001b[32mTreeNode.scala\u001b[39m:\u001b[32m566\u001b[39m)",
      "  org.apache.spark.sql.catalyst.trees.TreeNode.$anonfun$transformUpWithPruning$1(\u001b[32mTreeNode.scala\u001b[39m:\u001b[32m563\u001b[39m)",
      "  org.apache.spark.sql.catalyst.trees.TernaryLike.mapChildren(\u001b[32mTreeNode.scala\u001b[39m:\u001b[32m1310\u001b[39m)",
      "  org.apache.spark.sql.catalyst.trees.TernaryLike.mapChildren$(\u001b[32mTreeNode.scala\u001b[39m:\u001b[32m1305\u001b[39m)",
      "  org.apache.spark.sql.catalyst.expressions.If.mapChildren(\u001b[32mconditionalExpressions.scala\u001b[39m:\u001b[32m41\u001b[39m)",
      "  org.apache.spark.sql.catalyst.trees.TreeNode.transformUpWithPruning(\u001b[32mTreeNode.scala\u001b[39m:\u001b[32m563\u001b[39m)",
      "  org.apache.spark.sql.catalyst.trees.TreeNode.$anonfun$transformUpWithPruning$1(\u001b[32mTreeNode.scala\u001b[39m:\u001b[32m563\u001b[39m)",
      "  org.apache.spark.sql.catalyst.trees.TernaryLike.mapChildren(\u001b[32mTreeNode.scala\u001b[39m:\u001b[32m1308\u001b[39m)",
      "  org.apache.spark.sql.catalyst.trees.TernaryLike.mapChildren$(\u001b[32mTreeNode.scala\u001b[39m:\u001b[32m1305\u001b[39m)",
      "  org.apache.spark.sql.catalyst.expressions.objects.MapObjects.mapChildren(\u001b[32mobjects.scala\u001b[39m:\u001b[32m843\u001b[39m)",
      "  org.apache.spark.sql.catalyst.trees.TreeNode.transformUpWithPruning(\u001b[32mTreeNode.scala\u001b[39m:\u001b[32m563\u001b[39m)",
      "  org.apache.spark.sql.catalyst.trees.TreeNode.$anonfun$transformUpWithPruning$1(\u001b[32mTreeNode.scala\u001b[39m:\u001b[32m563\u001b[39m)",
      "  scala.collection.immutable.Vector1.map(\u001b[32mVector.scala\u001b[39m:\u001b[32m2138\u001b[39m)",
      "  scala.collection.immutable.Vector1.map(\u001b[32mVector.scala\u001b[39m:\u001b[32m383\u001b[39m)",
      "  org.apache.spark.sql.catalyst.trees.TreeNode.mapChildren(\u001b[32mTreeNode.scala\u001b[39m:\u001b[32m750\u001b[39m)",
      "  org.apache.spark.sql.catalyst.trees.TreeNode.transformUpWithPruning(\u001b[32mTreeNode.scala\u001b[39m:\u001b[32m563\u001b[39m)",
      "  org.apache.spark.sql.catalyst.plans.QueryPlan.$anonfun$transformExpressionsUpWithPruning$1(\u001b[32mQueryPlan.scala\u001b[39m:\u001b[32m195\u001b[39m)",
      "  org.apache.spark.sql.catalyst.plans.QueryPlan.$anonfun$mapExpressions$1(\u001b[32mQueryPlan.scala\u001b[39m:\u001b[32m207\u001b[39m)",
      "  org.apache.spark.sql.catalyst.trees.CurrentOrigin$.withOrigin(\u001b[32mTreeNode.scala\u001b[39m:\u001b[32m104\u001b[39m)",
      "  org.apache.spark.sql.catalyst.plans.QueryPlan.transformExpression$1(\u001b[32mQueryPlan.scala\u001b[39m:\u001b[32m207\u001b[39m)",
      "  org.apache.spark.sql.catalyst.plans.QueryPlan.recursiveTransform$1(\u001b[32mQueryPlan.scala\u001b[39m:\u001b[32m218\u001b[39m)",
      "  org.apache.spark.sql.catalyst.plans.QueryPlan.$anonfun$mapExpressions$4(\u001b[32mQueryPlan.scala\u001b[39m:\u001b[32m228\u001b[39m)",
      "  org.apache.spark.sql.catalyst.trees.TreeNode.mapProductIterator(\u001b[32mTreeNode.scala\u001b[39m:\u001b[32m355\u001b[39m)",
      "  org.apache.spark.sql.catalyst.plans.QueryPlan.mapExpressions(\u001b[32mQueryPlan.scala\u001b[39m:\u001b[32m228\u001b[39m)",
      "  org.apache.spark.sql.catalyst.plans.QueryPlan.transformExpressionsUpWithPruning(\u001b[32mQueryPlan.scala\u001b[39m:\u001b[32m195\u001b[39m)",
      "  org.apache.spark.sql.catalyst.analysis.Analyzer$ResolveNewInstance$$anonfun$apply$55.applyOrElse(\u001b[32mAnalyzer.scala\u001b[39m:\u001b[32m3606\u001b[39m)",
      "  org.apache.spark.sql.catalyst.analysis.Analyzer$ResolveNewInstance$$anonfun$apply$55.applyOrElse(\u001b[32mAnalyzer.scala\u001b[39m:\u001b[32m3602\u001b[39m)",
      "  org.apache.spark.sql.catalyst.plans.logical.AnalysisHelper.$anonfun$resolveOperatorsUpWithPruning$3(\u001b[32mAnalysisHelper.scala\u001b[39m:\u001b[32m138\u001b[39m)",
      "  org.apache.spark.sql.catalyst.trees.CurrentOrigin$.withOrigin(\u001b[32mTreeNode.scala\u001b[39m:\u001b[32m104\u001b[39m)",
      "  org.apache.spark.sql.catalyst.plans.logical.AnalysisHelper.$anonfun$resolveOperatorsUpWithPruning$1(\u001b[32mAnalysisHelper.scala\u001b[39m:\u001b[32m138\u001b[39m)",
      "  org.apache.spark.sql.catalyst.plans.logical.AnalysisHelper$.allowInvokingTransformsInAnalyzer(\u001b[32mAnalysisHelper.scala\u001b[39m:\u001b[32m323\u001b[39m)",
      "  org.apache.spark.sql.catalyst.plans.logical.AnalysisHelper.resolveOperatorsUpWithPruning(\u001b[32mAnalysisHelper.scala\u001b[39m:\u001b[32m134\u001b[39m)",
      "  org.apache.spark.sql.catalyst.plans.logical.AnalysisHelper.resolveOperatorsUpWithPruning$(\u001b[32mAnalysisHelper.scala\u001b[39m:\u001b[32m130\u001b[39m)",
      "  org.apache.spark.sql.catalyst.plans.logical.LogicalPlan.resolveOperatorsUpWithPruning(\u001b[32mLogicalPlan.scala\u001b[39m:\u001b[32m31\u001b[39m)",
      "  org.apache.spark.sql.catalyst.analysis.Analyzer$ResolveNewInstance$.apply(\u001b[32mAnalyzer.scala\u001b[39m:\u001b[32m3602\u001b[39m)",
      "  org.apache.spark.sql.catalyst.analysis.Analyzer$ResolveNewInstance$.apply(\u001b[32mAnalyzer.scala\u001b[39m:\u001b[32m3600\u001b[39m)",
      "  org.apache.spark.sql.catalyst.rules.RuleExecutor.$anonfun$execute$2(\u001b[32mRuleExecutor.scala\u001b[39m:\u001b[32m222\u001b[39m)",
      "  scala.collection.LinearSeqOps.foldLeft(\u001b[32mLinearSeq.scala\u001b[39m:\u001b[32m183\u001b[39m)",
      "  scala.collection.LinearSeqOps.foldLeft$(\u001b[32mLinearSeq.scala\u001b[39m:\u001b[32m179\u001b[39m)",
      "  scala.collection.immutable.List.foldLeft(\u001b[32mList.scala\u001b[39m:\u001b[32m79\u001b[39m)",
      "  org.apache.spark.sql.catalyst.rules.RuleExecutor.$anonfun$execute$1(\u001b[32mRuleExecutor.scala\u001b[39m:\u001b[32m219\u001b[39m)",
      "  org.apache.spark.sql.catalyst.rules.RuleExecutor.$anonfun$execute$1$adapted(\u001b[32mRuleExecutor.scala\u001b[39m:\u001b[32m211\u001b[39m)",
      "  scala.collection.immutable.List.foreach(\u001b[32mList.scala\u001b[39m:\u001b[32m333\u001b[39m)",
      "  org.apache.spark.sql.catalyst.rules.RuleExecutor.execute(\u001b[32mRuleExecutor.scala\u001b[39m:\u001b[32m211\u001b[39m)",
      "  org.apache.spark.sql.catalyst.analysis.Analyzer.org$apache$spark$sql$catalyst$analysis$Analyzer$$executeSameContext(\u001b[32mAnalyzer.scala\u001b[39m:\u001b[32m228\u001b[39m)",
      "  org.apache.spark.sql.catalyst.analysis.Analyzer.$anonfun$execute$1(\u001b[32mAnalyzer.scala\u001b[39m:\u001b[32m224\u001b[39m)",
      "  org.apache.spark.sql.catalyst.analysis.AnalysisContext$.withNewAnalysisContext(\u001b[32mAnalyzer.scala\u001b[39m:\u001b[32m173\u001b[39m)",
      "  org.apache.spark.sql.catalyst.analysis.Analyzer.execute(\u001b[32mAnalyzer.scala\u001b[39m:\u001b[32m224\u001b[39m)",
      "  org.apache.spark.sql.catalyst.encoders.ExpressionEncoder.resolveAndBind(\u001b[32mExpressionEncoder.scala\u001b[39m:\u001b[32m339\u001b[39m)",
      "  org.apache.spark.sql.Dataset.resolvedEnc$lzycompute(\u001b[32mDataset.scala\u001b[39m:\u001b[32m239\u001b[39m)",
      "  org.apache.spark.sql.Dataset.org$apache$spark$sql$Dataset$$resolvedEnc(\u001b[32mDataset.scala\u001b[39m:\u001b[32m238\u001b[39m)",
      "  org.apache.spark.sql.Dataset$.apply(\u001b[32mDataset.scala\u001b[39m:\u001b[32m82\u001b[39m)",
      "  org.apache.spark.sql.SparkSession.createDataset(\u001b[32mSparkSession.scala\u001b[39m:\u001b[32m485\u001b[39m)",
      "  org.apache.spark.sql.SQLContext.createDataset(\u001b[32mSQLContext.scala\u001b[39m:\u001b[32m354\u001b[39m)",
      "  org.apache.spark.sql.SQLImplicits.localSeqToDatasetHolder(\u001b[32mSQLImplicits.scala\u001b[39m:\u001b[32m244\u001b[39m)",
      "  ammonite.$sess.cell8$Helper.<init>(\u001b[32mcell8.sc\u001b[39m:\u001b[32m1\u001b[39m)",
      "  ammonite.$sess.cell8$.<clinit>(\u001b[32mcell8.sc\u001b[39m:\u001b[32m7\u001b[39m)"
     ]
    }
   ],
   "source": [
    "val df: Dataset[Order] = Seq(\n",
    "  Order(\"1\", Seq(OrderItem(\"banana\", 5.0), OrderItem(\"cafe\", 10.0)))\n",
    ").toDS()\n",
    "\n",
    "df.show()"
   ]
  },
  {
   "cell_type": "code",
   "execution_count": 10,
   "id": "4e5e4154-7241-4ce8-a69e-84ad0be226dc",
   "metadata": {},
   "outputs": [
    {
     "data": {
      "text/html": [
       "\n",
       "<table class=\"table\">\n",
       "  <tr>\n",
       "    <th>id</th><th>name</th><th>age</th>\n",
       "  </tr>\n",
       "  <tr><td>123</td><td>jon</td><td>23</td></tr>\n",
       "</table>"
      ]
     },
     "metadata": {},
     "output_type": "display_data"
    },
    {
     "data": {
      "text/plain": [
       "\u001b[36mdf\u001b[39m: \u001b[32mDataFrame\u001b[39m = [id: string, name: string ... 1 more field]"
      ]
     },
     "execution_count": 10,
     "metadata": {},
     "output_type": "execute_result"
    }
   ],
   "source": [
    "val df =\n",
    " Seq(\n",
    "     (\"123\", \"jon\", 23)\n",
    " ).toDF(\"id\", \"name\", \"age\")\n",
    "\n",
    "df.showHTML()"
   ]
  },
  {
   "cell_type": "code",
   "execution_count": null,
   "id": "93b439db-5291-44c9-9ab3-7d1dcbf9ceb3",
   "metadata": {},
   "outputs": [],
   "source": []
  }
 ],
 "metadata": {
  "kernelspec": {
   "display_name": "Scala 2.13",
   "language": "scala",
   "name": "scala213"
  },
  "language_info": {
   "codemirror_mode": "text/x-scala",
   "file_extension": ".sc",
   "mimetype": "text/x-scala",
   "name": "scala",
   "nbconvert_exporter": "script",
   "version": "2.13.11"
  }
 },
 "nbformat": 4,
 "nbformat_minor": 5
}
