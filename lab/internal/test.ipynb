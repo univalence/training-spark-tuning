{
 "cells": [
  {
   "cell_type": "code",
   "execution_count": null,
   "id": "e04261f1-7fb3-4bed-a513-f8803ac68dbc",
   "metadata": {
    "editable": true,
    "scrolled": true,
    "slideshow": {
     "slide_type": ""
    },
    "tags": []
   },
   "outputs": [],
   "source": [
    "import $file.spark_helper\n",
    "import spark_helper.implicits._\n",
    "spark_helper.init()"
   ]
  },
  {
   "cell_type": "code",
   "execution_count": null,
   "id": "e322f294-330d-4e92-b6b1-34f028b33168",
   "metadata": {
    "tags": []
   },
   "outputs": [],
   "source": [
    "%%shell\n",
    "ls\n",
    "ls"
   ]
  },
  {
   "cell_type": "code",
   "execution_count": null,
   "id": "608c6731-3e57-45a2-a8d4-7c94090ec494",
   "metadata": {},
   "outputs": [],
   "source": [
    "%%data limit=2,truncate=2\n",
    "\n",
    "Array(\"abc\", \"def\", \"ghi\", \"jkl\")"
   ]
  },
  {
   "cell_type": "code",
   "execution_count": null,
   "id": "ed0a4aef-0095-4247-af0a-c1f1234d10e3",
   "metadata": {},
   "outputs": [],
   "source": [
    "kernel"
   ]
  },
  {
   "cell_type": "code",
   "execution_count": null,
   "id": "21e54cb6-870a-4784-a677-9becb76ea3a2",
   "metadata": {
    "editable": true,
    "slideshow": {
     "slide_type": ""
    },
    "tags": []
   },
   "outputs": [],
   "source": [
    "import java.net.InetAddress\n",
    "\n",
    "InetAddress.getLocalHost().getHostAddress()"
   ]
  },
  {
   "cell_type": "code",
   "execution_count": null,
   "id": "a8e96c5c-1bae-487a-b5f6-244405ecba25",
   "metadata": {
    "editable": true,
    "scrolled": true,
    "slideshow": {
     "slide_type": ""
    },
    "tags": []
   },
   "outputs": [],
   "source": [
    "import org.apache.spark.sql._\n",
    "\n",
    "val spark: SparkSession = NotebookSparkSession.builder().appName(\"hello\").master(\"local[*]\").getOrCreate()\n",
    "\n",
    "import spark.implicits._\n",
    "import $file.spark_helper\n",
    "import spark_helper.implicits._"
   ]
  },
  {
   "cell_type": "code",
   "execution_count": null,
   "id": "6aacea54-6802-43ba-9bc5-3634bb33f87d",
   "metadata": {
    "tags": []
   },
   "outputs": [],
   "source": [
    "case class OrderItem(product: String, quantity: Double)\n",
    "case class Order(id: String, items: Seq[OrderItem])"
   ]
  },
  {
   "cell_type": "code",
   "execution_count": null,
   "id": "655a41f7-a067-4b68-a235-9cca1bed42cd",
   "metadata": {
    "scrolled": true
   },
   "outputs": [],
   "source": [
    "import $ivy.`org.slf4j:slf4j-reload4j:2.0.6`\n",
    "\n",
    "import org.apache.logging.log4j.Level\n",
    "import org.apache.logging.log4j.core.config.Configurator\n",
    "\n",
    "// Avoid disturbing logs\n",
    "Configurator.setRootLevel(Level.OFF)"
   ]
  },
  {
   "cell_type": "code",
   "execution_count": null,
   "id": "f15e918e-fe01-4779-aa5a-1d22f46d3771",
   "metadata": {
    "tags": []
   },
   "outputs": [],
   "source": [
    "val df: Dataset[Order] = Seq(\n",
    "  Order(\"1\", Seq(OrderItem(\"banana\", 5.0), OrderItem(\"cafe\", 10.0)))\n",
    ").toDS()\n",
    "\n",
    "df.show()"
   ]
  },
  {
   "cell_type": "code",
   "execution_count": null,
   "id": "4e5e4154-7241-4ce8-a69e-84ad0be226dc",
   "metadata": {},
   "outputs": [],
   "source": [
    "val df =\n",
    " Seq(\n",
    "     (\"123\", \"jon\", 23)\n",
    " ).toDF(\"id\", \"name\", \"age\")\n",
    "\n",
    "df.showHTML()"
   ]
  },
  {
   "cell_type": "code",
   "execution_count": null,
   "id": "93b439db-5291-44c9-9ab3-7d1dcbf9ceb3",
   "metadata": {},
   "outputs": [],
   "source": []
  }
 ],
 "metadata": {
  "kernelspec": {
   "display_name": "Scala 2.13",
   "language": "scala",
   "name": "scala213"
  },
  "language_info": {
   "codemirror_mode": "text/x-scala",
   "file_extension": ".sc",
   "mimetype": "text/x-scala",
   "name": "scala",
   "nbconvert_exporter": "script",
   "version": "2.13.11"
  }
 },
 "nbformat": 4,
 "nbformat_minor": 5
}
