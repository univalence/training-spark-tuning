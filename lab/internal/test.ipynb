{
 "cells": [
  {
   "cell_type": "code",
   "execution_count": 1,
   "id": "e04261f1-7fb3-4bed-a513-f8803ac68dbc",
   "metadata": {
    "tags": []
   },
   "outputs": [
    {
     "data": {
      "text/plain": [
       "\u001b[32mimport \u001b[39m\u001b[36m$file.$           , spark_helper._\u001b[39m"
      ]
     },
     "execution_count": 1,
     "metadata": {},
     "output_type": "execute_result"
    }
   ],
   "source": [
    "import $file.spark_helper, spark_helper._"
   ]
  },
  {
   "cell_type": "code",
   "execution_count": 2,
   "id": "e322f294-330d-4e92-b6b1-34f028b33168",
   "metadata": {
    "tags": []
   },
   "outputs": [
    {
     "data": {
      "text/html": [
       "\n",
       "    <pre style=\"background: black; color: lightgray; padding: 1ex\">\n",
       "<span style=\"color: cyan\">/home/jovyan/work/internal $</span> <span style=\"color: white\">ls</span>\n",
       "spark_helper.sc\n",
       "test.ipynb</pre>"
      ]
     },
     "metadata": {},
     "output_type": "display_data"
    }
   ],
   "source": [
    "shell(\"ls\")"
   ]
  },
  {
   "cell_type": "code",
   "execution_count": 4,
   "id": "21e54cb6-870a-4784-a677-9becb76ea3a2",
   "metadata": {},
   "outputs": [
    {
     "data": {
      "text/plain": [
       "\u001b[32mimport \u001b[39m\u001b[36mjava.net.InetAddress\n",
       "\n",
       "\u001b[39m\n",
       "\u001b[36mres3_1\u001b[39m: \u001b[32mString\u001b[39m = \u001b[32m\"172.23.0.2\"\u001b[39m"
      ]
     },
     "execution_count": 4,
     "metadata": {},
     "output_type": "execute_result"
    }
   ],
   "source": [
    "import java.net.InetAddress\n",
    "\n",
    "InetAddress.getLocalHost().getHostAddress()"
   ]
  },
  {
   "cell_type": "code",
   "execution_count": null,
   "id": "bc15f3db-01b0-4485-9c4f-6d28afdc671f",
   "metadata": {
    "tags": []
   },
   "outputs": [],
   "source": []
  },
  {
   "cell_type": "code",
   "execution_count": 1,
   "id": "a8e96c5c-1bae-487a-b5f6-244405ecba25",
   "metadata": {},
   "outputs": [
    {
     "name": "stdout",
     "output_type": "stream",
     "text": [
      "Compiling /home/jovyan/work/internal/spark_helper.scLoading spark-stubs\n",
      "Getting spark JARs\n"
     ]
    },
    {
     "name": "stderr",
     "output_type": "stream",
     "text": [
      "SLF4J: No SLF4J providers were found.\n",
      "SLF4J: Defaulting to no-operation (NOP) logger implementation\n",
      "SLF4J: See https://www.slf4j.org/codes.html#noProviders for further details.\n"
     ]
    },
    {
     "name": "stdout",
     "output_type": "stream",
     "text": [
      "Creating SparkSession\n"
     ]
    },
    {
     "name": "stderr",
     "output_type": "stream",
     "text": [
      "Using Spark's default log4j profile: org/apache/spark/log4j2-defaults.properties\n"
     ]
    },
    {
     "data": {
      "text/html": [
       "<a target=\"_blank\" href=\"http://9bf93c2808c6:4042\">Spark UI</a>"
      ]
     },
     "metadata": {},
     "output_type": "display_data"
    },
    {
     "data": {
      "text/plain": [
       "\u001b[32mimport \u001b[39m\u001b[36morg.apache.spark.sql._\n",
       "\n",
       "\u001b[39m\n",
       "\u001b[36mspark\u001b[39m: \u001b[32mSparkSession\u001b[39m = org.apache.spark.sql.SparkSession@62839de7\n",
       "\u001b[32mimport \u001b[39m\u001b[36mspark.implicits._\n",
       "\u001b[39m\n",
       "\u001b[32mimport \u001b[39m\u001b[36m$file.$           , spark_helper._\u001b[39m"
      ]
     },
     "execution_count": 1,
     "metadata": {},
     "output_type": "execute_result"
    }
   ],
   "source": [
    "import org.apache.spark.sql._\n",
    "\n",
    "val spark: SparkSession = NotebookSparkSession.builder().appName(\"hello\").master(\"local[*]\").getOrCreate()\n",
    "\n",
    "import spark.implicits._\n",
    "import $file.spark_helper, spark_helper._"
   ]
  },
  {
   "cell_type": "code",
   "execution_count": 2,
   "id": "6aacea54-6802-43ba-9bc5-3634bb33f87d",
   "metadata": {
    "tags": []
   },
   "outputs": [
    {
     "data": {
      "text/html": [
       "\n",
       "      <table class=\"table\">\n",
       "        <tr>\n",
       "        <th>id</th><th>items</th>\n",
       "        </tr>\n",
       "        <tr><td>1</td><td>[[banana,5.0], [cafe,10.0]]</td></tr>\n",
       "      </table>"
      ]
     },
     "metadata": {},
     "output_type": "display_data"
    },
    {
     "data": {
      "text/plain": [
       "defined \u001b[32mclass\u001b[39m \u001b[36mOrderItem\u001b[39m\n",
       "defined \u001b[32mclass\u001b[39m \u001b[36mOrder\u001b[39m\n",
       "\u001b[36mdf\u001b[39m: \u001b[32mDataset\u001b[39m[\u001b[32mOrder\u001b[39m] = [id: string, items: array<struct<product:string,quantity:double>>]"
      ]
     },
     "execution_count": 2,
     "metadata": {},
     "output_type": "execute_result"
    }
   ],
   "source": [
    "case class OrderItem(product: String, quantity: Double)\n",
    "case class Order(id: String, items: Seq[OrderItem])\n",
    "\n",
    "val df: Dataset[Order] = Seq(\n",
    "  Order(\"1\", Seq(OrderItem(\"banana\", 5.0), OrderItem(\"cafe\", 10.0)))\n",
    ").toDS\n",
    "\n",
    "df.showHTML(truncate=40)"
   ]
  },
  {
   "cell_type": "code",
   "execution_count": null,
   "id": "4e5e4154-7241-4ce8-a69e-84ad0be226dc",
   "metadata": {},
   "outputs": [],
   "source": []
  }
 ],
 "metadata": {
  "kernelspec": {
   "display_name": "Scala 2.13",
   "language": "scala",
   "name": "scala213"
  },
  "language_info": {
   "codemirror_mode": "text/x-scala",
   "file_extension": ".sc",
   "mimetype": "text/x-scala",
   "name": "scala",
   "nbconvert_exporter": "script",
   "version": "2.13.10"
  }
 },
 "nbformat": 4,
 "nbformat_minor": 5
}
