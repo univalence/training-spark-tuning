{
 "cells": [
  {
   "cell_type": "markdown",
   "id": "77f20ffa-8833-444b-a0c5-25c14966102d",
   "metadata": {
    "tags": []
   },
   "source": [
    "# Introduction\n",
    "\n",
    "Ceci est un notebook Jupyter. Dans le domaine de la data ingénierie et de la data science, un notebook est un outil de développement interactif qui permet aux développeurs de créer, partager et exécuter du code, des visualisations et du texte explicatif, dans un seul document. Il est principalement utilisé pour la programmation en Python, mais supporte également d'autres langages tels que R, Julia et Scala.\n",
    "\n",
    "Nous allons utiliser des notebook pour vous permettre de vous exercer avec Spark. Pour le moment, voici une introduction."
   ]
  },
  {
   "cell_type": "markdown",
   "id": "b71b3fcc-441c-41d4-851e-6ee37246f166",
   "metadata": {},
   "source": [
    "La cellule dans laquelle se trouve ce texte est une cellule de type Markdown. Il s'agit d'une cellule dans laquelle il est possible de formater du texte.\n",
    "\n",
    " * _en italique_\n",
    " * **en gras**\n",
    " * `en police fixe`\n",
    " \n",
    "Il est possible de mettre des [liens](https://spark.apache.org/)."
   ]
  },
  {
   "cell_type": "markdown",
   "id": "c93700d5-6b49-45c3-86da-3c08aba7227c",
   "metadata": {},
   "source": [
    "La cellule ci-dessous contient du code. Ce code est exécutable. Pour cela, cliquez sur la cellule juste en dessous pour la sélectionner et taper <Shift>+<Enter> ou cliquez sur l'icône ▶️ qui se trouve en haut dans la barre d'outils."
   ]
  },
  {
   "cell_type": "code",
   "execution_count": 1,
   "id": "433e6100-4b4a-4387-a360-93106b46cfe8",
   "metadata": {
    "tags": []
   },
   "outputs": [
    {
     "data": {
      "text/plain": [
       "\u001b[36mres0\u001b[39m: \u001b[32mInt\u001b[39m = \u001b[32m2\u001b[39m"
      ]
     },
     "execution_count": 1,
     "metadata": {},
     "output_type": "execute_result"
    }
   ],
   "source": [
    "1 + 1"
   ]
  },
  {
   "cell_type": "markdown",
   "id": "13841547-a53e-4c2f-9db4-11fe9b68a6a6",
   "metadata": {},
   "source": [
    "Bravo ! Vous avez effectué votre premier calcul avec un notebook Jupyter.\n",
    "\n",
    "Le code que vous venez d'exécuter est du code Scala. Scala est un langage de programmation à la fois orienté objet et fonctionnel. C'est le langage avec lequel Scala est principalement implémenté.\n",
    "\n",
    "Ce code s'exécute grâce à un \"noyau\" appelé [Almond](https://almond.sh/). Celui-ci s'interface avec Jupyter pour pouvoir interagir avec vous et exécuter le code que vous lui transmettez.\n",
    "\n",
    "Almond est un projet qui assez actif. Il se base sur [Ammonite](https://ammonite.io/) et offre beaucoup de flexibilités. Almond permet de réaliser des imports à la volée."
   ]
  },
  {
   "cell_type": "code",
   "execution_count": 2,
   "id": "2e52b667-9db6-4797-8eb0-15bebaf8e460",
   "metadata": {
    "tags": []
   },
   "outputs": [
    {
     "data": {
      "text/plain": [
       "\u001b[32mimport \u001b[39m\u001b[36mscala.util.Using\n",
       "\u001b[39m\n",
       "\u001b[32mimport \u001b[39m\u001b[36mscala.io.Source\n",
       "\n",
       "\u001b[39m\n",
       "\u001b[36mres1_2\u001b[39m: \u001b[32mString\u001b[39m = \u001b[32m\"Bravo ! Vous avez réussi à charger un fichier avec un notebook Jupyter.\"\u001b[39m"
      ]
     },
     "execution_count": 2,
     "metadata": {},
     "output_type": "execute_result"
    }
   ],
   "source": [
    "import scala.util.Using\n",
    "import scala.io.Source\n",
    "\n",
    "Using(Source.fromFile(\"internal/data.txt\")) { file =>\n",
    "  file.getLines().mkString(\"\\n\")\n",
    "}.get"
   ]
  },
  {
   "cell_type": "markdown",
   "id": "7e26248d-10e0-49d6-ae9a-8ea5c4883898",
   "metadata": {},
   "source": [
    "Almond permet de récupérer des dépendances depuis [Maven Central](https://central.sonatype.com), en utilisant [Ivy](https://ant.apache.org/ivy/)."
   ]
  },
  {
   "cell_type": "code",
   "execution_count": 5,
   "id": "64c4c606-e5d2-4de5-a8d2-3c5264539a59",
   "metadata": {
    "tags": []
   },
   "outputs": [
    {
     "name": "stdout",
     "output_type": "stream",
     "text": [
      "message to you: Welcome!\n"
     ]
    },
    {
     "data": {
      "text/plain": [
       "\u001b[32mimport \u001b[39m\u001b[36m$ivy.$                                 \n",
       "\n",
       "\u001b[39m\n",
       "\u001b[32mimport \u001b[39m\u001b[36mcom.google.gson.JsonParser\n",
       "\u001b[39m\n",
       "\u001b[36mjson\u001b[39m: \u001b[32mcom\u001b[39m.\u001b[32mgoogle\u001b[39m.\u001b[32mgson\u001b[39m.\u001b[32mJsonElement\u001b[39m = {\"message\":\"Welcome!\"}\n",
       "\u001b[36mresult\u001b[39m: \u001b[32mString\u001b[39m = \u001b[32m\"Welcome!\"\u001b[39m"
      ]
     },
     "execution_count": 5,
     "metadata": {},
     "output_type": "execute_result"
    }
   ],
   "source": [
    "import $ivy.`com.google.code.gson:gson:2.10.1`\n",
    "\n",
    "import com.google.gson.JsonParser\n",
    "val json = JsonParser.parseString(\"\"\"{\"message\": \"Welcome!\"}\"\"\")\n",
    "\n",
    "val result = json.getAsJsonObject().get(\"message\").getAsString()\n",
    "\n",
    "println(s\"message to you: $result\")"
   ]
  },
  {
   "cell_type": "markdown",
   "id": "c586244a-0905-4974-912d-c9225128c4b3",
   "metadata": {},
   "source": [
    "## Troubleshooting\n",
    "\n",
    "### Redémarrer le noyau\n",
    "\n",
    "Si vous avez des erreurs que vous avez du mal à comprendre, il est possible que cela vienne d'un \"emballement\" de l'environnement. N'hésitez pas à cliquer sur la boucle fléchée en haut dans la barre d'outils.\n",
    "\n",
    "Cependant, si vous faites ça, vous perdez tous les imports et les variables que vous avez constitués jusque-là. Il faudra alors réexécuter les cellules de code une par une depuis le début du notebook.\n",
    "\n",
    "### Respecter l'ordre des cellules lorsque vous les exécutez\n",
    "\n",
    "Il se peut que des cellules dépendent du résultat calculé dans d'autres cellules (généralement plus haut). Respectez bien l'ordre d'exécution des cellules du haut vers le bas du notebook."
   ]
  },
  {
   "cell_type": "code",
   "execution_count": null,
   "id": "b0dbeaf1-46d1-48a2-8117-d5fc07c6937d",
   "metadata": {},
   "outputs": [],
   "source": []
  }
 ],
 "metadata": {
  "kernelspec": {
   "display_name": "Scala 2.13",
   "language": "scala",
   "name": "scala213"
  },
  "language_info": {
   "codemirror_mode": "text/x-scala",
   "file_extension": ".sc",
   "mimetype": "text/x-scala",
   "name": "scala",
   "nbconvert_exporter": "script",
   "version": "2.13.10"
  }
 },
 "nbformat": 4,
 "nbformat_minor": 5
}
