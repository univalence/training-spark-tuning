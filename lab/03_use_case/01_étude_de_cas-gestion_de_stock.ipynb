{
 "cells": [
  {
   "cell_type": "markdown",
   "metadata": {},
   "source": [
    "# Étude de cas"
   ]
  },
  {
   "cell_type": "markdown",
   "metadata": {
    "tags": []
   },
   "source": [
    "# Préambule"
   ]
  },
  {
   "cell_type": "markdown",
   "metadata": {},
   "source": [
    "<span style=\"background: red; color: white;\">**!!! Avant de commencer, exécutez le contenue des cellules suivantes.**</span>"
   ]
  },
  {
   "cell_type": "code",
   "execution_count": null,
   "metadata": {
    "scrolled": true,
    "tags": []
   },
   "outputs": [],
   "source": [
    "import $ivy.`org.apache.spark::spark-sql:3.4.1`\n",
    "import $ivy.`org.slf4j:slf4j-reload4j:2.0.6`\n",
    "\n",
    "import org.apache.logging.log4j.Level\n",
    "import org.apache.logging.log4j.core.config.Configurator\n",
    "\n",
    "Configurator.setRootLevel(Level.OFF)"
   ]
  },
  {
   "cell_type": "code",
   "execution_count": null,
   "metadata": {
    "scrolled": true,
    "tags": []
   },
   "outputs": [],
   "source": [
    "import org.apache.spark.sql._\n",
    "\n",
    "val spark = {\n",
    "  NotebookSparkSession.builder()\n",
    "    .progress(enable = true, keep = true, useBars = true)\n",
    "    .appName(\"store-stock\")\n",
    "    .master(\"local[*]\")\n",
    "    .getOrCreate()\n",
    "}\n",
    "\n",
    "import $file.^.internal.spark_helper\n",
    "import spark_helper.implicits._"
   ]
  },
  {
   "cell_type": "code",
   "execution_count": null,
   "metadata": {
    "tags": []
   },
   "outputs": [],
   "source": [
    "import org.apache.spark.sql.functions._\n",
    "import org.apache.spark.sql.expressions._\n",
    "import spark.implicits._\n",
    "\n",
    "/**\n",
    " * display an extract of a dataset and its schema.\n",
    " */\n",
    "def display[A](dataset: Dataset[A]): Unit = {\n",
    "    dataset.showHTML(limit=10, truncate=50)\n",
    "    dataset.printSchema()\n",
    "}"
   ]
  },
  {
   "cell_type": "markdown",
   "metadata": {},
   "source": [
    "# Introduction\n",
    "\n",
    "Ce notebook est divisé en 4 parties, plus une introduction :\n",
    "\n",
    " * Introduction\n",
    " * I -   Données de stock\n",
    " * II -  Données de commande client\n",
    " * III - Projection de stock\n",
    " * IV -  Application d'un seuil commandable\n",
    " \n",
    "Les données nécessaires pour ce notebook sont dans le répertoire `data/`.\n",
    "\n",
    "Toutes les questions sont surlignées en <span style=\"background: yellow;\">jaune</span>.\n",
    "\n",
    "Durant l'évaluation, vous avez un accès à l'ensemble des supports, incluant ceux se trouvant sur Internet. Par contre, la communication entre étudiants n'est pas permise.\n",
    "\n",
    " * API Scala de Spark SQL : https://spark.apache.org/docs/latest/api/scala/org/apache/spark/sql/\n",
    " \n",
    "<span style=\"background: #ffbbaa;\">**Pensez à sauvegarder régulièrement votre notebook.**</span>\n",
    "\n",
    "## Commandor: site e-commerce\n",
    "\n",
    "Nous considérons ici _Commandor_, une entreprise de grande distribution, possédant un ensemble de magasins de type hypermarché et supermarché, ainsi que des magasins de proximité. Ces magasins proposent à ses clients un ensemble de produits achetables sur site.\n",
    "\n",
    "Ces produits sont pour la plupart proposés aussi sur le site e-commerce de l'entreprise. Une fois les produits sélectionnés, les clients ont la possibilité de choisir le jour de livraison. Un client peut proposer une date de livraison pouvant aller jusqu'à 7 jours.\n",
    "\n",
    "### Besoin\n",
    "Commandor a besoin d'un traitement fournissant pour son site e-commerce des projections de stocks. Ces projections doivent permettre aux utilisateurs du site de se faire une idée assez précise du stock disponible pour chacun des produits qu'il commande. Les projections permettent aussi de déterminer les éventuels produits manquants, les besoins en termes de produits à commander auprès des fournisseurs...\n",
    "\n",
    "### Identifiants usuels dans les données\n",
    "Sur chaque source de données, nous retrouvons 4 identifiants. Ces identifiants doivent aussi se retrouver dans le résultat des traitements.\n",
    "\n",
    "#### Store\n",
    "Le parc de Commandor est composé de magasins ayant chacun un identifiant unique que l'on retrouve dans le champ `store` des données. Le parc Commandor contient environ 1000 magasins sur le territoire national.\n",
    "\n",
    "#### Service\n",
    "Chaque magasin est décomposé en un ou plusieurs services. En général, ces services correspondent au magasin lui-même, mais il peut y avoir d'autres services comme un Drive, par exemple. Par contre, un service est rattaché à un unique magasin. Chaque service possède un identifiant unique que l'on retrouve dans le champ `service` des données. Il y a en moyenne 1,25 services par magasin.\n",
    "\n",
    "#### Product / Barcode\n",
    "Chaque produit possède deux références uniques au niveau national : un identifiant interne appelé `product` et un code barre appelé `barcode`. Commandor référence près d'un million de produits en incluant aussi bien les produits commandables sur le site e-commerce, que les produits achetables uniquement en physique."
   ]
  },
  {
   "cell_type": "markdown",
   "metadata": {},
   "source": [
    "# I - Stock\n",
    "\n",
    "## Inventaires de stock\n",
    "Chaque magasin remonte par voie électronique des inventaires de stock. Ces inventaires indiquent pour chaque magasin/service et pour chaque produit la quantité constaté. Un inventiare est forcément accompagné d'un horodatage (ie. date et heure du constat du niveau de stock pour le produit et le service considéré).\n",
    "\n",
    "En journée, la plateforme de données reçoit des inventaires partiels ; c'est-à-dire, des inventaires uniquement sur des produits pour lesquels des mouvements ont été constatés. En fin de journée, chaque magasin envoit un inventaire complet de son stock.\n",
    "\n",
    "## À faire\n",
    "<span style=\"background: yellow;\">Récupérer le contenu des fichiers contenus dans le répertoire `data/stocks/`.</span> Mettez les données en cache."
   ]
  },
  {
   "cell_type": "code",
   "execution_count": null,
   "metadata": {
    "tags": []
   },
   "outputs": [],
   "source": [
    "val stocks = spark.read.parquet(\"data/stocks\")"
   ]
  },
  {
   "cell_type": "markdown",
   "metadata": {},
   "source": [
    "<span style=\"background: yellow;\">Afficher un extrait des données de stocks et afficher aussi le schéma de ces données.</span>"
   ]
  },
  {
   "cell_type": "code",
   "execution_count": null,
   "metadata": {
    "scrolled": true,
    "tags": []
   },
   "outputs": [],
   "source": [
    "display(stocks)"
   ]
  },
  {
   "cell_type": "markdown",
   "metadata": {},
   "source": [
    "# II -  Orders\n",
    "## Commandes client\n",
    "Un flux de données est mis en place contenant les données des commandes client. Une commande client contient un identifiant unique de commande, le magasin et le service où est effectué la commande, la date de création de la commande, la date prévisionnelle de livraison, la liste des statuts passés et actuels de la commande et la liste des produits achetés, accompagnés de leur quantité respective.\n",
    "\n",
    "Le statut d'une commande varie au cours du temps. Initialement, la commande est `CAPTURED`, puis elle va passer par différents statuts, comme `AFFECTED` ou `IN_PREPARATION`, avant de passer au statut `DELIVERED`. Un client peut éventuellement annuler une commande. Si l'annulation est acceptée, le commande passe au statut `CANCELLED`.\n",
    "\n",
    "Les commandes stockent dans une liste l'ensemble des statuts par lesquels elle est passée jusque-là et la date à laquelle la commande est passée par ces différents statuts.\n",
    "\n",
    "## À faire\n",
    "<span style=\"background: yellow;\">Récupérez le contenu des fichiers contenus dans le répertoire `data/orders/`.</span>"
   ]
  },
  {
   "cell_type": "code",
   "execution_count": null,
   "metadata": {
    "tags": []
   },
   "outputs": [],
   "source": [
    "val orders = spark.read.parquet(\"data/orders\")"
   ]
  },
  {
   "cell_type": "markdown",
   "metadata": {},
   "source": [
    "<span style=\"background: yellow;\">Afficher un extrait des données de commandes client et afficher aussi le schéma de ces données.</span>"
   ]
  },
  {
   "cell_type": "code",
   "execution_count": null,
   "metadata": {
    "scrolled": true,
    "tags": []
   },
   "outputs": [],
   "source": [
    "display(orders)"
   ]
  },
  {
   "cell_type": "markdown",
   "metadata": {},
   "source": [
    "## Nettoyage\n",
    "Les données de commandes contiennent des lignes qui ne rentrent pas le périmètre à prendre en compte.\n",
    "\n",
    "<span style=\"background: yellow;\">Retirez des données les commandes dont la date de livraison est antérieur au _24 janvier 2022_.</span>"
   ]
  },
  {
   "cell_type": "code",
   "execution_count": null,
   "metadata": {},
   "outputs": [],
   "source": [
    "val clean_orders = ???\n",
    "\n",
    "display(clean_orders)"
   ]
  },
  {
   "cell_type": "markdown",
   "metadata": {},
   "source": [
    "## Priorisation des statuts\n",
    "Dans ces commandes, nous avons l'ensemble des statuts par lesquels elles sont passées. Seul le dernier statut (ie. le statut le plus récent) nous intéresse, excluant les statuts ayant une priorité égale ou supérieure à _livrées_ (`DELIVERED`).\n",
    "\n",
    "Le code ci-dessous est fourni pour gérer les priorités des statuts. <span style=\"background: yellow;\">Exécutez-le et passez à la cellule suivante.</span>"
   ]
  },
  {
   "cell_type": "code",
   "execution_count": null,
   "metadata": {},
   "outputs": [],
   "source": [
    "object Status {\n",
    "  val Captured       = \"CAPTURED\"\n",
    "  val Categorized    = \"CATEGORIZED\"\n",
    "  val Affected       = \"AFFECTED\"\n",
    "  val Changed        = \"CHANGED\"\n",
    "  val Validated      = \"VALIDATED\"\n",
    "  val Optimized      = \"OPTIMIZED\"\n",
    "  val Prioritized    = \"PRIORITIZED\"\n",
    "  val Routed         = \"ROUTED\"\n",
    "  val CancellationKo = \"CANCELLATION_KO\"\n",
    "  val InPreparation  = \"IN_PREPARATION\"\n",
    "  val Prepared       = \"PREPARED\"\n",
    "  val Received       = \"RECEIVED\"\n",
    "  val Delivered      = \"DELIVERED\"\n",
    "  val Cancelled      = \"CANCELLED\"\n",
    "  val Invoiced       = \"INVOICED\"\n",
    "  val Expediable     = \"EXPEDIABLE\"\n",
    "\n",
    "  val orderedStatuses: Seq[String] =\n",
    "    List(\n",
    "      Captured,\n",
    "      Categorized,\n",
    "      Affected,\n",
    "      Changed,\n",
    "      Validated,\n",
    "      Optimized,\n",
    "      Prioritized,\n",
    "      Routed,\n",
    "      CancellationKo,\n",
    "      InPreparation,\n",
    "      Prepared,\n",
    "      Received,\n",
    "      Delivered,\n",
    "      Cancelled,\n",
    "      Invoiced,\n",
    "      Expediable\n",
    "    )\n",
    "\n",
    "  val statusesByPriority: Map[String, Int] = orderedStatuses.zipWithIndex.toMap\n",
    "\n",
    "  /**\n",
    "   * Give the priority index of a status.\n",
    "   * \n",
    "   * It starts from 0 (lowest) to 15 (higher). If\n",
    "   * the status is unknown, the priority returned\n",
    "   * is -1.\n",
    "   */\n",
    "  def priorityOf(status: String): Int =\n",
    "    statusesByPriority.get(status).getOrElse(-1)\n",
    "}"
   ]
  },
  {
   "cell_type": "markdown",
   "metadata": {},
   "source": [
    "À partir du code ci-dessus, <span style=\"background: yellow;\">créez une UDF qui à partir d'une colonne contenant un statut donne sa priorité.</span>"
   ]
  },
  {
   "cell_type": "code",
   "execution_count": null,
   "metadata": {
    "scrolled": true
   },
   "outputs": [],
   "source": [
    "val priorityOfStatus: UserDefinedFunction = ???"
   ]
  },
  {
   "cell_type": "markdown",
   "metadata": {},
   "source": [
    "## Nettoyage selon les statuts (/4)\n",
    "Maintenant, <span style=\"background: yellow;\">retirez toutes les commandes déjà livrées (ie. ayant un statut de priorité inférieur à `DELIVERED`)</span>, pour n'avoir que les commandes en cours."
   ]
  },
  {
   "cell_type": "code",
   "execution_count": null,
   "metadata": {
    "scrolled": true
   },
   "outputs": [],
   "source": [
    "// convert the dataset to have one line per status\n",
    "val orders_with_status = ???\n",
    "\n",
    "// associate to each order its status priority\n",
    "val orders_with_status_priority = ???\n",
    "\n",
    "// create a dataset that for each order ID get the highest status priority\n",
    "val last_status_priority = ???\n",
    "\n",
    "// transform the dataset to only keep the pending orders (ie. orders not delivered)\n",
    "val pending_orders = ???\n",
    "\n",
    "display(pending_orders)"
   ]
  },
  {
   "cell_type": "markdown",
   "metadata": {},
   "source": [
    "## Produits commandés\n",
    "Afin de pouvoir rapprocher les commandes client avec les inventaires de stock, il faut réorganiser les données de commande. Nous avons actuellement une ligne de données par commande, sachant qu'une commande contient une liste de produits commandés. Il nous faut maintenant une ligne de données par produit commandé.\n",
    "\n",
    "<span style=\"background: yellow;\">Transformez les données de commande client afin d'avoir une ligne par produit commandé avec leur quantité respective.</span> Attention, il est possible qu'il y ait des doublons. Pensez à les retirer. Mettez aussi les données en cache."
   ]
  },
  {
   "cell_type": "code",
   "execution_count": null,
   "metadata": {
    "scrolled": true
   },
   "outputs": [],
   "source": [
    "val orders_by_item = ???\n",
    "\n",
    "display(orders_by_item)"
   ]
  },
  {
   "cell_type": "markdown",
   "metadata": {},
   "source": [
    "# III - Projections simples\n",
    "Une projection consiste à simplement prendre les données de stocks et à en retirer les quantités commandées.\n",
    "\n",
    "## Quantités achetées\n",
    "<span style=\"background: yellow;\">Convertissez les données de produits commandés afin d'avoir la quantité totale commandées par produit.</span>"
   ]
  },
  {
   "cell_type": "code",
   "execution_count": null,
   "metadata": {
    "scrolled": true
   },
   "outputs": [],
   "source": [
    "val bought_quantities = ???\n",
    "\n",
    "display(bought_quantities)"
   ]
  },
  {
   "cell_type": "markdown",
   "metadata": {},
   "source": [
    "## Stock et commande\n",
    "<span style=\"background: yellow;\">Associez les données de stock avec l'ensemble des produits commandés.</span>"
   ]
  },
  {
   "cell_type": "code",
   "execution_count": null,
   "metadata": {
    "scrolled": true
   },
   "outputs": [],
   "source": [
    "val stock_and_order = ???\n",
    "\n",
    "display(stock_and_order)"
   ]
  },
  {
   "cell_type": "markdown",
   "metadata": {},
   "source": [
    "## Projection\n",
    "Une projection fournit des informations sur le stock à venir, une fois les commandes clients, actuellement en cours, satisfaites.\n",
    "\n",
    "<span style=\"background: yellow;\">Convertissez les données calculées précédemment pour obtenir les projections de stock.</span> Mettez les données en cache.\n",
    "\n",
    "Les données devront avoir uniquement les colonnes suivantes :\n",
    "\n",
    " * identifiant du produit (`product`)\n",
    " * code barre du produit (`barcode`)\n",
    " * identifiant du magasin (`store`)\n",
    " * identifiant du service (`service`)\n",
    " * horodatage de création de la projection (`projection_timestamp`)\n",
    " * quantité actuelle dans le stock (`stock_quantity`)\n",
    " * quantité projetée (= quantité dans le stock - quantité commandée) (`projected_quantity`)\n",
    " * disponibilité du produit dans le service (`true` = produit disponible (stock projeté > 0) ; `false` = produit indisponible (stock projeté <= 0)) (`available`)"
   ]
  },
  {
   "cell_type": "code",
   "execution_count": null,
   "metadata": {
    "scrolled": true
   },
   "outputs": [],
   "source": [
    "val projections = ???\n",
    "\n",
    "display(projections)"
   ]
  },
  {
   "cell_type": "markdown",
   "metadata": {},
   "source": [
    "# IV - Application d'un seuil\n",
    "Afin de donner une certaine priorité aux clients venant sur site (ie. directement en magasin), une partie du stock leur est réservé. Cela se fait en appliquant un seuil en dessous duquel il n'est pas possible de commander des produits sur le site e-commerce.\n",
    "\n",
    "Le métier propose de fixer le seuil à 5. À l'exception de certains produits dans certains magasins pour lesquels le seuil est à 8. Les listes des magasins et des produits associés auxquels s'applique l'exception sont données dans le code ci-dessous.\n",
    "\n",
    "Par exemple\n",
    " * Magasin `9999999999999` (qui n'est pas dans la liste), produit `9999999` (qui n'est pas dans la liste): en quantité en stock = 15, stock commandable = 10.\n",
    " * Magasin `3021080366104` (dans la liste), produit `9999999` (qui n'est pas dans la liste): en quantité en stock = 15, stock commandable = 10.\n",
    " * Magasin `9999999999999` (qui n'est pas dans la liste), produit `0045325` (dans la liste): en quantité en stock = 15, stock commandable = 10.\n",
    " * Magasin `3021080366104` (dans la liste), produit `0045325` (dans la liste): en quantité en stock = 15, stock commandable = 7.\n",
    " \n",
    "<span style=\"background: yellow;\">Exécutez la cellule suivante.</span>"
   ]
  },
  {
   "cell_type": "code",
   "execution_count": null,
   "metadata": {
    "scrolled": true
   },
   "outputs": [],
   "source": [
    "  val storeList = List(\n",
    "    \"3021080366104\",\n",
    "    \"3020180005883\",\n",
    "    \"3021081177693\",\n",
    "    \"3021081027905\",\n",
    "    \"3021081178997\",\n",
    "    \"3021080561301\",\n",
    "    \"3020180045766\",\n",
    "    \"3021081044704\",\n",
    "    \"3021520203433\",\n",
    "    \"3021520410619\",\n",
    "    \"3021520306097\",\n",
    "    \"3021080631301\",\n",
    "    \"3021080623108\",\n",
    "    \"3021081045701\",\n",
    "    \"3021520203341\",\n",
    "    \"3021080670409\",\n",
    "    \"3021080563800\",\n",
    "    \"3021080368306\",\n",
    "    \"3021080368405\",\n",
    "    \"3021080810102\"\n",
    "  )\n",
    "\n",
    "  val productList = List(\n",
    "    \"0045325\",\n",
    "    \"0251136\",\n",
    "    \"0549341\",\n",
    "    \"2649500\",\n",
    "    \"2682819\",\n",
    "    \"3332364\",\n",
    "    \"3332585\",\n",
    "    \"3634957\",\n",
    "    \"4027200\",\n",
    "    \"4469403\",\n",
    "    \"4604802\",\n",
    "    \"5154158\",\n",
    "    \"5531897\",\n",
    "    \"5678019\",\n",
    "    \"5717543\",\n",
    "    \"5793947\",\n",
    "    \"5883984\",\n",
    "    \"5903077\",\n",
    "    \"5939682\",\n",
    "    \"6088956\",\n",
    "    \"6126635\",\n",
    "    \"6149792\",\n",
    "    \"6149950\",\n",
    "    \"6163671\",\n",
    "    \"6361434\",\n",
    "    \"6440091\",\n",
    "    \"6596181\",\n",
    "    \"6708306\",\n",
    "    \"6833035\",\n",
    "    \"7033846\",\n",
    "    \"7073916\",\n",
    "    \"7181476\",\n",
    "    \"7185763\",\n",
    "    \"7186214\",\n",
    "    \"7302277\",\n",
    "    \"7314602\",\n",
    "    \"0093531\",\n",
    "    \"0256105\",\n",
    "    \"0691219\",\n",
    "    \"1248593\"\n",
    "  )"
   ]
  },
  {
   "cell_type": "markdown",
   "metadata": {},
   "source": [
    "<span style=\"background: yellow;\">Corrigez les données de projection afin d'avoir les quantités projetées corrigées du seuil applicable.</span> Pensez à corriger la disponibilité au besoin."
   ]
  },
  {
   "cell_type": "code",
   "execution_count": null,
   "metadata": {
    "scrolled": true
   },
   "outputs": [],
   "source": [
    "val projections_with_threshold = ???\n",
    "\n",
    "display(projections_with_threshold)"
   ]
  }
 ],
 "metadata": {
  "kernelspec": {
   "display_name": "Scala 2.13",
   "language": "scala",
   "name": "scala213"
  },
  "language_info": {
   "codemirror_mode": "text/x-scala",
   "file_extension": ".sc",
   "mimetype": "text/x-scala",
   "name": "scala",
   "nbconvert_exporter": "script",
   "version": "2.13.11"
  }
 },
 "nbformat": 4,
 "nbformat_minor": 4
}
