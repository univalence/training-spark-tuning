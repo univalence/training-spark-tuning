{
 "cells": [
  {
   "cell_type": "markdown",
   "id": "d68479a4-719b-444e-89f5-a3743865c26d",
   "metadata": {
    "tags": []
   },
   "source": [
    "# Jointure\n",
    "\n",
    "D'une manière générale, le sujet des jointures en big data est un des sujets de ce domaine les plus complexes, mais aussi sur lequel il y a le plus d'enjeu, tant nous avons une vision relationnelle de la donnée.\n",
    "\n",
    "Le principe d'une jointure consiste, en effet, à fusionner deux datasets en recherchant dans les deux datasets les lignes qui partagent la même clé. Un algorithme naïf va résoudre une jointure en $O(n^2)$ :\n",
    "\n",
    "> pour chaque élément du premier dataset, je parcours le second dataset pour retrouver le ou les éléments paratageant la même clé.\n",
    "\n",
    "Dans un contexte big data, une telle complexité n'est pas envisageable, du fait de la taille des données à traiter, des communications réseau que cela peut engendrer et de la capacité de stockage en mémoire vive qui reste relativement petite.\n",
    "\n",
    "Il existe heureusement des algorithmes de jointure, proposés par Spark, bien plus efficaces, qui vont consister à utiliser une indexation sur la clé et/ou un tri sur la clé et/ou la diffusion d'un dataset entier sur les différents executors pour réaliser les opérations de recherche en local.\n",
    "\n",
    "Spark, par défaut, va rechercher l'algorithme le plus adapté et le plus performant, en fonction du type de jointure et de statistiques obtenues sur les données. Mais, vous avez la possibilité de forcer Spark à adopter un algorithme.\n",
    "\n",
    "**Dans ce notebook**, vous allez voir les différents algorithmes proposés par Spark et leurs conséquences, ainsi que les différents types de jointures possibles et ce qu'elles impliquent en termes de performance."
   ]
  },
  {
   "cell_type": "markdown",
   "id": "a83d4b41-1a01-47bf-9ac2-6db0fb40a8d2",
   "metadata": {},
   "source": [
    "## Prélude"
   ]
  },
  {
   "cell_type": "code",
   "execution_count": null,
   "id": "42f4e136-2975-47dc-8c84-677735b45c09",
   "metadata": {
    "scrolled": true,
    "tags": []
   },
   "outputs": [],
   "source": [
    "import $ivy.`org.slf4j:slf4j-reload4j:2.0.6`\n",
    "import $ivy.`org.apache.logging.log4j:log4j-api:2.8.2`\n",
    "import $ivy.`org.apache.logging.log4j:log4j-slf4j-impl:2.8.2`\n",
    "\n",
    "// Avoid disturbing logs\n",
    "import org.apache.log4j._\n",
    "import org.apache.log4j.varia._\n",
    "BasicConfigurator.configure(NullAppender.getNullAppender())\n",
    "\n",
    "import $ivy.`org.apache.spark::spark-core:3.4.1`\n",
    "import $ivy.`org.apache.spark::spark-sql:3.4.1`"
   ]
  },
  {
   "cell_type": "code",
   "execution_count": null,
   "id": "a2c6ea18-3a5f-4877-932a-c33aacd24b3f",
   "metadata": {
    "tags": []
   },
   "outputs": [],
   "source": [
    "import org.apache.spark.sql._\n",
    "import org.apache.spark.sql.functions._\n",
    "import org.apache.spark.rdd._\n",
    "\n",
    "val spark = {\n",
    "  NotebookSparkSession.builder()\n",
    "    .progress(enable = true, keep = true, useBars = false)\n",
    "    .master(\"local[*]\")\n",
    "    .appName(\"Spark tuning - Jointure\")\n",
    "    .config(\"spark.sql.legacy.timeParserPolicy\", \"LEGACY\")\n",
    "    .getOrCreate()\n",
    "}\n",
    "\n",
    "import spark.implicits._\n",
    "import $file.^.internal.spark_helper\n",
    "import spark_helper.implicits._"
   ]
  },
  {
   "cell_type": "markdown",
   "id": "7a3a3be6-2f88-413b-b6f5-8da8755c8e3f",
   "metadata": {},
   "source": [
    "## Chargement des datasets\n",
    "\n",
    "Nous allons utiliser dans ce notebook des datasets différents de ce qui a été vu jusque-là. Nous nous mettons dans le cadre d'une application sur téléphone, qui permet à ses utilisateurs de partager sa position avec leurs amis. Pour cela, l'application détecte par géolocalisation le lieu et propose à l'utilisateur de partager le lieu (_checkin_). Une gamification est ajoutée, qui permet à l'utilisateur de gagner des badges selon la fréquence de ses checkins, la distance entre deux chekins, l'utilisateur qui effectue régulièrement les premiers checkins de la journée d'un même lieu devient \"Maire\" de ce lieu...\n",
    "\n",
    "Nous avons deux datasets :\n",
    "\n",
    "* Venues : représente un ensemble de lieux enregistrés qu'il est possible de visiter. Il contient notamment l'identifiant du lieu et ses coordonnées.\n",
    "* Checkins : représente l'ensemble des checkins réalisés par les utilisateurs de l'application. Il contient l'identifiant de l'utilisateur, l'identifiant du lieu et le timestamp du checkin."
   ]
  },
  {
   "cell_type": "code",
   "execution_count": null,
   "id": "e10cc1fd-e291-4ee1-9b1e-326afd9a7cf4",
   "metadata": {
    "tags": []
   },
   "outputs": [],
   "source": [
    "import java.time.Instant\n",
    "\n",
    "case class Venue(id: String, latitude: Double, longitude: Double, locationType: String, country: String)\n",
    "case class Checkin(userId: String, venueId: String, timestamp: Instant)\n",
    "\n",
    "spark_helper.sparkExport(this)\n",
    "\n",
    "val venuesFilename   = \"data/threetriangle/venues.txt.gz\"\n",
    "val checkinsFilename = \"data/threetriangle/checkins.txt.gz\"\n",
    "\n",
    "val venues =\n",
    "  spark.read\n",
    "    .option(\"sep\", \"\\t\")\n",
    "    .schema(\"id STRING, latitude DOUBLE, longitude DOUBLE, locationType STRING, country STRING\")\n",
    "    .csv(venuesFilename)\n",
    "    .as[Venue]\n",
    "\n",
    "val checkins =\n",
    "  spark.read\n",
    "    .option(\"sep\", \"\\t\")\n",
    "    // Option to correctly interpret timestamp in checkin data\n",
    "    .option(\"timestampFormat\", \"EEE MMM d HH:mm:ss Z yyyy\")\n",
    "    .schema(\"userId STRING, venueId STRING, timestamp TIMESTAMP, tzOffset INT\")\n",
    "    .csv(checkinsFilename)\n",
    "    .as[Checkin]\n",
    "\n",
    "venues.createOrReplaceTempView(\"venues\")\n",
    "checkins.createOrReplaceTempView(\"checkins\")"
   ]
  },
  {
   "cell_type": "markdown",
   "id": "c0bb241a-30ba-4c69-a4f1-c9bce997a7c6",
   "metadata": {},
   "source": [
    "## Jointure\n",
    "\n",
    "Nous voulons maintenant retrouver les informations des différents lieux où ont été effectués les checkins. Nous avons donc besoin de réaliser une jointure entre les datasets Checkins et Venues.\n",
    "\n",
    "La méthode `.join()` est assez simple à utiliser. Elle s'applique sur un premier dataframe, puis vous spécifiez en paramètre le dataframe avec lequel vous créez une jointure, en indiquant éventuellement la relation de jointure et le type de jointure (inner, outer, left outer, right outer..., par défaut : inner)."
   ]
  },
  {
   "cell_type": "code",
   "execution_count": null,
   "id": "bda33502-59e6-46d8-bd9f-f73b4ed9e358",
   "metadata": {
    "tags": []
   },
   "outputs": [],
   "source": [
    "%%data limit=10\n",
    "\n",
    "val data = checkins.join(venues, checkins(\"venueId\") === venues(\"id\"))\n",
    "\n",
    "data"
   ]
  },
  {
   "cell_type": "markdown",
   "id": "778b8855-c80f-42b9-a9b3-00844eec0d6b",
   "metadata": {},
   "source": [
    "Affichons le plan d'exécution de cette requête. Essayer de percevoir les différentes, dont celles qui concernent la jointure (Quelles optimisations sont apportées ? Y a-t-il des échanges de données ?)\n",
    "\n",
    "Note : un plan d'exécution se lit du bas vers le haut pour suivre les différentes étapes de traitement dans l'ordre."
   ]
  },
  {
   "cell_type": "code",
   "execution_count": null,
   "id": "114e386a-29dd-4148-ba61-c0dc60e2e8ef",
   "metadata": {
    "tags": []
   },
   "outputs": [],
   "source": [
    "data.explain()"
   ]
  },
  {
   "cell_type": "markdown",
   "id": "517903ff-1464-43ce-ab8f-3c859f167fa2",
   "metadata": {},
   "source": [
    "Allez dans Spark UI et explorez l'onglet \"SQL / DataFrame\". Spark UI montre un DAG assez complexe pour la requête.\n",
    "\n",
    "**Approche alternative**\n",
    "\n",
    "Voici l'équivalent de notre requête, mais cette fois exprimée en SQL."
   ]
  },
  {
   "cell_type": "code",
   "execution_count": null,
   "id": "fc943e7b-25fb-4419-bb07-0a9553a85f9a",
   "metadata": {
    "tags": []
   },
   "outputs": [],
   "source": [
    "%%sql limit=10\n",
    "\n",
    "SELECT *\n",
    "FROM\n",
    "  checkins c INNER JOIN venues v ON (v.id = c.venueId)"
   ]
  },
  {
   "cell_type": "markdown",
   "id": "bc6d533d-e406-4377-b301-36a6548fae32",
   "metadata": {},
   "source": [
    "🤔 **Question** 🤔\n",
    "\n",
    "Le plan d'exécution de cette requête est-il similaire au plan précédent ?"
   ]
  },
  {
   "cell_type": "code",
   "execution_count": null,
   "id": "a9860e9b-4c23-40ac-849a-758b3de68551",
   "metadata": {
    "tags": []
   },
   "outputs": [],
   "source": [
    "data.explain()"
   ]
  },
  {
   "cell_type": "markdown",
   "id": "fb75647c-d147-4cb2-b008-3cd21781f2ac",
   "metadata": {},
   "source": [
    "👀 **Ce qu'il faut voir** 👀\n",
    "\n",
    "Dans le processus de génération du plan d'exécution physique, nous pouvons voir que Spark fini par sélectionner une stratégie de jointure. Cette stratégie se traduit par une phase d'échange (ou plus exactement, de diffusion) de données entre exécuteurs (`BroadcastExchange`). Puis, interviens la phase de jointure basée sur le _hash_ de la clé de jointure (`BroadcastHashJoin`).\n",
    "\n",
    "Nous pouvons voir aussi que Spark se laisse la possibilité au dernier moment de changer de stratégie de jointure (`AdaptiveSparkPlan isFinalPlan=false`), sur la base de données statistiques récupérées pendant l'exécution.\n",
    "\n",
    "Ce type de jointure est similaire à ce que nous avons vu avec les variables broadcast dans le cas des RDD."
   ]
  },
  {
   "cell_type": "markdown",
   "id": "6637c689-4fb5-4bb3-a548-a57fa1524920",
   "metadata": {
    "tags": []
   },
   "source": [
    "## Stratégie de jointure\n",
    "\n",
    "Spark SQL dispose de différentes stratégies de jointure. Nous venons d'en voir une dans la section précédente.\n",
    "\n",
    "Sans précision dans le code, cette stratégie est choisie selon une heuristique paramétrable liée, notamment, au type de la jointure, la condition sur les clés (équivalence ou non-équivalence), à taille des données ou à d'autres données statistiques.\n",
    "\n",
    "Si vous voulez forcer la stratégie de jointure, vous pouvez le préciser dans le code à travers des _hints_ :\n",
    "\n",
    "```scala\n",
    "  df1.join(df2.hint(\"<Stratégie>\"), ...)\n",
    "```\n",
    "\n",
    "En SQL :\n",
    "\n",
    "```scala\n",
    "  spark.sql(\"\"\"SELECT /*+ <Stratégie> */ ...\"\"\")\n",
    "```\n",
    "\n",
    "Voici les différentes stratégies (et les valeurs à utiliser dans les hints) :\n",
    "\n",
    " * Broadcast Hash Join (BROADCAST / BROADCASTJOIN / MAPJOIN)\n",
    " * Shuffle Sort-Merge Join (MERGE / SHUFFLE_MERGE / MERGEJOIN)\n",
    " * Shuffle Hash Join (SHUFFLE_HASH)\n",
    " * Shuffle-and-Replicate Nested Loop Join (SHUFFLE_REPLICATE_NL)\n",
    "\n",
    "### Broadcast Hash Join\n",
    "\n",
    "Cette stratégie est utilisée dans ces conditions :\n",
    " * La relation de jointure se base sur l'égalité entre les clés (ie. `dataset1(\"key\") === dataset2(\"key\")`).\n",
    " * L'un des datasets est considéré comme étant suffisamment petit.\n",
    " * Tous les types de jointure sont supportés, sauf FULL OUTER JOIN.\n",
    "\n",
    "Dans ce cas, le \"petit\" dataset est transmis (ou diffusé, d'où le terme _broadcast_) sous la forme d'une table de hachage (_hash table_) à l'ensemble des exécuteurs participant à la jointure. La jointure est alors réalisée en local sur chaque nœud.\n",
    "\n",
    "Le seuil indiquant si la stratégie sera utilisée est fixée par le paramètre `spark.sql.autoBroadcastJoinThreshold`. Il est exprimé en octets (valeur par défaut : 10485760 (= 10 MB)). Si l'un des datasets de la jointure à une taille inférieure à ce seuil, il sera diffusé. Si aucun \n",
    "\n",
    "Dans le cadre de la fonctionnalité AQE (_Adaptive Query Execution_), qui permet de pousser Spark à sélectionner une autre startégie sur la base de relevés statistiques, au lieu de la stratégie planifiée initialement, le seuil permettant de passer à la stratégie _Broadcast Hash Join_ est fixé par le paramètre `spark.sql.adaptive.autoBroadcastJoinThreshold` exprimé en octet. Si vous fixez sa valeur à -1, cette fonctionnalité est désactivée.\n",
    "\n",
    "Un autre paramètre intervient : `spark.sql.broadcastTimeout`. Ce paramètre est exprimé en secondes (valeur par défaut : 300 (= 5mn)). Il est détecté des problèmes de communication durant la diffusion des données. Si la diffusion de la table ne peut pas être terminée dans le délai imparti, Spark interrompt l'exécution de la requête et génère une erreur.\n",
    "\n",
    "### Shuffle Sort-Merge Join\n",
    "\n",
    "Cette stratégie est utilisée dans ces conditions :\n",
    " * La relation de jointure se base sur l'égalité entre les clés (ie. `dataset1(\"key\") === dataset2(\"key\")`).\n",
    " * Il est possible de trier les clés.\n",
    " * Tous les types de jointure sont supportés.\n",
    " \n",
    "C'est la stratégie utilisée par défaut (sauf dans le cas ou le paramètre `spark.sql.join.preferSortMergeJoin=false`, dans ce cas, Spark utilisera _Shuffle Hash Join_).\n",
    "\n",
    "Les étapes de jointure sont :\n",
    " 1. Échanges des données entre exécuteurs en fonction de la clé.\n",
    " 2. Tri des données en local en fonction de la clé.\n",
    " 3. Fusion des deux datasets.\n",
    "\n",
    "En général, _Shuffle Sort-Merge Join_ a de meilleures performances sur des données volumineuses.\n",
    "\n",
    "### Shuffle Hash Join\n",
    "\n",
    "Cette stratégie est utilisée dans ces conditions :\n",
    " * La relation de jointure se base sur l'égalité entre les clés (ie. `dataset1(\"key\") === dataset2(\"key\")`).\n",
    " * Il est possible de trier les clés.\n",
    " * Tous les types de jointure sont supportés, sauf FULL OUTER JOIN.\n",
    "\n",
    "Les étapes de jointure sont :\n",
    " 1. Échanges des données entre exécuteurs en fonction de la clé.\n",
    " 2. Dépôt des données transférées en local dans une table de hachage en fonction de la clé.\n",
    " 3. Fusion des deux datasets.\n",
    "\n",
    "_Shuffle Hash Join_ est efficace lorsque la clé utilisée pour la jointure permet un partitionnement équilibré de la donnée.\n",
    "\n",
    "### Shuffle-and-Replicate Nested Loop Join\n",
    "\n",
    "Cette stratégie applique l'algorithme naïf vu plus haut : \"pour chaque élément du premier dataset, je parcours le second dataset pour retrouver le ou les éléments partageant la même clé\".\n",
    "\n",
    "Ce type de jointure convient lorsque :\n",
    " * Le premier dataset est diffusable sur une jointure de type RIGHT OUTER JOIN.\n",
    " * Ou le second dataset est diffusable sur des jointures de type LEFT OUTER JOIN, LEFT SEMI JOIN ou LEFT ANTI JOIN.\n",
    " * Ou Dans tous les autres cas sur des jointures de type INNER JOIN ou équivalent.\n",
    "\n",
    "### Produit cartésien\n",
    "\n",
    "Le produit cartésien (ou CROSS JOIN) consiste à retourner toutes les combinaisons possibles de lignes sur la fusion de deux dataset.\n",
    "\n",
    "Ce type de jointure intervient lorsque :\n",
    " * Le type de jointure est INNER JOIN ou équivalent.\n",
    " * Ou `cross` est explicitement indiqué comme type de jointure\n",
    " \n",
    "Dans les autres cas, l'opération de jointure renvoie une erreur de type AnalysisException.\n",
    "\n",
    "### Exercices\n",
    "\n",
    "👷 Pour chacun des exercices ci-dessous, vous devez :\n",
    " 1. Exécuter la cellule contenant la requête.\n",
    " 2. Observer le plan d'exécution\n",
    " 3. Retrouver et observer dans Spark UI le DAG de la requête correspondante\n",
    " \n",
    "Essayez de distinguer les différences qu'il peut y avoir entre les diverses stratégies."
   ]
  },
  {
   "cell_type": "markdown",
   "id": "e6f3586a-9088-4dfa-a5cf-6e1e7a2e6f7a",
   "metadata": {
    "tags": []
   },
   "source": [
    "### Broadcast Hash Join"
   ]
  },
  {
   "cell_type": "code",
   "execution_count": null,
   "id": "a4ac5527-2e68-4fef-a5af-96ab5a85cf3f",
   "metadata": {
    "tags": []
   },
   "outputs": [],
   "source": [
    "val data = checkins.join(venues.hint(\"BROADCAST\"), checkins(\"venueId\") === venues(\"id\"))\n",
    "data.showHTML(limit = 10)\n",
    "data.explain()"
   ]
  },
  {
   "cell_type": "markdown",
   "id": "5cab9438-6f4b-4d49-b56d-ecf696601459",
   "metadata": {
    "tags": []
   },
   "source": [
    "### Shuffle Sort-Merge Join"
   ]
  },
  {
   "cell_type": "code",
   "execution_count": null,
   "id": "0dbc88e1-9c65-4875-b575-6bf903f06e94",
   "metadata": {
    "tags": []
   },
   "outputs": [],
   "source": [
    "val data = checkins.join(venues.hint(\"MERGE\"), checkins(\"venueId\") === venues(\"id\"))\n",
    "data.showHTML(limit = 10)\n",
    "data.explain()"
   ]
  },
  {
   "cell_type": "markdown",
   "id": "5eadfd57-9ed8-460d-867c-1a9a20e45c36",
   "metadata": {
    "tags": []
   },
   "source": [
    "### Shuffle Hash Join"
   ]
  },
  {
   "cell_type": "code",
   "execution_count": null,
   "id": "ed8c9ac4-fdea-4742-a9aa-865f3924ce43",
   "metadata": {
    "tags": []
   },
   "outputs": [],
   "source": [
    "val data = checkins.join(venues.hint(\"SHUFFLE_HASH\"), checkins(\"venueId\") === venues(\"id\"))\n",
    "data.showHTML(limit = 10)\n",
    "data.explain()"
   ]
  },
  {
   "cell_type": "markdown",
   "id": "f9af173d-4954-4fdc-af45-33b327920c98",
   "metadata": {},
   "source": [
    "👀 **Question** 👀\n",
    "\n",
    "En comparant dans Spark UI avec la précédente stratégie, quel pourrait être la meilleure stratégie pour nos dataframe ?"
   ]
  },
  {
   "cell_type": "markdown",
   "id": "6d992f4d-ebe5-4a6c-9361-cd4b7ae423fc",
   "metadata": {
    "tags": []
   },
   "source": [
    "### Shuffle-and-Replicate Nested Loop Join\n",
    "\n",
    "Pour commencer, nous allons utiliser le hint `SHUFFLE_REPLICATE_NL` pour impliquer implicitement un produit cartésien."
   ]
  },
  {
   "cell_type": "code",
   "execution_count": null,
   "id": "8dde623d-685d-4c3a-bbcf-907eb6559e75",
   "metadata": {
    "tags": []
   },
   "outputs": [],
   "source": [
    "val data = checkins.join(venues.hint(\"SHUFFLE_REPLICATE_NL\"), checkins(\"venueId\") === venues(\"id\"))\n",
    "data.showHTML(limit = 10)\n",
    "data.explain()"
   ]
  },
  {
   "cell_type": "markdown",
   "id": "841c802c-d0a0-4330-83b2-d059ebf70f52",
   "metadata": {},
   "source": [
    "Recherchons les lieux qui n'ont pas encore reçu de visite des utilisateurs. Pour cela, nous allons utiliser une jointure de type LEFT ANTI JOIN."
   ]
  },
  {
   "cell_type": "code",
   "execution_count": null,
   "id": "74fa00bd-a4a6-4bfe-9128-ddf6a3f3f21b",
   "metadata": {
    "tags": []
   },
   "outputs": [],
   "source": [
    "val data = venues.join(checkins.hint(\"SHUFFLE_REPLICATE_NL\"), checkins(\"venueId\") === venues(\"id\"), \"leftanti\")\n",
    "data.showHTML(limit = 10)\n",
    "data.explain()"
   ]
  },
  {
   "cell_type": "markdown",
   "id": "85302523-2273-4751-b2f5-e527b87e8758",
   "metadata": {
    "tags": []
   },
   "source": [
    "### Jointure sans clé\n",
    "\n",
    "Cette fois, sans préciser la clé, nous allons générer toutes les combinaisons possibles d'utilisateurs et de lieux."
   ]
  },
  {
   "cell_type": "code",
   "execution_count": null,
   "id": "399d51c8-6726-486b-8b74-2530e8a6e084",
   "metadata": {
    "tags": []
   },
   "outputs": [],
   "source": [
    "val data = checkins.select($\"userId\").join(venues)\n",
    "data.showHTML(limit = 10)\n",
    "data.explain()"
   ]
  },
  {
   "cell_type": "markdown",
   "id": "3b113597-2ad9-492b-ad75-55e02e370a15",
   "metadata": {},
   "source": [
    "## Influence du type de jointure sur la stratégie choisie\n",
    "\n",
    "Nous allons voir, comment le type de jointure influe sur la stratégie de jointure choisie au sein de Spark. Pour rappel, les notions de dataframe gauche et de dataframe droite sont perçues par rapport à l'opération :\n",
    "\n",
    "`<left_dataframe>.join(<right_dataframe>, ...)`\n",
    "\n",
    "Voici les différents types de jointure :\n",
    "\n",
    "* **inner** : par défaut, conserve les éléments ayant une correspondance de chaque côté de la jointure.\n",
    "* **outer, full, fullouter, full_outer** : tente de trouver une correspondance à tous les éléments des deux dataframes, ou en associant des valeurs nulles par défaut.\n",
    "* **leftouter, left, left_outer** : tente de trouver une correspondance pour tous les éléments de dataframe de gauche, des valeurs nulles sont utilisées par défaut, pour les éléments qui ne possèdent pas de correspondant à droite.\n",
    "* **rightouter, right, right_outer** : tente de trouver une correspondance pour tous les éléments de dataframe de droite, des valeurs nulles sont utilisées par défaut, pour les éléments qui ne possèdent pas de correspondant à gauche.\n",
    "* **leftsemi, left_semi, semi** : équivalent à un _inner join_, sauf que les colonnes du dataframe de droite sont retirées en sortie. Ce type de jointure permet de vérifier que des valeurs d'un dataframe apparaissent bien dans un autre dataframe.\n",
    "* **leftanti, left_anti, anti** : recherche dans le dataframe de gauche les clés qui n'apparaissent pas dans le dataframe de droite. C'est l'opposé de _left semi join_. \n",
    "* **cross** : produit cartésien, essaye toutes les combinaisons de correspondances entre les éléments gauches et droites.\n",
    "\n",
    "Ici, nous allons utiliser des données plus simples : un ensemble d'utilisateurs, que nous chargeons directement en mémoire."
   ]
  },
  {
   "cell_type": "code",
   "execution_count": null,
   "id": "2a26b210-2fd2-4d36-82cb-5a152344d6af",
   "metadata": {
    "tags": []
   },
   "outputs": [],
   "source": [
    "val users =\n",
    "  Seq(\n",
    "    (\"123\", \"1\", 32),\n",
    "    (\"456\", \"2\", 25),\n",
    "    (\"789\", \"3\", 16),\n",
    "    (\"321\", \"8\", 55)\n",
    "  ).toDF(\"id\", \"name_id\", \"age\")\n",
    "\n",
    "val mapping =\n",
    "  Seq(\n",
    "    (\"1\", \"Jon\"),\n",
    "    (\"2\", \"Mary\"),\n",
    "    (\"3\", \"Tom\"),\n",
    "    (\"4\", \"Albert\")\n",
    "  ).toDF(\"id\", \"name\")\n",
    "\n",
    "val adults = users.where($\"age\" >= 18)"
   ]
  },
  {
   "cell_type": "markdown",
   "id": "14f5ca8f-364e-40c9-99a3-c71948042f04",
   "metadata": {},
   "source": [
    "🤔 **Question** 🤔\n",
    "\n",
    "* Pour chaque cellule ci-dessous, quelles principales différences relevez-vous concernant le plan d'exécution ?\n",
    "* Regroupez les différents types de jointure selon l'équivalence des plans d'exécution. Expliquez pourquoi certains plans sont similaires pour des types de jointure différents ?"
   ]
  },
  {
   "cell_type": "code",
   "execution_count": null,
   "id": "76288028-c192-4481-ac05-3e91f0a6af20",
   "metadata": {
    "tags": []
   },
   "outputs": [],
   "source": [
    "%%data\n",
    "\n",
    "adults.join(mapping, adults(\"name_id\") === mapping(\"id\"), \"inner\")"
   ]
  },
  {
   "cell_type": "code",
   "execution_count": null,
   "id": "d26d708f-6d13-454e-a70a-37ef8143d19d",
   "metadata": {
    "tags": []
   },
   "outputs": [],
   "source": [
    "%%data\n",
    "\n",
    "adults.join(mapping, adults(\"name_id\") === mapping(\"id\"), \"outer\")"
   ]
  },
  {
   "cell_type": "code",
   "execution_count": null,
   "id": "0d8b212a-3eac-416e-9247-60c0b5697fb6",
   "metadata": {
    "tags": []
   },
   "outputs": [],
   "source": [
    "%%data limit=10\n",
    "\n",
    "adults.join(mapping, adults(\"name_id\") === mapping(\"id\"), \"left_outer\")"
   ]
  },
  {
   "cell_type": "code",
   "execution_count": null,
   "id": "da4d0483-093a-404b-a203-75822e6c2ed7",
   "metadata": {
    "tags": []
   },
   "outputs": [],
   "source": [
    "%%data limit=10\n",
    "\n",
    "adults.join(mapping, adults(\"name_id\") === mapping(\"id\"), \"right_outer\")"
   ]
  },
  {
   "cell_type": "code",
   "execution_count": null,
   "id": "0c0171f7-18b9-4d0f-9d92-89060343310e",
   "metadata": {
    "tags": []
   },
   "outputs": [],
   "source": [
    "%%data limit=10\n",
    "\n",
    "adults.join(mapping, adults(\"name_id\") === mapping(\"id\"), \"left_semi\")"
   ]
  },
  {
   "cell_type": "code",
   "execution_count": null,
   "id": "6c6f05c9-741a-4fc2-b185-b0fc12077483",
   "metadata": {
    "tags": []
   },
   "outputs": [],
   "source": [
    "%%data limit=10\n",
    "\n",
    "adults.join(mapping, adults(\"name_id\") === mapping(\"id\"), \"left_anti\")"
   ]
  },
  {
   "cell_type": "markdown",
   "id": "9c3e5946-d224-4c40-ac89-c52471731193",
   "metadata": {},
   "source": [
    "## Auto-jointure (_self join_)\n",
    "\n",
    "L'auto-jointure est une jointure où le dataframe de gauche et de droite sont les mêmes.\n",
    "\n",
    "Nous avons la table d'employés ci-dessous, qui indique dans la colonne `superior` l'employé responsable."
   ]
  },
  {
   "cell_type": "code",
   "execution_count": null,
   "id": "41a6be52-40f8-4204-92d9-5501bd6f5246",
   "metadata": {
    "tags": []
   },
   "outputs": [],
   "source": [
    "%%data\n",
    "\n",
    "val employees =\n",
    "  Seq(\n",
    "    (\"123\", \"Jon\", null),\n",
    "    (\"456\", \"Mary\", \"123\"),\n",
    "    (\"789\", \"Tom\", \"123\"),\n",
    "    (\"321\", \"Frank\", null)\n",
    "  ).toDF(\"id\", \"name\", \"superior\")\n",
    "\n",
    "employees"
   ]
  },
  {
   "cell_type": "markdown",
   "id": "5bd9a584-b21d-42b9-a51c-af6d756bb6cf",
   "metadata": {},
   "source": [
    "Nous voulons afficher chaque employé son responsable, s'il en a un."
   ]
  },
  {
   "cell_type": "code",
   "execution_count": null,
   "id": "e79813b4-2aa4-4fc0-b89d-e05c255638b2",
   "metadata": {
    "tags": []
   },
   "outputs": [],
   "source": [
    "%%data\n",
    "\n",
    "employees.as(\"l\")\n",
    "  .join(employees.as(\"r\"), $\"l.id\" === $\"r.superior\")\n",
    "  .select($\"l.id\", $\"r.name\", $\"l.name\" as \"superior\")"
   ]
  },
  {
   "cell_type": "markdown",
   "id": "ff250df2-d1f2-48eb-868d-8298a68ee668",
   "metadata": {},
   "source": [
    "🤔 **Question** 🤔\n",
    "\n",
    "* Quelle stratégie est appliquée ?"
   ]
  },
  {
   "cell_type": "code",
   "execution_count": null,
   "id": "4ebdca9e-5e57-4e6d-a2f6-3fcbbf3bbff2",
   "metadata": {},
   "outputs": [],
   "source": []
  }
 ],
 "metadata": {
  "kernelspec": {
   "display_name": "Scala 2.13",
   "language": "scala",
   "name": "scala213"
  },
  "language_info": {
   "codemirror_mode": "text/x-scala",
   "file_extension": ".sc",
   "mimetype": "text/x-scala",
   "name": "scala",
   "nbconvert_exporter": "script",
   "version": "2.13.11"
  },
  "toc-autonumbering": true,
  "toc-showcode": false,
  "toc-showmarkdowntxt": false,
  "toc-showtags": false
 },
 "nbformat": 4,
 "nbformat_minor": 5
}
