{
 "cells": [
  {
   "cell_type": "markdown",
   "id": "c306cbd7-f740-45f6-b531-f8dfa0da2b50",
   "metadata": {},
   "source": [
    "# Gestion du cache\n",
    "\n",
    "Le principe d'un cache est de conserver les résultats de requêtes pour ne pas avoir à les recalculer lorsque ces requêtes seront à nouveau reçues. Le cache est intéressant à partir du moment où des requêtes reviennent assez fréquemment, sachant qu'en contrepartie, la cache va consommer de la ressource mémoire, disque et CPU. Il faut que cette consommation de ressources soit plus rentable que la consommation faite par le calcul qu'implique la requête reçue, pour que le cache soit considéré comme une option intéressante.\n",
    "\n",
    "Spark propose une fonctionnalité de cache au niveau Spark Core sur les RDD et Spark SQL sur les dataframe et les dataset. Dans le cadre de Spark SQL, le cache devient intéressant dès qu'un dataframe est utilisé dans plusieurs requêtes séparées. Dans cette situation, l'utilisation du cache pour un dataframe permet au niveau de chacune des requêtes qui utilisent ce dataframe de réévaluer à chaque fois les calculs qui ont conduit à ce dataframe."
   ]
  },
  {
   "cell_type": "markdown",
   "id": "75390f1b-21bf-451e-80f5-1833495b1e0c",
   "metadata": {},
   "source": [
    "## Prélude"
   ]
  },
  {
   "cell_type": "code",
   "execution_count": null,
   "id": "b225a9d5-a485-48cf-96e5-088892f57d63",
   "metadata": {
    "scrolled": true,
    "tags": []
   },
   "outputs": [],
   "source": [
    "import $ivy.`org.slf4j:slf4j-reload4j:2.0.6`\n",
    "import $ivy.`org.apache.logging.log4j:log4j-api:2.8.2`\n",
    "import $ivy.`org.apache.logging.log4j:log4j-slf4j-impl:2.8.2`\n",
    "\n",
    "// Avoid disturbing logs\n",
    "import org.apache.log4j._\n",
    "import org.apache.log4j.varia._\n",
    "BasicConfigurator.configure(NullAppender.getNullAppender())\n",
    "\n",
    "import $ivy.`org.apache.spark::spark-core:3.4.1`\n",
    "import $ivy.`org.apache.spark::spark-sql:3.4.1`"
   ]
  },
  {
   "cell_type": "code",
   "execution_count": null,
   "id": "2f83f4a0-45a1-43a5-864f-6b8316c45446",
   "metadata": {
    "scrolled": true,
    "tags": []
   },
   "outputs": [],
   "source": [
    "import org.apache.spark.rdd._\n",
    "import org.apache.spark.sql._\n",
    "import org.apache.spark.sql.functions._\n",
    "import org.apache.spark.sql.types._\n",
    "import org.apache.spark.storage.StorageLevel\n",
    "\n",
    "val spark = {\n",
    "  NotebookSparkSession.builder()\n",
    "    .progress(enable = true, keep = true, useBars = false)\n",
    "    .master(\"local[*]\")\n",
    "    .appName(\"Spark tuning — Cache\")\n",
    "    .getOrCreate()\n",
    "}\n",
    "\n",
    "import spark.implicits._\n",
    "val sparkContext = spark.sparkContext\n",
    "import $file.^.internal.spark_helper\n",
    "import spark_helper.implicits._"
   ]
  },
  {
   "cell_type": "code",
   "execution_count": null,
   "id": "5cb7b20c-8f3b-4769-9c81-982911e38e66",
   "metadata": {},
   "outputs": [],
   "source": [
    "def callWithName[A](name: String)(f: => A): A = {\n",
    "  spark.sparkContext.setCallSite(name)\n",
    "  try f\n",
    "  finally spark.sparkContext.clearCallSite()\n",
    "}"
   ]
  },
  {
   "cell_type": "markdown",
   "id": "f9113a84-bf24-4458-8afa-af6e2319b486",
   "metadata": {},
   "source": [
    "## Introduction sur le cache"
   ]
  },
  {
   "cell_type": "code",
   "execution_count": null,
   "id": "8acd6703-9a8e-407d-be66-faaa68ba1444",
   "metadata": {
    "tags": []
   },
   "outputs": [],
   "source": [
    "%%data limit=10\n",
    "\n",
    "val orders: DataFrame =\n",
    "  spark.read\n",
    "    .option(\"header\", true)\n",
    "    .csv(\"data/orders.csv\")\n",
    "    .repartition(4)\n",
    "\n",
    "orders.printSchema()\n",
    "orders"
   ]
  },
  {
   "cell_type": "markdown",
   "id": "e0a1109d-f2fd-4936-807c-57aad33b8fb3",
   "metadata": {
    "tags": []
   },
   "source": [
    "### Sans cache\n",
    "\n",
    "Nous voulons effectuer des analyses sur la journée du 1er février 2023, sans utiliser de cache."
   ]
  },
  {
   "cell_type": "code",
   "execution_count": null,
   "id": "7fb3fc4f-8b7d-48bc-8a8c-782603d873bd",
   "metadata": {
    "tags": []
   },
   "outputs": [],
   "source": [
    "%%data limit=10\n",
    "\n",
    "val partOfOrders = orders.where(to_date($\"timestamp\") === to_date(lit(\"2023-02-01\")))\n",
    "\n",
    "partOfOrders"
   ]
  },
  {
   "cell_type": "markdown",
   "id": "3bb84b0a-5b3b-4ca2-8a37-0ba5efb0fae7",
   "metadata": {},
   "source": [
    "Nous récupérons d'abord le chiffre d'affaires de la journée."
   ]
  },
  {
   "cell_type": "code",
   "execution_count": null,
   "id": "d907dc4d-5cae-46c7-acd4-0cc0d193721d",
   "metadata": {
    "tags": []
   },
   "outputs": [],
   "source": [
    "callWithName(\"show revenue - no cache\") {\n",
    "  partOfOrders\n",
    "    .agg(round(sum($\"price\"), 2) as \"total\")\n",
    "    .show()\n",
    "}"
   ]
  },
  {
   "cell_type": "markdown",
   "id": "cdbf5bd4-a426-4590-a08a-81aac76fdd88",
   "metadata": {},
   "source": [
    "Nous allons ensuite analyser la répartition du chiffre d'affaires de la journée sur les différents produits."
   ]
  },
  {
   "cell_type": "code",
   "execution_count": null,
   "id": "97b47212-7e41-490f-8590-6a3a7c15d252",
   "metadata": {
    "tags": []
   },
   "outputs": [],
   "source": [
    "callWithName(\"show product revenue - no cache\") {\n",
    "  partOfOrders\n",
    "    .groupBy($\"product\")\n",
    "    .agg(sum($\"price\") as \"total\")\n",
    "    .where($\"total\" >= 15.0)\n",
    "    .orderBy($\"total\".desc)\n",
    "    .show()\n",
    "}"
   ]
  },
  {
   "cell_type": "markdown",
   "id": "169db4e5-a9ce-45c5-a619-4cf8476cd161",
   "metadata": {},
   "source": [
    "Nous récupérons enfin la répartition des ventes par client sur le café noisette et le total des ventes de la journée sur ce produit."
   ]
  },
  {
   "cell_type": "code",
   "execution_count": null,
   "id": "944085fd",
   "metadata": {
    "tags": []
   },
   "outputs": [],
   "source": [
    "callWithName(\"show noisette - no cache\") {\n",
    "  partOfOrders\n",
    "    .where($\"product\" === \"noisette\")\n",
    "    .cube($\"client\")\n",
    "    .agg(sum($\"price\") as \"total\")\n",
    "    .orderBy($\"client\".desc)\n",
    "    .show()\n",
    "}"
   ]
  },
  {
   "cell_type": "markdown",
   "id": "057b3b7a-b3ac-41a7-8744-b14ab7d00405",
   "metadata": {},
   "source": [
    "👀 **Question** 👀\n",
    "\n",
    "Dans toutes ces requêtes, lorsque nous regardons le plan d'exécution, nous voyons des DAG relativement équivalents. De plus chaque requête se traduit par l'exécution de 3 jobs. Nous le voyons dans ce notebook, au niveau des barres de progression."
   ]
  },
  {
   "cell_type": "markdown",
   "id": "0e38d9a9-2ca5-4d40-a33e-40b3244dac4d",
   "metadata": {},
   "source": [
    "### Avec cache\n",
    "\n",
    "Nous allons maintenant exécuter les mêmes requêtes. Mais cette fois, nous allons mettre en cache le dataframe filtré sur la journée 1er février 2023."
   ]
  },
  {
   "cell_type": "code",
   "execution_count": null,
   "id": "55da6c9c-4a43-4415-be1f-78e661dde27a",
   "metadata": {
    "tags": []
   },
   "outputs": [],
   "source": [
    "%%data limit=10\n",
    "\n",
    "val partOfOrders = orders.where(to_date($\"timestamp\") === to_date(lit(\"2023-02-01\"))).cache()\n",
    "\n",
    "partOfOrders"
   ]
  },
  {
   "cell_type": "markdown",
   "id": "99dcbca5-c329-4ded-940d-980377afceca",
   "metadata": {
    "tags": []
   },
   "source": [
    "👷 Exécutez les requêtes ci-dessous."
   ]
  },
  {
   "cell_type": "code",
   "execution_count": null,
   "id": "f9273c87-89d4-40f7-811c-71b8a6ed6ae7",
   "metadata": {
    "tags": []
   },
   "outputs": [],
   "source": [
    "callWithName(\"show revenue - cache\") {\n",
    "  partOfOrders\n",
    "    .agg(round(sum($\"price\"), 2) as \"total\")\n",
    "    .show()\n",
    "}"
   ]
  },
  {
   "cell_type": "code",
   "execution_count": null,
   "id": "a503bf02-6547-4da5-ad1c-6d43dd21b68f",
   "metadata": {
    "tags": []
   },
   "outputs": [],
   "source": [
    "callWithName(\"show product revenue - cache\") {\n",
    "  partOfOrders\n",
    "    .groupBy($\"product\")\n",
    "    .agg(sum($\"price\") as \"total\")\n",
    "    .where($\"total\" >= 15.0)\n",
    "    .orderBy($\"total\".desc)\n",
    "    .show()\n",
    "}"
   ]
  },
  {
   "cell_type": "code",
   "execution_count": null,
   "id": "f1fc4667-8b17-4a3c-8b61-7dedf9f1aed7",
   "metadata": {
    "tags": []
   },
   "outputs": [],
   "source": [
    "callWithName(\"show noisette - cache\") {\n",
    "  partOfOrders\n",
    "    .where($\"product\" === \"noisette\")\n",
    "    .cube($\"client\")\n",
    "    .agg(sum($\"price\") as \"total\")\n",
    "    .orderBy($\"client\".desc)\n",
    "    .show()\n",
    "}"
   ]
  },
  {
   "cell_type": "markdown",
   "id": "04b160e7-5e17-4af8-bce1-6f92a6f3465a",
   "metadata": {},
   "source": [
    "👀 **Ce qu'il faut voir** 👀\n",
    "\n",
    "La différence, qui apparaît ici, est que l'exécution des requêtes d'analyse nécessite cette 2 jobs au lieu de 3. Ce qui permet un gain en performance sur l'exécution de ces requêtes.\n",
    "\n",
    "En regardant de plus près le plan d'exécution de ces requêtes, nous remarquons que celui-ci est un plus grand. Dans le cadre de la mise en cache, Spark a ajouté les étapes :\n",
    "\n",
    "* **InMemoryRelation** : mise en cache des données du dataframe\n",
    "* **InMemoryTableScan** : parcours des données du dataframe depuis le cache\n",
    "\n",
    "Ces étapes proviennent de `partOfOrders`.\n",
    "\n",
    "=> 👷 Exécutez la cellule suivante pour voir le plan d'exécution lié à `partOfOrders`."
   ]
  },
  {
   "cell_type": "code",
   "execution_count": null,
   "id": "521c5c60-53ee-4152-afe6-ba9ea2f202ec",
   "metadata": {
    "tags": []
   },
   "outputs": [],
   "source": [
    "partOfOrders.explain()"
   ]
  },
  {
   "cell_type": "markdown",
   "id": "8912a685-ffd9-43df-8e2b-f1a60e55d624",
   "metadata": {},
   "source": [
    "En fait, dans les requêtes d'analyse, toutes les étapes précédentes _InMemoryTableScan_ ne sont pas exécutées.\n",
    "\n",
    "Si vous allez dans Spark UI, dans l'onglet _Storage_ vous allez trouver un tableau avec une seule entrée, contenant les informations ci-dessous :\n",
    "\n",
    "* Storage Level: Disk Memory Deserialized 1x Replicated\n",
    "* Cached Partitions: 4\n",
    "* Fraction Cached: 100%\n",
    "* Size in Memory: 8.6 KiB\n",
    "* Size on Disk: 0.0 B\n",
    "\n",
    "Cette ligne unique indique les informations sur les données en cache liées à `partOfOrders`.\n",
    "\n",
    "_Storage Level_ indique le type de stockage utilisé. Ici, nous avons un stockage en mémoire désérialisé (il s'agit uniquement d'objets Java stockés dans la _heap_ de la JVM) et sur disque, avec un unique répliqua (il n'y a pas de réplication sur d'autres executor).\n",
    "\n",
    "Nous avons aussi la quantité de mémoire utilisée et la quantité de données stockée sur disque.\n",
    "\n",
    "Si vous cliquez sur la ligne du tableau dans Spark UI, vous obtenez plus d'informations sur nos données en cache. Nous avons notamment la répartition des données en cache par partition avec les executor associés. Et nous avons aussi la mémoire restante pour le cache.\n",
    "\n",
    "Il est possible de supprimer le cache à la main en utilisant la méthode `.unpersist()`."
   ]
  },
  {
   "cell_type": "code",
   "execution_count": null,
   "id": "018f0af4-fd6c-4ec7-b7ad-08bc0c31b66b",
   "metadata": {
    "tags": []
   },
   "outputs": [],
   "source": [
    "partOfOrders.unpersist()"
   ]
  },
  {
   "cell_type": "markdown",
   "id": "b3506677-751b-4279-91e2-2e10792e0149",
   "metadata": {},
   "source": [
    "Si vous retournez dans l'onglet _Storage_ de Spark UI, vous verrez que le tableau aura disparu."
   ]
  },
  {
   "cell_type": "markdown",
   "id": "61f99d29-5a6b-4c5a-a463-89bd850cb242",
   "metadata": {},
   "source": [
    "### Fonctionnement\n",
    "\n",
    "Le cache Spark SQL est un cache LRU (_Least Recently Used_). Ainsi, lorsque l'espace pour le cache manque, toutes les entrées les moins utilisées sont retirées du cache pour laisser de la place. Lors du prochain accès aux données retirées, Spark recalculera ces données pour les réintégrer dans le cache, en ayant au préalable retiré les données les moins utilisées, si le cache est à nouveau plein."
   ]
  },
  {
   "cell_type": "markdown",
   "id": "c19b8692-88c5-49ce-9b7a-3465d82bd037",
   "metadata": {
    "tags": []
   },
   "source": [
    "## Les différents niveaux de cache"
   ]
  },
  {
   "cell_type": "markdown",
   "id": "f5c17a2e-f4d2-426b-8052-861bbda1a87a",
   "metadata": {},
   "source": [
    "### CacheManager\n",
    "\n",
    "Spark SQL bénéficie d'un CacheManager qui centralise la gestion des caches.\n",
    "\n",
    "Il est possible de vider complètement le cache à travers son interface."
   ]
  },
  {
   "cell_type": "code",
   "execution_count": null,
   "id": "7890e15f-d69c-4714-8626-f7ec73dd7fea",
   "metadata": {
    "tags": []
   },
   "outputs": [],
   "source": [
    "val cacheManager = spark.sharedState.cacheManager\n",
    "\n",
    "cacheManager.clearCache()"
   ]
  },
  {
   "cell_type": "markdown",
   "id": "84718cc1-c518-4ee3-91a0-a09328dd6c43",
   "metadata": {},
   "source": [
    "Voyons le fonctionnement du CacheManager. Pour cela, nous allons mettre en cache 2 requêtes identiques, mais réclamant une stratégie du stockage du cache différente."
   ]
  },
  {
   "cell_type": "code",
   "execution_count": null,
   "id": "fbf49b4c-347c-48c7-a89a-6a06a7a99bd4",
   "metadata": {
    "tags": []
   },
   "outputs": [],
   "source": [
    "val orders_default: DataFrame =\n",
    "  spark.read.option(\"header\", true).csv(\"data/orders.csv\").repartition(4).cache()\n",
    "orders_default.take(1)"
   ]
  },
  {
   "cell_type": "code",
   "execution_count": null,
   "id": "75402a40-2a5f-4d74-955f-0dcb49b12e37",
   "metadata": {
    "tags": []
   },
   "outputs": [],
   "source": [
    "val orders_memory: DataFrame =\n",
    "  spark.read.option(\"header\", true).csv(\"data/orders.csv\").repartition(4).persist(StorageLevel.MEMORY_ONLY)\n",
    "orders_default.take(1)"
   ]
  },
  {
   "cell_type": "markdown",
   "id": "c3109411-0fb6-4bbd-8fc2-a87d73b0f0db",
   "metadata": {},
   "source": [
    "👀 **Ce qu'il faut voir** 👀\n",
    "\n",
    "Si nous regardons dans Spark UI, bien que nous ayons produits deux dataframe, nous ne verrons qu'un seul cache dans l'onglet _Storage_.\n",
    "\n",
    "Plus exactement, la recherche du cache se fait selon l'opération suivante :"
   ]
  },
  {
   "cell_type": "code",
   "execution_count": null,
   "id": "46f517e9-790b-408d-8549-8a885703ca48",
   "metadata": {
    "tags": []
   },
   "outputs": [],
   "source": [
    "orders_default.queryExecution.logical\n",
    "  .sameResult(\n",
    "    orders_memory.queryExecution.logical\n",
    "  )"
   ]
  },
  {
   "cell_type": "markdown",
   "id": "63c85ff4-5f8a-4908-ad39-0e8e565ad362",
   "metadata": {},
   "source": [
    "Ce qui veut dire que ce qui est retenu, c'est plus exactement la similarité des résultats obtenus par les dataframes et non pas sur l'égalité entre les plans d'exécution des dataframes.\n",
    "\n",
    "La difficulté est que tout ceci est déterminé avant l'exécution de la requête. Il est dans ce cas parfois difficile de déterminer si deux plans d'exécution produiront des résultats équivalents. Spark ne sait pas toujours le déterminer. Par contre, Spark va capable de déterminer si deux plans d'exécution vont donner des résultats différents.\n",
    "\n",
    "Pour retrouver des données en cache, Spark SQL passe par la méthode `.lookupCachedData()` du CacheManager."
   ]
  },
  {
   "cell_type": "code",
   "execution_count": null,
   "id": "4bd00245-367d-4b7c-a16b-7d2479797e2c",
   "metadata": {
    "tags": []
   },
   "outputs": [],
   "source": [
    "object test_unique_cache {\n",
    "  val cache_orders_default = cacheManager.lookupCachedData(orders_default).get\n",
    "  val cache_orders_memory = cacheManager.lookupCachedData(orders_memory).get\n",
    "\n",
    "  def run() = {\n",
    "    println(\"cache_orders_default.plan sameResult cache_orders_memory.plan: \" + cache_orders_default.plan.sameResult(cache_orders_memory.plan))\n",
    "    println(\"cache_orders_default: \" + cache_orders_default.cachedRepresentation.cacheBuilder.storageLevel)\n",
    "    println(\"cache_orders_memory: \" + cache_orders_memory.cachedRepresentation.cacheBuilder.storageLevel)\n",
    "  }\n",
    "}\n",
    "\n",
    "test_unique_cache.run()"
   ]
  },
  {
   "cell_type": "markdown",
   "id": "3d887edf-9707-48d8-a5dd-dd45fe3e89be",
   "metadata": {},
   "source": [
    "D'ailleurs, notre dataframe d'origine est lui aussi indexé dans le cache, même si son plan d'exécution déduit n'a pas changé."
   ]
  },
  {
   "cell_type": "code",
   "execution_count": null,
   "id": "a571729f-14a2-4838-9a5e-8c116448cd3a",
   "metadata": {
    "tags": []
   },
   "outputs": [],
   "source": [
    "orders.explain()\n",
    "cacheManager.lookupCachedData(orders).isDefined"
   ]
  },
  {
   "cell_type": "markdown",
   "id": "b61c5af9-b077-423a-9107-f7386fc735b4",
   "metadata": {},
   "source": [
    "Si vous exécutez la cellule ci-dessous et que vous allez dans Spark UI, vous verrez apparaître une étape InMemoryRelation et InMemoryTableScan, indiquant que les données pour cette requête n'ont pas été récupérées depuis le fichier, mais depuis le cache."
   ]
  },
  {
   "cell_type": "code",
   "execution_count": null,
   "id": "bb9b89b9-18cb-462c-be7f-cb2710d6f966",
   "metadata": {
    "tags": []
   },
   "outputs": [],
   "source": [
    "callWithName(\"take from order - before clear cache\") {\n",
    "  orders.take(1)\n",
    "}"
   ]
  },
  {
   "cell_type": "markdown",
   "id": "adb4deee-ec83-4059-8878-d53ab8a0e2d0",
   "metadata": {},
   "source": [
    "Par contre, si nous vidons le cache, la récupération des données se fait depuis le fichier directement. Dans le plan d'exécution, dans Spark UI, les étapes InMemoryRelation et InMemoryTableScan auront disparues."
   ]
  },
  {
   "cell_type": "code",
   "execution_count": null,
   "id": "fe10d59c-7f2c-4f74-a62c-c2c2f277f9dc",
   "metadata": {
    "tags": []
   },
   "outputs": [],
   "source": [
    "cacheManager.clearCache()\n",
    "\n",
    "orders.explain()\n",
    "cacheManager.lookupCachedData(orders).isDefined\n",
    "\n",
    "callWithName(\"take from order - after clear cache\") {\n",
    "  orders.take(1)\n",
    "}"
   ]
  },
  {
   "cell_type": "markdown",
   "id": "5ad552ac-2d65-4e81-b5e3-62d5812195a9",
   "metadata": {},
   "source": [
    "### Stockage des caches\n",
    "\n",
    "Voici la liste des stratégies de stockage proposée par Spark.\n",
    "\n",
    "* **NONE** : pas de persistance (empêche le CacheManager de persister par la suite un type de requête)\n",
    "* **DISK_ONLY** : persistance sur le disque local\n",
    "* **DISK_ONLY_2** : persistance sur disque répliquée sur 2 nœuds\n",
    "* **DISK_ONLY_3** : persistance sur disque répliquée sur 3 nœuds\n",
    "* **MEMORY_ONLY** : persistance en mémoire\n",
    "* **MEMORY_ONLY_2** : persistance en mémoire sur 2 nœuds\n",
    "* **MEMORY_ONLY_SER** : persistance sérialisée en mémoire\n",
    "* **MEMORY_ONLY_SER_2** : persistance sérialisée en mémoire sur 2 nœuds\n",
    "* **MEMORY_AND_DISK** : persistance en mémoire et sur disque\n",
    "* **MEMORY_AND_DISK_2** : persistance en mémoire et sur disque répliquée sur 2 nœuds\n",
    "* **MEMORY_AND_DISK_SER** : persistance sérialisée en mémoire et sur disque\n",
    "* **MEMORY_AND_DISK_SER_2** : persistance sérialisée en mémoire et sur disque répliquée sur 2 nœuds\n",
    "* **OFF_HEAP** : persistance en mémoire _off heap_ (_expériemntal_)\n",
    "\n",
    "La sérialisation proposée ici utilise un encodage binaire propre à Spark et qui reconnu comme efficace. Il permet de gagner de l'espace en mémoire, en demandant un effort supplémentaire sur le CPU.\n",
    "\n",
    "Le stockage sur disque est bien évidemment plus coûteux que le stockage en mémoire. Il faut dans ce cas que le recalcul du dataframe soit plus lent que l'accès disque pour récupérer les données.\n",
    "\n",
    "La réplication est intéressante si le recalcul du dataframe est extrêmement lent et que l'on souhaite donner la possibilité à Spark de reprendre les traitements en cours sur un autre executor, en cas de panne partielle.\n",
    "\n",
    "**Exercice**\n",
    "\n",
    "👷 Ci-dessous, après avoir vidé le cache, vérifier dans Spark UI l'effet du stockage `NONE`."
   ]
  },
  {
   "cell_type": "code",
   "execution_count": null,
   "id": "c007a2f7-57de-4821-b49a-b71e735c8167",
   "metadata": {
    "tags": []
   },
   "outputs": [],
   "source": [
    "cacheManager.clearCache()"
   ]
  },
  {
   "cell_type": "code",
   "execution_count": null,
   "id": "10df3660-4c07-4792-a9ce-58392afcce04",
   "metadata": {
    "tags": []
   },
   "outputs": [],
   "source": [
    "callWithName(\"StorageLevel.NONE\") {\n",
    "  orders.where(to_date($\"timestamp\") === to_date(lit(\"2023-02-28\"))).persist(StorageLevel.NONE).take(1)\n",
    "}"
   ]
  },
  {
   "cell_type": "markdown",
   "id": "0d1aa43f-3f65-4194-80f1-668a0ebea587",
   "metadata": {},
   "source": [
    "👷 Exécutez la cellule ci-dessous."
   ]
  },
  {
   "cell_type": "code",
   "execution_count": null,
   "id": "f354b439-d222-43ee-b628-6017b8c2d3ce",
   "metadata": {
    "tags": []
   },
   "outputs": [],
   "source": [
    "callWithName(\"StorageLevel.MEMORY_ONLY\") {\n",
    "  val memory_only =\n",
    "    orders.where(to_date($\"timestamp\") === to_date(lit(\"2023-03-01\"))).persist(StorageLevel.MEMORY_ONLY).take(1).toList\n",
    "  println(s\"memory_only = $memory_only\")\n",
    "}\n",
    "callWithName(\"StorageLevel.MEMORY_ONLY_SER\") {\n",
    "  val memory_only_ser =\n",
    "    orders.where(to_date($\"timestamp\") === to_date(lit(\"2023-03-02\"))).persist(StorageLevel.MEMORY_ONLY_SER).take(1).toList\n",
    "  println(s\"memory_only_ser = $memory_only_ser\")\n",
    "}\n",
    "callWithName(\"StorageLevel.DISK_ONLY\") {\n",
    "  val disk_only =\n",
    "    orders.where(to_date($\"timestamp\") === to_date(lit(\"2023-03-03\"))).persist(StorageLevel.DISK_ONLY).take(1).toList\n",
    "  println(s\"disk_only = $disk_only\")\n",
    "}\n",
    "callWithName(\"StorageLevel.MEMORY_AND_DISK\") {\n",
    "  val memory_and_disk =\n",
    "    orders.where(to_date($\"timestamp\") === to_date(lit(\"2023-03-04\"))).persist(StorageLevel.MEMORY_AND_DISK).take(1).toList\n",
    "  println(s\"memory_and_disk = $memory_and_disk\")\n",
    "}\n",
    "callWithName(\"StorageLevel.MEMORY_AND_DISK_SER\") {\n",
    "  val memory_and_disk_ser =\n",
    "    orders.where(to_date($\"timestamp\") === to_date(lit(\"2023-03-05\"))).persist(StorageLevel.MEMORY_AND_DISK_SER).take(1).toList\n",
    "  println(s\"memory_and_disk_ser = $memory_and_disk_ser\")\n",
    "}\n",
    "// experimental\n",
    "callWithName(\"StorageLevel.OFF_HEAP\") {\n",
    "  val off_heap =\n",
    "    orders.where(to_date($\"timestamp\") === to_date(lit(\"2023-03-06\"))).persist(StorageLevel.OFF_HEAP).take(1).toList\n",
    "  println(s\"off_heap = $off_heap\")\n",
    "}"
   ]
  },
  {
   "cell_type": "markdown",
   "id": "277dfc38-0f5b-41ea-bded-5bb74d5f487c",
   "metadata": {},
   "source": [
    "🤔 **Question** 🤔\n",
    "\n",
    "Vérifiez dans Spark UI la stratégie de stockage qui semble la meilleure. Appuyez-vous pour cela sur les statistiques de latence et de consommation d'espace.\n",
    "\n",
    "----\n",
    "\n",
    "Nous allons maintenant voir l'effet d'une stratégie de stockage impliquant une réplication, sachant que nous n'avons qu'un seul executor (ie. le driver).\n",
    "\n",
    "Après avoir vidé le cache et lancé la requête, regardez dans Spark UI, dans l'onglet _Storage_, si un espace de stockage a été créé."
   ]
  },
  {
   "cell_type": "code",
   "execution_count": null,
   "id": "0effc384-4b93-4322-88db-90e79c15ce0e",
   "metadata": {
    "tags": []
   },
   "outputs": [],
   "source": [
    "cacheManager.clearCache()\n",
    "callWithName(\"StorageLevel.DISK_ONLY_2\") {\n",
    "  orders.where(to_date($\"timestamp\") === to_date(lit(\"2023-03-07\"))).persist(StorageLevel.DISK_ONLY_2).take(1)\n",
    "}"
   ]
  },
  {
   "cell_type": "code",
   "execution_count": null,
   "id": "d7a8292a-0ec5-41f2-8dfb-b88cf0c6c8e5",
   "metadata": {},
   "outputs": [],
   "source": []
  }
 ],
 "metadata": {
  "kernelspec": {
   "display_name": "Scala 2.13",
   "language": "scala",
   "name": "scala213"
  },
  "language_info": {
   "codemirror_mode": "text/x-scala",
   "file_extension": ".sc",
   "mimetype": "text/x-scala",
   "name": "scala",
   "nbconvert_exporter": "script",
   "version": "2.13.11"
  },
  "toc-autonumbering": true
 },
 "nbformat": 4,
 "nbformat_minor": 5
}
