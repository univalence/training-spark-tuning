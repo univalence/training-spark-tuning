{
 "cells": [
  {
   "cell_type": "markdown",
   "id": "011b2c9b-841e-4491-a0d3-8c52fc5db772",
   "metadata": {},
   "source": [
    "# Introduction : observer les traitements\n",
    "\n",
    "Vous connaissez Apache Spark comme le moteur de calcul distribué et puissant qui est largement utilisé pour les traitements batch de données à grande échelle. Cependant, comme tout autre outil de traitement de données de cette envergure, la performance de Spark peut être grandement affectée par la façon dont vous configurez Spark, vous utilisez Spark et la façon dont vous gérez vos données au sein de Spark. Une configuration inadéquate, un mauvais choix d'opérations ou un mauvais choix de clé dans vos datasets peuvent conduire à des performances médiocres (par exemple, par sur-utilisation des disques et du réseau), voire à des échecs d'application (par exemple, en ramenant trop de données sur un nœud Spark, provoquant ainsi un _out of memory error_ ou _OOM_).\n",
    "\n",
    "Cette formation a pour de comprendre les mécanismes internes de Spark et d'apprendre à percevoir dans vos applications les parties qui pourraient être améliorées afin de gagner en temps de calcul.\n",
    "\n",
    "Dans ce notebook, nous allons commencer par mieux appréhender les outils de monitoring proposés par Spark (typiquement, Spark UI) et voir comment ces outils réagissent face à des opérations Spark SQL simples. Nous allons donc particulièrement nous intéresser aux plans d'exécution issue de différents types de requête."
   ]
  },
  {
   "cell_type": "markdown",
   "id": "2f010a32-63ab-49ba-a06c-2f54c2096d7f",
   "metadata": {
    "tags": []
   },
   "source": [
    "## Prélude\n",
    "\n",
    "Nous utilisons ici le moteur de notebook [Jupyter](https://jupyter.org/). Celui-ci a été développé en Python et fait partie des moteurs de notebook parmi les plus utilisés du moment (avec Databricks notebook, Zeppelin et Polynote).\n",
    "\n",
    "Jupyter se base sur des _kernels_ afin de faire fonctionner divers langages dans ses notebooks. Nous nous basons ici sur le _kernel_ [Almond](https://almond.sh/), qui utilise l'interpréteur Scala [Ammonite](https://ammonite.io/).\n",
    "\n",
    "👷 Exécuter les deux cellules suivantes."
   ]
  },
  {
   "cell_type": "code",
   "execution_count": null,
   "id": "9b374359-bdcc-4e36-85a5-08c6a7f82c27",
   "metadata": {
    "scrolled": true,
    "tags": []
   },
   "outputs": [],
   "source": [
    "import $ivy.`org.slf4j:slf4j-reload4j:2.0.6`\n",
    "import $ivy.`org.apache.logging.log4j:log4j-api:2.8.2`\n",
    "import $ivy.`org.apache.logging.log4j:log4j-slf4j-impl:2.8.2`\n",
    "\n",
    "// Avoid disturbing logs\n",
    "import org.apache.log4j._\n",
    "import org.apache.log4j.varia._\n",
    "BasicConfigurator.configure(NullAppender.getNullAppender())\n",
    "\n",
    "import $ivy.`org.apache.spark::spark-core:3.4.1`\n",
    "import $ivy.`org.apache.spark::spark-sql:3.4.1`"
   ]
  },
  {
   "cell_type": "code",
   "execution_count": null,
   "id": "5402fae0-d848-4c0b-b0e0-97ad85c3c757",
   "metadata": {
    "scrolled": true,
    "tags": []
   },
   "outputs": [],
   "source": [
    "import org.apache.spark.rdd._\n",
    "import org.apache.spark.sql._\n",
    "import org.apache.spark.sql.functions._\n",
    "import org.apache.spark.sql.types._\n",
    "\n",
    "val spark = {\n",
    "  NotebookSparkSession.builder()\n",
    "    .progress(enable = true, keep = true, useBars = false)\n",
    "    .master(\"local[*]\")\n",
    "    .appName(\"Spark tuning – Introduction\")\n",
    "    .getOrCreate()\n",
    "}\n",
    "\n",
    "import spark.implicits._\n",
    "val sparkContext = spark.sparkContext\n",
    "import $file.^.internal.spark_helper\n",
    "import spark_helper.implicits._"
   ]
  },
  {
   "cell_type": "markdown",
   "id": "c31fc021-6dbb-4bc4-843f-c61358dca72e",
   "metadata": {
    "tags": []
   },
   "source": [
    "## Analyse d'un chargement de fichier CSV\n",
    "\n",
    "Nous allons commencer par charger un fichier CSV et observer ce qu'il se passe dans Spark UI."
   ]
  },
  {
   "cell_type": "code",
   "execution_count": null,
   "id": "eff16d73-9022-4de0-b5cf-ffcf4910df27",
   "metadata": {
    "tags": []
   },
   "outputs": [],
   "source": [
    "%%data limit=10\n",
    "\n",
    "val orders: DataFrame =\n",
    "  spark.read\n",
    "    .option(\"header\", true)\n",
    "    .csv(\"data/orders.csv\")\n",
    "\n",
    "orders.printSchema()\n",
    "orders"
   ]
  },
  {
   "cell_type": "markdown",
   "id": "a599a3f3-ea25-489b-880b-cba3fee516b7",
   "metadata": {},
   "source": [
    "👀 **Ce qu'il faut voir** 👀\n",
    "\n",
    "Avant de basculer sur Spark UI, Spark (via Almond) fait apparaître deux tâches (done), avec un libellé du style `csv at cell...` ou `showHTML`. Ces tâches représentent en fait des jobs Spark.\n",
    "\n",
    "Ici, le premier job permet de récupérer le nom des colonnes du contenu du fichier CSV. En effet, nous n'avons rien précisé concernant la structure du fichier CSV à part qu'il contient un en-tête. Spark doit donc récupérer cet en-tête du fichier, afin de déterminer le nom des colonnes.\n",
    "\n",
    "Le second job est lancé par la commande `.showHTML` qui ajouté sur la dernière ligne de la cellule par `%%data`."
   ]
  },
  {
   "cell_type": "markdown",
   "id": "fad3d290-4fc2-4caf-bc4c-64f59592fde4",
   "metadata": {
    "tags": []
   },
   "source": [
    "## Spark UI\n",
    "\n",
    "* Allez dans Spark UI (`http://<hostname>:4040`)\n",
    "* Cliquez sur l'onglet \"SQL\"\n",
    "\n",
    "À ce niveau, vous allez voir 2 requêtes. La première (ID=0) est nommée \"csv...\" et la seconde (ID=1) est nommée \"show...\".\n",
    "    \n",
    "🤔 **Question** 🤔\n",
    "\n",
    " * Pour la requête 0, combien de lignes ont été extraites du fichier `orders.csv` ? Expliquez ce nombre.\n",
    " * Pour la requête 1, combien de lignes ont été extraites du fichier `orders.csv` ? Expliquez ce nombre.\n",
    "\n",
    "Note : le fichier contient environ 10 000 lignes."
   ]
  },
  {
   "cell_type": "markdown",
   "id": "7b4b2564-7210-4a3b-86bb-2c742d5cf3da",
   "metadata": {
    "tags": []
   },
   "source": [
    "### Plan d'exécution\n",
    "    \n",
    "Dans Spark UI, affichez le détail de la requête 1. En bas, de la page, cliquez sur `> Details`.\n",
    "    \n",
    "Dans l'encadré \"Details\", vous voyez apparaître les plans d'exécution de votre requête. 4 plans sont affichés :\n",
    "    \n",
    "* \"Parsed Logical Plan\" : c'est le plan d'exécution qui est issue directement de votre requête.\n",
    "* \"Analyzed Logical Plan\" : c'est à nouveau le plan de votre requête, mais avec la résolution des noms et des types.\n",
    "* \"Optimized Logical Plan\" : il s'agit d'une première optimisation de votre requête, sans considérer le support physique.\n",
    "* \"Physical Plan\" : il s'agit du plan qui sera effectivement exécuté. Il a été généré après une seconde optimisation prenant en compte le support physique.\n",
    "    \n",
    "Chacun des plans se lisent du bas vers le haut : la première opération du traitement se trouve en bas et la dernière opération du traitement se trouve en haut.\n",
    "\n",
    "🤔 **Question** 🤔\n",
    "\n",
    "Dans le plan physique, au niveau de l'opération,\n",
    "\n",
    "* Quel type d'opération est lancée en premier lieu ?\n",
    "* Remarquez la structure qui sera extraite de ce traitement."
   ]
  },
  {
   "cell_type": "markdown",
   "id": "bd9ed4e8-4fb1-412b-b091-6effbaced898",
   "metadata": {},
   "source": [
    "### Explain\n",
    "\n",
    "Une façon de voir le plan d'exécution, c'est d'utiliser la méthode `.explain()`."
   ]
  },
  {
   "cell_type": "code",
   "execution_count": null,
   "id": "1e33c4a9-ed82-4a9a-a579-35ad13aaf7f0",
   "metadata": {
    "tags": []
   },
   "outputs": [],
   "source": [
    "orders.explain()"
   ]
  },
  {
   "cell_type": "markdown",
   "id": "f3b2518d-0762-40c3-b1ee-36317d1f25ce",
   "metadata": {},
   "source": [
    "Il est possible d'utiliser ces options sous forme de chaîne de caractères sur la méthode `.explain()`\n",
    "\n",
    "* simple affiche uniquement le plan physique.\n",
    "* extended: affiche le plan logique et le plan physique.\n",
    "* codegen: affiche le plan physique et le code généré s'il est disponible.\n",
    "* cost: affiche le plan logique et les statistiques, si elles sont disponibles.\n",
    "* formatted: sépare la sortie en deux parties : une vue générale sur le plan physique et les détails de chacun des nœuds du plan."
   ]
  },
  {
   "cell_type": "code",
   "execution_count": null,
   "id": "57a8c601-365a-4bd3-8733-547d55b72753",
   "metadata": {
    "tags": []
   },
   "outputs": [],
   "source": [
    "orders.explain(\"formatted\")"
   ]
  },
  {
   "cell_type": "markdown",
   "id": "1ec174c2-2578-4ccf-a099-fe8e3799e212",
   "metadata": {},
   "source": [
    "### Explain ou Spark UI pour le plan d'exécution ?\n",
    "\n",
    "La méthode `.explain()` permet d'obtenir immédiatement dans un code diverses informations concernant une requête, sans avoir à rechercher l'URL de Spark UI. Cependant, `.explain()` a une limitation : `.explain()` vous fournira les informations qu'il pourra obtenir d'une requête avant son exécution. De fait, `.explain()` ne donnera pas le plan qui a été effectivement exécuté, en particulier, les temps intermédiaires d'exécution ou les dernières optimisations qui ont été apportées sur le plan physique, suite aux statistiques obtenues sur les données, ou les modifications liées au cache.\n",
    "\n",
    "De son côté, Spark UI offre la possibilité, une fois la requête exécutée, de voir\n",
    "* une représentation graphique du plan d'exécution (sous forme de DAG),\n",
    "* le plan physique optimisé,\n",
    "* le rattachement à des jobs Spark Core et les phases d'échange de données,\n",
    "* l'ensemble des caches utilisés.\n",
    "\n",
    "Par contre, sur de la données volumineuse, il faut attendre que le traitement soit fait pour avoir le plan d'exéction final avec les stats.\n",
    "\n",
    "Donc, `.explain()` est donc bien pour avoir rapidement une idée de ce que va faire une requête. Spark UI est bien pour voir dans le détail ce qu'il s'est réellement passé."
   ]
  },
  {
   "cell_type": "markdown",
   "id": "51b374cc-93fc-4bd1-a4c9-48de076e0bc3",
   "metadata": {
    "tags": []
   },
   "source": [
    "## Projection\n",
    "\n",
    "👷 Lancez la requête ci-dessous, qui effectue une projection des données sur une colonne, en utilisant `.select()`."
   ]
  },
  {
   "cell_type": "code",
   "execution_count": null,
   "id": "e0b58314-418d-4cac-a128-f37dd847e4e6",
   "metadata": {
    "tags": []
   },
   "outputs": [],
   "source": [
    "%%data limit=10\n",
    "\n",
    "orders\n",
    "  .select($\"product\")"
   ]
  },
  {
   "cell_type": "markdown",
   "id": "7b234b0b-9bc6-4789-9463-bdb8b395cbec",
   "metadata": {},
   "source": [
    "🤔 **Question** 🤔\n",
    "\n",
    "Dans le plan d'exécution associé à la requête ci-dessus,\n",
    "\n",
    "* Quelle structure de donnée est récupérée ?\n",
    "* Est-elle différente de celle extraite par la requête précédente ?"
   ]
  },
  {
   "cell_type": "markdown",
   "id": "ffddbd6b-5d19-4f18-8ed7-0b18418d8960",
   "metadata": {
    "tags": []
   },
   "source": [
    "## Filtre\n",
    "\n",
    "👷 Exécutez la requête ci-dessous, qui filtre les données avec `.where()."
   ]
  },
  {
   "cell_type": "code",
   "execution_count": null,
   "id": "813a9660-ffc9-42bf-b866-a98df176e0c8",
   "metadata": {
    "tags": []
   },
   "outputs": [],
   "source": [
    "%%data limit=10\n",
    "\n",
    "orders\n",
    "  .where($\"product\" === \"expresso\")"
   ]
  },
  {
   "cell_type": "markdown",
   "id": "e552c24b-73d7-42d4-a3ec-57b5bf143fcf",
   "metadata": {
    "tags": []
   },
   "source": [
    "🤔 **Question** 🤔\n",
    "\n",
    "Selon le plan physique de cette requête,\n",
    "\n",
    "* Quel est le filtre qui est appliqué sur les données ?\n",
    "* Combien de fois ce filtre apparaît dans le plan physique ?\n",
    "\n",
    "### Pushed down filters\n",
    "\n",
    "Lors de la lecture du fichier, nous pouvons voir que le filtre est aussi appliqué. C'est ce qu'indique le champ `PushedFilters`. Cette fonctionnalité est appelée _pushed down filters_. Elle consiste à appliquer les filtres que vous utilisez dans votre requête (haut niveau) au niveau du support physique (niveau bas). Cette fonctionnalité est surtout intéressante pour des sources de données comme les formats orientés colonnes (Parquet, ORC) ou les connexions JDBC, etc. Toutes les sources permettant de filtrer nativement les données.\n",
    "\n",
    "### WholeStageCodeGen\n",
    "\n",
    "Si vous regardez le DAG de la requête, vous voyez que l'opération Filter est inclu dans un nœud plus vaste, nommé `WholeStageCodegen`. Ce nœud indique que l'opération Filter a été convertie en code Java et qu'elle a été compilée au runtime avant d'être exécutée.\n",
    "\n",
    "Le `WholeStageCodegen` présente ces avantages :\n",
    "* Permettre de regrouper une série d'opérations en une seule par composition.\n",
    "* Utiliser implicitement les espaces mémoires off-heap, qui ne subit pas l'intervention du GC et dont les accès sont optimisés."
   ]
  },
  {
   "cell_type": "markdown",
   "id": "a7c4093e-3cd9-4895-b01c-6436145adeb0",
   "metadata": {
    "tags": []
   },
   "source": [
    "## Deux opérations en une\n",
    "\n",
    "👷 Exécutez la cellule ci-dessous et allez voir comment est interprétée cette requête dans Spark UI."
   ]
  },
  {
   "cell_type": "code",
   "execution_count": null,
   "id": "ba604312-301c-475d-bdf9-0a4e5e9274d9",
   "metadata": {
    "tags": []
   },
   "outputs": [],
   "source": [
    "%%data limit=10\n",
    "\n",
    "orders\n",
    "  .where($\"product\" === \"expresso\")\n",
    "  .select($\"client\", $\"price\" * 2)"
   ]
  },
  {
   "cell_type": "markdown",
   "id": "214c557e-a940-4528-8775-3d3ec64640de",
   "metadata": {
    "tags": []
   },
   "source": [
    "🤔 **Question** 🤔\n",
    "\n",
    "Est-ce que Spark a regroupé les 2 opérations de la requête ci-dessus en un seul bloque ?\n",
    "\n",
    "### Afficher le code généré\n",
    "\n",
    "Il est possible d'afficher le code généré par Spark.\n",
    "\n",
    "👷 Exécuter la cellule ci-dessous et allez voir au niveau de la ligne 71 dans le code généré."
   ]
  },
  {
   "cell_type": "code",
   "execution_count": null,
   "id": "aff7e160-83d6-4c23-88bf-558b8c00f084",
   "metadata": {
    "scrolled": true,
    "tags": []
   },
   "outputs": [],
   "source": [
    "orders\n",
    "  .where($\"product\" === \"expresso\")\n",
    "  .select($\"client\", $\"price\" * 2)\n",
    "  .explain(\"codegen\")"
   ]
  },
  {
   "cell_type": "markdown",
   "id": "e43632eb-75e6-490f-8f3d-77b14687ddea",
   "metadata": {
    "tags": []
   },
   "source": [
    "## Agrégation\n",
    "\n",
    "Nous avons vu jusque-là des opérations linéaires (filter, select). Nous allons maintenant voir une opération plus complexe : l'agrégation.\n",
    "\n",
    "L'agrégation consiste à composer une collection de valeur afin d'obtenir une valeur résultante unique. Typiquement, il peut s'agir de compter le nombre d'éléments dans cette collection, de faire la somme des valeurs contenues s'il s'agit de nombres, de calculer un prix total sur une commande, de déterminer le dernier événement à prendre en compte...\n",
    "\n",
    "Dans le cadre de Spark, la collection considérée est un dataframe. Le problème auquel nous faisons face avec Spark, c'est qu'un dataframe s'apparente à une collection dont les éléments sont éparpillés sur plusieurs machines, et donc executors. Pour effectuer une agrégation dans ce cas, il faut commencer par réaliser cette agrégation en local sur chaque executor, afin d'obtenir un résultat intermédiaire. Les différents résultats intermédiaires sont ensuite envoyés au driver qui terminera l'agrégation.\n",
    "\n",
    "👷 Nous allons voir ce que cela donne avec un simple `.count`."
   ]
  },
  {
   "cell_type": "code",
   "execution_count": null,
   "id": "aaf180e4-07f5-4dd5-b262-3e12fee96dce",
   "metadata": {
    "tags": []
   },
   "outputs": [],
   "source": [
    "orders.count"
   ]
  },
  {
   "cell_type": "markdown",
   "id": "9e0301a3-e60c-4112-ad1c-502d286fd7ca",
   "metadata": {},
   "source": [
    "Sur une agrégation de ce type, le plan d'exécution ne peut être vu que dans Spark UI.\n",
    "\n",
    "Dans Spark UI, nous pouvons remarquer que le plan physique est divisé en deux sous-plan :\n",
    "* \"Initial Plan\" : plan physique initialement calculé par Spark\n",
    "* \"Final Plan\" : il s'agit d'une révision du plan physique initial, après avoir pris en compte le volume des données.\n",
    "\n",
    "Dans le plan physique, nous voyons apparaître `AdaptiveSparkPlan isFinalPlan=true`. Ce qui signifie que lors de l'exécution de la requête, Spark a calculé d'après les volumétries à traiter qu'une optimisation était encore possible et qu'il l'a appliquée. Il s'agit de la mise en pratique de la fonctionnalité _Adaptive Query Execution_ (ou AQE), qui est une nouveauté de Spark 3.\n",
    "\n",
    "Dans le plan physique, nous pouvons voir les opérations suivantes :\n",
    "* `HashAggregate` : indique qu'une agrégation de données est effectuée par rapport aux clés indiquées dans les paramètres de l'opération, dont un hash est calculé. Ici, nous pouvons observer qu'aucune clé n'est utilisée. Dans les paramètres, nous pouvons observer aussi `partial_count(1)` pour la première agrégation (il s'agit d'une agrégation locale) et `count(1)` pour la seconde agrégation (il s'agit de l'agrégation finale).\n",
    "* `Exchange SinglePartition` : `Exchange` signifie que des données sont échangées entre plusieurs executors. `SinglePartition` indique que les données sont dans une seule partition. Il y a donc un échange de données dans une seule partition. Autrement dit, l'opération ne fait rien.\n",
    "* `ShuffleQueryStage` : il s'agit de la phase d'échange proprement. Cette opération est ajoutée aussi par la fonctionnalité AQE afin de permettre de dissocier les opérations aval des autres opérations et de permettre à Spark de changer de stratégie en fonction des volumétries observées."
   ]
  },
  {
   "cell_type": "markdown",
   "id": "4cf295de-3611-4305-8122-e4c0dbd404fa",
   "metadata": {},
   "source": [
    "#### Association avec Spark Core\n",
    "\n",
    "👷 Dans le haut de la page Spark UI, montrant les détails de la requête, vous avez un champ indiquant les jobs associés en succès. Il y en a deux. Cliquez sur celui le plus à droite.\n",
    "\n",
    "Dans la page qui vient de s'ouvrir, vous voyez apparaître le DAG vu par Spark Core. Il est divisé en deux parties. Chaque partie correspond à un _stage_. Un _stage_ est une suite d'opération Spark Core dans laquelle toutes les opérations se font en local dans l'executor. Dès qu'on sort d'un stage pour entrer dans un autre, il y a un échange de données qui s'effectue entre les executors.\n",
    "\n",
    "L'objectif est bien sûr d'avoir le moins de stage possible dans un traitement. En effet, un échange de données signifie une utilisation du réseau et une baisse des performances.\n",
    "\n",
    "Dans le DAG affiché dans Spark UI, nous pouvons voir que le stage de gauche est grisé et annoté _(skipped)_. C'est parce que le premier stage est en réalité effectué par le premier job de notre requête.\n",
    "\n"
   ]
  },
  {
   "cell_type": "markdown",
   "id": "a1d38ba7-50db-4c02-858a-4146d5f6e8b6",
   "metadata": {},
   "source": [
    "### Moyenne\n",
    "\n",
    "Voici une autre requête effectuant une agrégation au moyen cette fois de `.groupBy()` et de `.agg()`.\n",
    "\n",
    "La particularité ici par rapport à `.count`, c'est qu'à travers la méthode `.groupBy()`, nous déterminons une clé pour regrouper les valeurs. Ceci signifie que les données vont être redistribuées, afin que celles ayant la même clé se retrouvent au niveau du même executor. Une fois la redistribution faite, l'agrégation par clé peut se faire."
   ]
  },
  {
   "cell_type": "code",
   "execution_count": null,
   "id": "03f7796b-568b-40bb-9bb0-e62f011ceec3",
   "metadata": {
    "tags": []
   },
   "outputs": [],
   "source": [
    "%%data limit=10\n",
    "\n",
    "import org.apache.spark.sql.functions._\n",
    "\n",
    "orders\n",
    "  .groupBy($\"client\")\n",
    "  .agg(avg($\"price\") as \"avg_price\")"
   ]
  },
  {
   "cell_type": "markdown",
   "id": "66b4169f-40a2-4856-b016-d4ddd1485d04",
   "metadata": {},
   "source": [
    "🤔 **Question** 🤔\n",
    "\n",
    "* Quelles différences voyez-vous avec le plan d'exécution dans le cas du `.count` ?"
   ]
  },
  {
   "cell_type": "markdown",
   "id": "caa07d22-a81f-487d-9b34-b19b752cd62c",
   "metadata": {},
   "source": [
    "## Jointure\n",
    "\n",
    "Nous allons ce que donne le plan d'exécution dans le cadre d'une jointure.\n",
    "\n",
    "Pour cela, nous allons utiliser un fichier de correspondance entre les identifiants des clients et leur nom."
   ]
  },
  {
   "cell_type": "code",
   "execution_count": null,
   "id": "363d845b-4cd8-48a0-ad99-9a6e7b283c94",
   "metadata": {
    "tags": []
   },
   "outputs": [],
   "source": [
    "%%data limit=10\n",
    "\n",
    "val mapping = spark.read.option(\"header\", true).csv(\"data/client-mapping.csv\")\n",
    "\n",
    "mapping.printSchema()\n",
    "mapping"
   ]
  },
  {
   "cell_type": "markdown",
   "id": "93206a7f-057c-4969-b5e4-595f4b6a0559",
   "metadata": {},
   "source": [
    "Le code ci-dessous effectue une jointure entre nos deux dataframes.\n",
    "\n",
    "La jointure est une opération particulière qui implique de redistribuer sur le cluster les données, un peu comme pour l'agrégation. Mais pour la jointure, il existe divers stratégie que nous étudierons dans un prochain Notebook."
   ]
  },
  {
   "cell_type": "code",
   "execution_count": null,
   "id": "42f5c649-05b2-4585-964e-136db0fcf4d7",
   "metadata": {
    "tags": []
   },
   "outputs": [],
   "source": [
    "%%data limit=10\n",
    "\n",
    "orders\n",
    "  .join(mapping, $\"client\" === $\"clientId\")"
   ]
  },
  {
   "cell_type": "markdown",
   "id": "81e7ff26-6cfb-4b82-b311-7b6528b26473",
   "metadata": {},
   "source": [
    "🤔 **Question** 🤔\n",
    "* Comment est représentée la jointure dans le graphe dans Spark UI ?\n",
    "\n",
    "La notion de _broadcast_ implique l'idée de partir d'une valeur et de la copier telle quelle au niveau de l'ensemble des exécuteurs."
   ]
  },
  {
   "cell_type": "markdown",
   "id": "6c548c75-50bc-4b8d-9709-735a6bf0de66",
   "metadata": {},
   "source": [
    "## User-Defined Function (UDF)\n",
    "\n",
    "Nous allons voir maintenant l'effet d'une UDF sur le plan d'exécution.\n",
    "\n",
    "👷 Exécutez la cellule ci-dessous qui utilise les fonctions _builtins_ de Spark."
   ]
  },
  {
   "cell_type": "code",
   "execution_count": null,
   "id": "903f224d-0eb3-4297-81cc-1c0702702ea5",
   "metadata": {
    "tags": []
   },
   "outputs": [],
   "source": [
    "%%data limit=10\n",
    "\n",
    "val q1 = orders.withColumn(\"date\", to_date($\"timestamp\"))\n",
    "\n",
    "q1"
   ]
  },
  {
   "cell_type": "markdown",
   "id": "169a07cf-e160-48b8-8fd2-7424832a889c",
   "metadata": {},
   "source": [
    "👷 Exécutez la cellule ci-dessous qui définie et utilise une UDF."
   ]
  },
  {
   "cell_type": "code",
   "execution_count": null,
   "id": "9a6f3775-848a-4af0-a326-2e3d432a1fcd",
   "metadata": {
    "tags": []
   },
   "outputs": [],
   "source": [
    "%%data limit=10\n",
    "\n",
    "import org.apache.spark.sql.types._\n",
    "\n",
    "def toDate(timestamp: java.sql.Timestamp): java.sql.Date = {\n",
    "  java.sql.Date.valueOf(timestamp.toLocalDateTime().toLocalDate())\n",
    "}\n",
    "\n",
    "val toDate_udf = udf(toDate(_)).withName(\"toDate_udf\")\n",
    "\n",
    "val q2 = orders.withColumn(\"date\", toDate_udf($\"timestamp\"))\n",
    "\n",
    "q2"
   ]
  },
  {
   "cell_type": "markdown",
   "id": "901f4bf5-aaec-41bd-92cc-8f5335db2ef0",
   "metadata": {},
   "source": [
    "🤔 **Question** 🤔\n",
    "\n",
    "Selon le plan d'exécution de ces deux requêtes, quels différences apparaissent ?"
   ]
  },
  {
   "cell_type": "code",
   "execution_count": null,
   "id": "9e1354df-b4ee-4ced-b119-081c223632e4",
   "metadata": {
    "tags": []
   },
   "outputs": [],
   "source": [
    "q1.explain(\"formatted\")"
   ]
  },
  {
   "cell_type": "code",
   "execution_count": null,
   "id": "b8de20f8-27b0-43e8-afb5-6c526eeb66e0",
   "metadata": {
    "tags": []
   },
   "outputs": [],
   "source": [
    "q2.explain(\"codegen\")"
   ]
  },
  {
   "cell_type": "code",
   "execution_count": null,
   "id": "5796a1d1-9466-4e9f-ab3f-7000e3dc07a5",
   "metadata": {},
   "outputs": [],
   "source": []
  }
 ],
 "metadata": {
  "kernelspec": {
   "display_name": "Scala 2.13",
   "language": "scala",
   "name": "scala213"
  },
  "language_info": {
   "codemirror_mode": "text/x-scala",
   "file_extension": ".sc",
   "mimetype": "text/x-scala",
   "name": "scala",
   "nbconvert_exporter": "script",
   "version": "2.13.11"
  },
  "toc-autonumbering": true
 },
 "nbformat": 4,
 "nbformat_minor": 5
}
